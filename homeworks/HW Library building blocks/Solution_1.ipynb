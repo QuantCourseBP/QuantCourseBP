{
 "cells": [
  {
   "cell_type": "code",
   "execution_count": 1,
   "id": "84692af2",
   "metadata": {},
   "outputs": [
    {
     "name": "stdout",
     "output_type": "stream",
     "text": [
      "QuantCourseBP 9fa5452732377f1e2182bfe964f264a5dea84983*\n"
     ]
    }
   ],
   "source": [
    "import sys\n",
    "from pathlib import Path\n",
    "current = Path(Path().resolve())\n",
    "sys.path.append(str(current))\n",
    "sys.path.append(str(current.parents[1]))\n",
    "\n",
    "from enum import *\n",
    "from pricer import *"
   ]
  },
  {
   "cell_type": "markdown",
   "id": "cf30b9dc",
   "metadata": {},
   "source": [
    "## Nothing important here, just trying out things for myself..."
   ]
  },
  {
   "cell_type": "code",
   "execution_count": 2,
   "id": "cc42ab04",
   "metadata": {},
   "outputs": [],
   "source": [
    "# stock ~ BCB\n",
    "BCB_stock = Stock.BLUECHIP_BANK\n",
    "# free parameters\n",
    "K = 100.\n",
    "T = 0.5\n",
    "# for digital contract only\n",
    "pp = 1"
   ]
  },
  {
   "cell_type": "code",
   "execution_count": 3,
   "id": "2d51ca6c",
   "metadata": {},
   "outputs": [],
   "source": [
    "# my standard contract\n",
    "my_contract = EuropeanContract(BCB_stock, PutCallFwd.CALL, LongShort.LONG, strike = K, expiry = T) \n",
    "# my digital contract\n",
    "my_digital_contract_put = EuropeanDigitalContract(BCB_stock, PutCallFwd.PUT, LongShort.LONG, strike = K, expiry = T, \n",
    "                                              payout_percentage = pp)\n",
    "my_digital_contract_call = EuropeanDigitalContract(BCB_stock, PutCallFwd.CALL, LongShort.LONG, strike = K, expiry = T, \n",
    "                                              payout_percentage = pp)"
   ]
  },
  {
   "cell_type": "code",
   "execution_count": 4,
   "id": "9bbdc043",
   "metadata": {},
   "outputs": [],
   "source": [
    "# my market model\n",
    "my_model = MarketModel(BCB_stock)"
   ]
  },
  {
   "cell_type": "code",
   "execution_count": 5,
   "id": "de5033ad",
   "metadata": {},
   "outputs": [],
   "source": [
    "# my standard pricer\n",
    "my_pricer = EuropeanAnalyticPricer(my_contract, my_model, Params())\n",
    "# my digital pricer\n",
    "my_digital_pricer_put = EuropeanDigitalAnalyticPricer(my_digital_contract_put, my_model, Params())\n",
    "my_digital_pricer_call = EuropeanDigitalAnalyticPricer(my_digital_contract_call, my_model, Params())"
   ]
  },
  {
   "cell_type": "code",
   "execution_count": 6,
   "id": "27d318cc",
   "metadata": {},
   "outputs": [
    {
     "data": {
      "text/plain": [
       "34.82911996197002"
      ]
     },
     "execution_count": 6,
     "metadata": {},
     "output_type": "execute_result"
    }
   ],
   "source": [
    "my_pricer.calc_fair_value()"
   ]
  },
  {
   "cell_type": "code",
   "execution_count": 7,
   "id": "7e26608d",
   "metadata": {},
   "outputs": [
    {
     "data": {
      "text/plain": [
       "17.012426005913916"
      ]
     },
     "execution_count": 7,
     "metadata": {},
     "output_type": "execute_result"
    }
   ],
   "source": [
    "my_digital_pricer_put.calc_fair_value()"
   ]
  },
  {
   "cell_type": "code",
   "execution_count": 8,
   "id": "98e27717",
   "metadata": {},
   "outputs": [
    {
     "data": {
      "text/plain": [
       "80.51856519691934"
      ]
     },
     "execution_count": 8,
     "metadata": {},
     "output_type": "execute_result"
    }
   ],
   "source": [
    "my_digital_pricer_call.calc_fair_value()"
   ]
  },
  {
   "cell_type": "code",
   "execution_count": 9,
   "id": "f8f5ea2c",
   "metadata": {},
   "outputs": [
    {
     "data": {
      "text/plain": [
       "97.53099120283326"
      ]
     },
     "execution_count": 9,
     "metadata": {},
     "output_type": "execute_result"
    }
   ],
   "source": [
    "my_digital_pricer_call.calc_fair_value() + my_digital_pricer_put.calc_fair_value()"
   ]
  },
  {
   "cell_type": "code",
   "execution_count": 10,
   "id": "0666d3b2",
   "metadata": {},
   "outputs": [
    {
     "name": "stdout",
     "output_type": "stream",
     "text": [
      "PUT + CALL =  97.53099120283326\n",
      "pp * strike * df =  97.53099120283326\n"
     ]
    }
   ],
   "source": [
    "# check digital put-call parity (to be used in pytest)\n",
    "print(\"PUT + CALL = \", my_digital_pricer_call.calc_fair_value() + my_digital_pricer_put.calc_fair_value())\n",
    "print(\"pp * strike * df = \", pp  * K * my_model.calc_df(T))"
   ]
  },
  {
   "cell_type": "markdown",
   "id": "d0291a76",
   "metadata": {},
   "source": [
    "## Running pytest with new test of put-call parity for digital options"
   ]
  },
  {
   "cell_type": "code",
   "execution_count": 11,
   "id": "31ebf876",
   "metadata": {
    "scrolled": false
   },
   "outputs": [
    {
     "name": "stdout",
     "output_type": "stream",
     "text": [
      "\u001b[1m============================= test session starts =============================\u001b[0m\n",
      "platform win32 -- Python 3.9.13, pytest-7.4.2, pluggy-1.5.0\n",
      "rootdir: C:\\Users\\david\\Desktop\\PhD\\QUANT\\QuantCourseBP\\homeworks\\HW Library building blocks\n",
      "plugins: anyio-4.9.0\n",
      "collected 48 items\n",
      "\n",
      "test_pricer.py \u001b[32m.\u001b[0m\u001b[32m.\u001b[0m\u001b[32m.\u001b[0m\u001b[32m.\u001b[0m\u001b[32m.\u001b[0m\u001b[32m.\u001b[0m\u001b[32m.\u001b[0m\u001b[32m.\u001b[0m\u001b[32m.\u001b[0m\u001b[32m.\u001b[0m\u001b[32m.\u001b[0m\u001b[32m.\u001b[0m\u001b[32m.\u001b[0m\u001b[32m.\u001b[0m\u001b[32m.\u001b[0m\u001b[32m.\u001b[0m\u001b[32m.\u001b[0m\u001b[32m.\u001b[0m\u001b[32m.\u001b[0m\u001b[32m.\u001b[0m\u001b[32m.\u001b[0m\u001b[32m.\u001b[0m\u001b[32m.\u001b[0m\u001b[32m.\u001b[0m\u001b[32m.\u001b[0m\u001b[32m.\u001b[0m\u001b[32m.\u001b[0m\u001b[32m.\u001b[0m\u001b[32m.\u001b[0m\u001b[32m.\u001b[0m\u001b[32m.\u001b[0m\u001b[32m.\u001b[0m\u001b[32m.\u001b[0m\u001b[32m.\u001b[0m\u001b[32m.\u001b[0m\u001b[32m.\u001b[0m\u001b[32m.\u001b[0m\u001b[32m.\u001b[0m\u001b[32m.\u001b[0m\u001b[32m.\u001b[0m\u001b[32m.\u001b[0m\u001b[32m.\u001b[0m\u001b[32m.\u001b[0m\u001b[32m.\u001b[0m\u001b[32m.\u001b[0m\u001b[32m.\u001b[0m\u001b[32m.\u001b[0m\u001b[32m.\u001b[0m\u001b[32m          [100%]\u001b[0m\n",
      "\n",
      "\u001b[32m============================= \u001b[32m\u001b[1m48 passed\u001b[0m\u001b[32m in 0.91s\u001b[0m\u001b[32m ==============================\u001b[0m\n"
     ]
    }
   ],
   "source": [
    "# run pytest\n",
    "!pytest test_pricer.py"
   ]
  },
  {
   "cell_type": "code",
   "execution_count": null,
   "id": "ae2ebcce",
   "metadata": {},
   "outputs": [],
   "source": []
  }
 ],
 "metadata": {
  "kernelspec": {
   "display_name": "venv_quant_course_v39",
   "language": "python",
   "name": "venv_quant_course_v39"
  },
  "language_info": {
   "codemirror_mode": {
    "name": "ipython",
    "version": 3
   },
   "file_extension": ".py",
   "mimetype": "text/x-python",
   "name": "python",
   "nbconvert_exporter": "python",
   "pygments_lexer": "ipython3",
   "version": "3.9.13"
  }
 },
 "nbformat": 4,
 "nbformat_minor": 5
}
