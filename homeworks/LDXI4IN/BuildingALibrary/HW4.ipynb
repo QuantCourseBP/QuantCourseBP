{
 "cells": [
  {
   "cell_type": "markdown",
   "id": "f48a5b50",
   "metadata": {
    "slideshow": {
     "slide_type": "slide"
    }
   },
   "source": [
    "# Assignments - Digital options\n",
    "\n",
    "Create a new folder under <b>QuantCourseBP\\homeworks</b> and copy over the content of this lecture's solution folder to start with.\n",
    "\n",
    "1. Get familiar with digital options and implement EuropeanDigitalContract and EuropeanDigitalAnalyticPricer (fair value and greeks) in the library. Implement unit test for fair value using pytest. **(12 points)**\n",
    "2. Get familiar with bull spread options and by utilizing EuropeanDigitalAnalyticPricer and EuropeanAnalyticPricer, create a figure to visualize that a digital call option can be thought of as a limit of bull spread call options. **(8 points)**"
   ]
  },
  {
   "cell_type": "code",
   "execution_count": 31,
   "id": "ab9f68be",
   "metadata": {
    "slideshow": {
     "slide_type": "skip"
    }
   },
   "outputs": [],
   "source": [
    "# Add current folder and QuantCourseBP folder to syspath to import modules\n",
    "import sys\n",
    "from pathlib import Path\n",
    "current = Path(Path().resolve())\n",
    "sys.path.append(str(current))\n",
    "sys.path.append(str(current.parents[2]))\n",
    "\n",
    "from enum import *\n",
    "from pricer import *\n",
    "from test_pricer import *\n",
    "\n",
    "\n",
    "import matplotlib.pyplot as plt\n",
    "import numpy as np\n",
    "import datetime as dt"
   ]
  },
  {
   "cell_type": "markdown",
   "id": "4258fb49",
   "metadata": {},
   "source": [
    "Sample trade, testing"
   ]
  },
  {
   "cell_type": "code",
   "execution_count": 11,
   "id": "50a4268b",
   "metadata": {},
   "outputs": [],
   "source": [
    "marketmodel=MarketModel(\"BLUECHIP_BANK\")\n",
    "trade=EuropeanDigitalContract(\"BLUECHIP_BANK\", \"CALL\", \"LONG\", 80, 0.5)\n",
    "emptyparams=Params()\n",
    "pricer=EuropeanDigitalAnalyticPricer(trade, marketmodel, emptyparams)"
   ]
  },
  {
   "cell_type": "code",
   "execution_count": 6,
   "id": "cd6ae954",
   "metadata": {
    "slideshow": {
     "slide_type": "skip"
    }
   },
   "outputs": [
    {
     "data": {
      "text/plain": [
       "[0.5]"
      ]
     },
     "execution_count": 6,
     "metadata": {},
     "output_type": "execute_result"
    }
   ],
   "source": [
    "trade.get_timeline()"
   ]
  },
  {
   "cell_type": "code",
   "execution_count": 7,
   "id": "e88d6d82",
   "metadata": {
    "slideshow": {
     "slide_type": "skip"
    }
   },
   "outputs": [
    {
     "data": {
      "text/plain": [
       "1.0"
      ]
     },
     "execution_count": 7,
     "metadata": {},
     "output_type": "execute_result"
    }
   ],
   "source": [
    "trade.payoff({0.2: 50, 0.4:55, 0.5: 100, 0.9:120})"
   ]
  },
  {
   "cell_type": "code",
   "execution_count": 8,
   "id": "878f7fa2",
   "metadata": {
    "slideshow": {
     "slide_type": "skip"
    }
   },
   "outputs": [
    {
     "data": {
      "text/plain": [
       "0.0"
      ]
     },
     "execution_count": 8,
     "metadata": {},
     "output_type": "execute_result"
    }
   ],
   "source": [
    "trade.payoff({0.2: 50, 0.4:55, 0.5: 70, 0.9:120})"
   ]
  },
  {
   "cell_type": "code",
   "execution_count": 9,
   "id": "bfb21463",
   "metadata": {
    "slideshow": {
     "slide_type": "skip"
    }
   },
   "outputs": [
    {
     "data": {
      "text/plain": [
       "0.9374915931661664"
      ]
     },
     "execution_count": 9,
     "metadata": {},
     "output_type": "execute_result"
    }
   ],
   "source": [
    "pricer.calc_fair_value()"
   ]
  },
  {
   "cell_type": "code",
   "execution_count": 12,
   "id": "77735fa9",
   "metadata": {
    "slideshow": {
     "slide_type": "skip"
    }
   },
   "outputs": [
    {
     "data": {
      "text/plain": [
       "0.19838572198201357"
      ]
     },
     "execution_count": 12,
     "metadata": {},
     "output_type": "execute_result"
    }
   ],
   "source": [
    "pricer.calc_theta()"
   ]
  },
  {
   "cell_type": "code",
   "execution_count": 13,
   "id": "14d4c82b-1356-4446-9cfa-6dd5cac7fa21",
   "metadata": {
    "slideshow": {
     "slide_type": "skip"
    }
   },
   "outputs": [
    {
     "name": "stdout",
     "output_type": "stream",
     "text": [
      "\u001b[1m============================= test session starts =============================\u001b[0m\n",
      "platform win32 -- Python 3.10.11, pytest-7.4.2, pluggy-1.5.0\n",
      "rootdir: C:\\Users\\takac\\QuantCourseBP\\homeworks\\LDXI4IN\\BuildingALibrary\n",
      "plugins: anyio-4.8.0\n",
      "collected 48 items\n",
      "\n",
      "test_pricer.py \u001b[32m.\u001b[0m\u001b[32m.\u001b[0m\u001b[32m.\u001b[0m\u001b[32m.\u001b[0m\u001b[32m.\u001b[0m\u001b[32m.\u001b[0m\u001b[32m.\u001b[0m\u001b[32m.\u001b[0m\u001b[32m.\u001b[0m\u001b[32m.\u001b[0m\u001b[32m.\u001b[0m\u001b[32m.\u001b[0m\u001b[32m.\u001b[0m\u001b[32m.\u001b[0m\u001b[32m.\u001b[0m\u001b[32m.\u001b[0m\u001b[32m.\u001b[0m\u001b[32m.\u001b[0m\u001b[32m.\u001b[0m\u001b[32m.\u001b[0m\u001b[32m.\u001b[0m\u001b[32m.\u001b[0m\u001b[32m.\u001b[0m\u001b[32m.\u001b[0m\u001b[32m.\u001b[0m\u001b[32m.\u001b[0m\u001b[32m.\u001b[0m\u001b[32m.\u001b[0m\u001b[32m.\u001b[0m\u001b[32m.\u001b[0m\u001b[32m.\u001b[0m\u001b[32m.\u001b[0m\u001b[32m.\u001b[0m\u001b[32m.\u001b[0m\u001b[32m.\u001b[0m\u001b[32m.\u001b[0m\u001b[32m.\u001b[0m\u001b[32m.\u001b[0m\u001b[32m.\u001b[0m\u001b[32m.\u001b[0m\u001b[32m.\u001b[0m\u001b[32m.\u001b[0m\u001b[32m.\u001b[0m\u001b[32m.\u001b[0m\u001b[32m.\u001b[0m\u001b[32m.\u001b[0m\u001b[32m.\u001b[0m\u001b[32m.\u001b[0m\u001b[32m          [100%]\u001b[0m\n",
      "\n",
      "\u001b[32m============================= \u001b[32m\u001b[1m48 passed\u001b[0m\u001b[32m in 0.80s\u001b[0m\u001b[32m ==============================\u001b[0m\n"
     ]
    }
   ],
   "source": [
    "!pytest test_pricer.py"
   ]
  },
  {
   "cell_type": "markdown",
   "id": "72d538df",
   "metadata": {
    "slideshow": {
     "slide_type": "skip"
    }
   },
   "source": [
    "Bull spread"
   ]
  },
  {
   "cell_type": "code",
   "execution_count": 24,
   "id": "eec6d273-4ce8-47e2-ba9c-4330f902b709",
   "metadata": {
    "slideshow": {
     "slide_type": "skip"
    }
   },
   "outputs": [],
   "source": [
    "# calculating price for scaled bull spread option (using two calls)\n",
    "def scaled_bullspread_price(underlying, strike, eps, expiry):\n",
    "    trade1=EuropeanContract(underlying, \"CALL\", \"LONG\", strike, expiry)\n",
    "    trade2=EuropeanContract(underlying, \"CALL\", \"SHORT\", strike+eps, expiry)\n",
    "    quantity=1/eps # so that the difference in payoff between both option/none is ITM is exactly 1\n",
    "    price1=EuropeanAnalyticPricer(trade1, marketmodel, emptyparams).calc_fair_value()\n",
    "    price2=EuropeanAnalyticPricer(trade2, marketmodel, emptyparams).calc_fair_value()\n",
    "    return (price1+price2)*quantity"
   ]
  },
  {
   "cell_type": "code",
   "execution_count": 56,
   "id": "02baaf5c-8d5c-4fc1-bc52-775304d146c1",
   "metadata": {
    "slideshow": {
     "slide_type": "skip"
    }
   },
   "outputs": [],
   "source": [
    "# example data\n",
    "underlying=\"BLUECHIP_BANK\"\n",
    "strike=120\n",
    "expiry=0.5\n",
    "\n",
    "marketmodel=MarketModel(underlying)\n",
    "emptyparams=Params()"
   ]
  },
  {
   "cell_type": "code",
   "execution_count": 57,
   "id": "0b962e18",
   "metadata": {},
   "outputs": [],
   "source": [
    "digital=EuropeanDigitalContract(underlying, \"CALL\", \"LONG\", strike, expiry)\n",
    "digitalprice=EuropeanDigitalAnalyticPricer(digital, marketmodel, emptyparams).calc_fair_value()"
   ]
  },
  {
   "cell_type": "code",
   "execution_count": 58,
   "id": "56550a60",
   "metadata": {},
   "outputs": [],
   "source": [
    "eps=np.linspace(1, 0.01, 30)\n",
    "series=[scaled_bullspread_price(underlying, strike, i, expiry) for i in eps]"
   ]
  },
  {
   "cell_type": "code",
   "execution_count": 59,
   "id": "eab670b3",
   "metadata": {},
   "outputs": [
    {
     "data": {
      "text/plain": [
       "<matplotlib.legend.Legend at 0x20e7647b9a0>"
      ]
     },
     "execution_count": 59,
     "metadata": {},
     "output_type": "execute_result"
    },
    {
     "data": {
      "image/png": "[encoded data removed]",
      "text/plain": [
       "<Figure size 640x480 with 1 Axes>"
      ]
     },
     "metadata": {},
     "output_type": "display_data"
    }
   ],
   "source": [
    "plt.scatter(eps, series, label=\"bull spread option\")\n",
    "plt.scatter([0], [digitalprice], color=\"red\", label=\"digital option\")\n",
    "plt.xlabel(\"epsilon\")\n",
    "plt.ylabel(\"price\")\n",
    "plt.title(\"Convergence of scaled bull spread prices to digital price\")\n",
    "plt.legend()"
   ]
  },
  {
   "cell_type": "code",
   "execution_count": null,
   "id": "00c1771b",
   "metadata": {},
   "outputs": [],
   "source": []
  }
 ],
 "metadata": {
  "celltoolbar": "Slideshow",
  "kernelspec": {
   "display_name": "venv_quant_course_v39",
   "language": "python",
   "name": "venv_quant_course_v39"
  },
  "language_info": {
   "codemirror_mode": {
    "name": "ipython",
    "version": 3
   },
   "file_extension": ".py",
   "mimetype": "text/x-python",
   "name": "python",
   "nbconvert_exporter": "python",
   "pygments_lexer": "ipython3",
   "version": "3.10.11"
  }
 },
 "nbformat": 4,
 "nbformat_minor": 5
}
