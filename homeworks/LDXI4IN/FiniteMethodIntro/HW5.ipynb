{
 "cells": [
  {
   "cell_type": "code",
   "execution_count": 1,
   "id": "b4c028eb",
   "metadata": {},
   "outputs": [],
   "source": []
  },
  {
   "cell_type": "markdown",
   "id": "959b4e19",
   "metadata": {},
   "source": [
    "# Projects (30 pts):\n",
    "\n",
    "Suppose $S_1(t)$ and $S_2(t)$ are independent stock processes with equal volatility. $S_1(0)=S_2(0)=100.$,\n",
    "The contract at maturity pays the value of the most expensive stock: $V(T)=max_i\\{S_1(T),S_2(T)\\}.$, \n",
    "\n",
    "* What is the formula for the fair value of the contract, $V(0)$?,\n",
    "* Derive the partial differential equation for this contract,\n",
    "* Solve the resultant PDE using Finite Difference Method,\n",
    "* Compare the results obtained through solving the PDE with Monte Carlo Method  "
   ]
  },
  {
   "cell_type": "markdown",
   "id": "898992d7",
   "metadata": {},
   "source": [
    "# 1. Prices under Q measure:\n",
    "\n",
    "$$ dS_i = r S_i dt + \\sigma S_i dW_i, \\quad i=1,2 $$\n",
    "\n",
    "# 2. Option value at maturity:\n",
    "$$ V(S_1, S_2, T) = \\max(S_1, S_2) $$\n",
    "\n",
    "# 3. Itô-formulae:\n",
    "\\begin{equation}\n",
    "dV = \\left( \\frac{\\partial V}{\\partial t} + r S_1 \\frac{\\partial V}{\\partial S_1} + r S_2 \\frac{\\partial V}{\\partial S_2} + \\frac{1}{2} \\sigma^2 S_1^2 \\frac{\\partial^2 V}{\\partial S_1^2} + \\frac{1}{2} \\sigma^2 S_2^2 \\frac{\\partial^2 V}{\\partial S_2^2} \\right) dt\n",
    "\\end{equation}\n",
    "\\begin{equation}\n",
    "+ \\sigma S_1 \\frac{\\partial V}{\\partial S_1} dW_1 + \\sigma S_2 \\frac{\\partial V}{\\partial S_2} dW_2.\n",
    "\\end{equation}\n",
    "\n",
    "# 4. Using martingale property:\n",
    "The discounted price process of the derivative must be a matringale, this yields:\n",
    "\\begin{equation}\n",
    "\\frac{\\partial V}{\\partial t} + r S_1 \\frac{\\partial V}{\\partial S_1} + r S_2 \\frac{\\partial V}{\\partial S_2} + \\frac{1}{2} \\sigma^2 S_1^2 \\frac{\\partial^2 V}{\\partial S_1^2} + \\frac{1}{2} \\sigma^2 S_2^2 \\frac{\\partial^2 V}{\\partial S_2^2} = rV.\n",
    "\\end{equation}\n"
   ]
  },
  {
   "cell_type": "markdown",
   "id": "132ae831",
   "metadata": {},
   "source": [
    "# Explicit method\n",
    "\n",
    "We want to use explicit method as it is numerically less expensive and we have a 3D problem now. For that we apply backward difference for axis \"t\", and central difference for stocks. Let's assume we are at point $n+1$ in time.\n",
    "\n",
    "# $\\partial V / \\partial t$ backward\n",
    "\n",
    "\\begin{equation}\n",
    "\\frac{\\partial V}{\\partial t} \\approx \\frac{V^{n+1}_{i,j} - V^{n}_{i,j}}{\\Delta t}\n",
    "\\end{equation}\n",
    "\n",
    "# $\\partial V / \\partial S_i$ central\n",
    "\n",
    "\\begin{equation}\n",
    "\\frac{\\partial V}{\\partial S_1} \\approx \\frac{V^{n+1}_{i+1,j} - V^{n+1}_{i-1,j}}{2\\Delta S}\n",
    "\\end{equation}\n",
    "\n",
    "\\begin{equation}\n",
    "\\frac{\\partial V}{\\partial S_2} \\approx \\frac{V^{n+1}_{i,j+1} - V^{n+1}_{i,j-1}}{2\\Delta S}\n",
    "\\end{equation}\n",
    "\n",
    "# $\\partial^2 V / \\partial S_i^2$ central\n",
    "\\begin{equation}\n",
    "\\frac{\\partial^2 V}{\\partial S_1^2} \\approx \\frac{V^{n+1}_{i+1,j} - 2V^{n+1}_{i,j} + V^{n+1}_{i-1,j}}{\\Delta S^2}\n",
    "\\end{equation}\n",
    "\n",
    "\\begin{equation}\n",
    "\\frac{\\partial^2 V}{\\partial S_2^2} \\approx \\frac{V^{n+1}_{i,j+1} - 2V^{n+1}_{i,j} + V^{n+1}_{i,j-1}}{\\Delta S^2}\n",
    "\\end{equation}\n"
   ]
  },
  {
   "cell_type": "markdown",
   "id": "880b050a",
   "metadata": {},
   "source": [
    "# Substituting back to PDE:\n",
    "\n",
    "\\begin{equation}\n",
    "\\frac{V^{n+1}_{i,j} - V^{n}_{i,j}}{\\Delta t} + r S_1 \\frac{V^{n+1}_{i+1,j} - V^{n+1}_{i-1,j}}{2\\Delta S} + r S_2 \\frac{V^{n+1}_{i,j+1} - V^{n+1}_{i,j-1}}{2\\Delta S} + \n",
    "\\end{equation}\n",
    "\\begin{equation}\n",
    "+ \\frac{1}{2} \\sigma^2 S_1^2 \\frac{V^{n+1}_{i+1,j} - 2V^{n+1}_{i,j} + V^{n+1}_{i-1,j}}{\\Delta S^2} + \\frac{1}{2} \\sigma^2 S_2^2 \\frac{V^{n+1}_{i,j+1} - 2V^{n+1}_{i,j} + V^{n+1}_{i,j-1}}{\\Delta S^2} = rV^{n+1}_{i,j}\n",
    "\\end{equation}\n",
    "\n",
    "as we see there is only one variable with time \"n+1\". Solving for $V^n_{i,j}$ yields\n",
    "\n",
    "\\begin{equation}\n",
    "V^n_{i,j} = V^{n+1}_{i,j} - \\Delta t \\left[ r S_1 \\frac{V^{n+1}_{i+1,j} - V^{n+1}_{i-1,j}}{2\\Delta S} + r S_2 \\frac{V^{n+1}_{i,j+1} - V^{n+1}_{i,j-1}}{2\\Delta S} + \\right.\n",
    "\\end{equation}\n",
    "\\begin{equation}\n",
    "\\left. \\frac{1}{2} \\sigma^2 S_1^2 \\frac{V^{n+1}_{i+1,j} - 2V^{n+1}_{i,j} + V^{n+1}_{i-1,j}}{\\Delta S^2} + \\frac{1}{2} \\sigma^2 S_2^2 \\frac{V^{n+1}_{i,j+1} - 2V^{n+1}_{i,j} + V^{n+1}_{i,j-1}}{\\Delta S^2} - r V^{n+1}_{i,j} \\right]\n",
    "\\end{equation}\n",
    "\n",
    "We can iterate through time backwards and with a simple for cycle calculate these values from the previous layer."
   ]
  },
  {
   "cell_type": "markdown",
   "id": "704e162d",
   "metadata": {},
   "source": [
    "Chosen parameters:\n",
    "- r=5%\n",
    "- $\\sigma$ = 20%\n",
    "- T=7/365 (one week)\n",
    "\n",
    "We need to choose discretization parameters so that stability holds."
   ]
  },
  {
   "cell_type": "code",
   "execution_count": 1,
   "id": "5b8321fa",
   "metadata": {},
   "outputs": [],
   "source": [
    "from typing import Callable\n",
    "import numpy as np\n",
    "import matplotlib.pyplot as plt"
   ]
  },
  {
   "cell_type": "code",
   "execution_count": 70,
   "id": "9b63f81f",
   "metadata": {},
   "outputs": [],
   "source": [
    "def initialize_grid(M, N, T, S1,S2, r, sigma):\n",
    "    dS = 2*max(S2,S2) / (M-1)\n",
    "    S_max=2*max(S2,S2)\n",
    "    dt = T / (N-1)\n",
    "    V = np.zeros((N, M, M))\n",
    "    \n",
    "    S1_grid = np.linspace(0, S_max, M)\n",
    "    S2_grid = np.linspace(0, S_max, M)\n",
    "    t_grid = np.linspace(0, T, N)\n",
    "    \n",
    "    for i in range(N):\n",
    "        for j in range(M):\n",
    "            V[i, 0,  j] = S2_grid[j]\n",
    "            V[i, -1, j] = S1_grid[-1]\n",
    "            V[i, j,  0] = S1_grid[j]\n",
    "            V[i, j, -1] = S2_grid[-1]\n",
    "    \n",
    "    for i in range(M):\n",
    "        for j in range(M):\n",
    "            V[-1, i, j] = max(S1_grid[i], S2_grid[j])\n",
    "    \n",
    "    return (V, dS, dt, r, sigma,S1,S2)\n",
    "\n",
    "V = initialize_grid(50, 20000, 7/365, 100,100, 0.05, 0.2)"
   ]
  },
  {
   "cell_type": "code",
   "execution_count": 71,
   "id": "739cacb6",
   "metadata": {},
   "outputs": [],
   "source": [
    "def solve_pde(gridpack):\n",
    "    grid=gridpack[0]\n",
    "    dims=grid.shape\n",
    "    N=dims[0]\n",
    "    M=dims[1]\n",
    "    delta_t=gridpack[2]\n",
    "    delta_S=gridpack[1]\n",
    "    S1=grid[-1, :, 0]\n",
    "    S2=grid[-1, 0, :]\n",
    "    #print(S1)\n",
    "    #print(S2)\n",
    "    S1now=gridpack[5]\n",
    "    S2now=gridpack[6]\n",
    "    r=gridpack[3]\n",
    "    sigma=gridpack[4]\n",
    "    for i in range(N-2, -1, -1):\n",
    "        for j in range(1, M-1):\n",
    "            for k in range(1, M-1):\n",
    "                grid[i, j, k] = max(0, grid[i+1, j, k] - delta_t * ( \\\n",
    "                r * S1[j] * (grid[i+1, j+1, k] - grid[i+1, j-1, k]) / (2 * delta_S) + \\\n",
    "                r * S2[k] * (grid[i+1, j, k+1] - grid[i+1, j, k-1]) / (2 * delta_S) + \\\n",
    "                0.5 * sigma**2 * S1[j]**2 * (grid[i+1, j+1, k] - 2*grid[i+1, j, k] + grid[i+1, j-1, k]) / (delta_S**2) + \\\n",
    "                0.5 * sigma**2 * S2[k]**2 * (grid[i+1, j, k+1] - 2*grid[i+1, j, k] + grid[i+1, j, k-1]) / (delta_S**2) - \\\n",
    "                r * grid[i+1, j, k] ))\n",
    "    \n",
    "    #return grid\n",
    "    # interpolation for initial S1, S2\n",
    "    j = np.searchsorted(S1, S1now) - 1\n",
    "    k = np.searchsorted(S2, S2now) - 1\n",
    "\n",
    "    j = max(1, min(len(S1)-2, j))\n",
    "    k = max(1, min(len(S2)-2, k)) \n",
    "    V11 = grid[0, j, k]\n",
    "    V12 = grid[0, j, k+1]\n",
    "    V21 = grid[0, j+1, k]\n",
    "    V22 = grid[0, j+1, k+1]\n",
    "\n",
    "    V1 = V11 + (S1now - S1[j]) / (S1[j+1] - S1[j]) * (V21 - V11)\n",
    "    V2 = V12 + (S1now - S1[j]) / (S1[j+1] - S1[j]) * (V22 - V12)\n",
    "\n",
    "    value = V1 + (S2now - S2[k]) / (S2[k+1] - S2[k]) * (V2 - V1)\n",
    "\n",
    "    return value\n"
   ]
  },
  {
   "cell_type": "code",
   "execution_count": 72,
   "id": "43c1af33",
   "metadata": {},
   "outputs": [
    {
     "data": {
      "text/plain": [
       "99.76690907818923"
      ]
     },
     "execution_count": 72,
     "metadata": {},
     "output_type": "execute_result"
    }
   ],
   "source": [
    "res=solve_pde(V)\n",
    "res"
   ]
  },
  {
   "cell_type": "markdown",
   "id": "48f92ed6",
   "metadata": {},
   "source": [
    "# Monte Carlo benchmark"
   ]
  },
  {
   "cell_type": "code",
   "execution_count": 56,
   "id": "251de227",
   "metadata": {},
   "outputs": [],
   "source": [
    "def monte_carlo(S1, S2, T, sig1, sig2, r, n=1000, conf=False):\n",
    "    corr=0\n",
    "    N1=np.random.normal(0, 1, n)\n",
    "    N2=np.random.normal(0, 1, n)\n",
    "    B1=N1\n",
    "    B2=N1*corr+np.sqrt(1-corr**2)*N2\n",
    "    ST1=S1*np.exp((r-0.5*sig1**2)*T+sig1*B1*np.sqrt(T))\n",
    "    ST2=S2*np.exp((r-0.5*sig2**2)*T+sig2*B2*np.sqrt(T))\n",
    "\n",
    "    value_T=np.maximum(ST1,ST2)\n",
    "\n",
    "    price=np.mean(value_T)*np.exp(-r*T)\n",
    "    if conf==False:\n",
    "        return price\n",
    "    else:\n",
    "        std_error=np.std(value_T)*np.exp(-r*T)/np.sqrt(n)\n",
    "        inf=[price-1.96*std_error, price+1.96*std_error]\n",
    "        return [price, *inf]"
   ]
  },
  {
   "cell_type": "code",
   "execution_count": 69,
   "id": "fe108d9d",
   "metadata": {},
   "outputs": [
    {
     "data": {
      "text/plain": [
       "101.65286846117336"
      ]
     },
     "execution_count": 69,
     "metadata": {},
     "output_type": "execute_result"
    }
   ],
   "source": [
    "monte_carlo(100,100,7/365,0.2,0.2,0.05)"
   ]
  },
  {
   "cell_type": "markdown",
   "id": "e2721d11",
   "metadata": {},
   "source": [
    "The price is close for the given parameters. The asset price discretization should be denser, but for that N needs to be increased to achieve stability. "
   ]
  },
  {
   "cell_type": "code",
   "execution_count": null,
   "id": "eeda448a",
   "metadata": {},
   "outputs": [],
   "source": []
  }
 ],
 "metadata": {
  "kernelspec": {
   "display_name": "venv_quant_course_v39",
   "language": "python",
   "name": "venv_quant_course_v39"
  },
  "language_info": {
   "codemirror_mode": {
    "name": "ipython",
    "version": 3
   },
   "file_extension": ".py",
   "mimetype": "text/x-python",
   "name": "python",
   "nbconvert_exporter": "python",
   "pygments_lexer": "ipython3",
   "version": "3.10.11"
  }
 },
 "nbformat": 4,
 "nbformat_minor": 5
}
