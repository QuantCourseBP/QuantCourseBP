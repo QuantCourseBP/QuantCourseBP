{
 "cells": [
  {
   "cell_type": "markdown",
   "id": "e73630d9",
   "metadata": {
    "slideshow": {
     "slide_type": "slide"
    }
   },
   "source": [
    "<h3><center>Introduction to building a quant pricing library</center></h3>\n",
    "<h1><center>Option Pricing by Partial Differential Equation using OOP</center></h1>\n",
    "<h3><center>Abdulwahab, Animoku</center></h3>\n",
    "<h4><center>30 October, 2024</center></h4>\n",
    "\n"
   ]
  },
  {
   "cell_type": "markdown",
   "id": "73423803",
   "metadata": {
    "slideshow": {
     "slide_type": "slide"
    }
   },
   "source": [
    "## Option Pricing by PDE\n",
    "\n",
    "<b>Goal of option pricing via PDE:<b>\n",
    "\n",
    "* Use the Black Scholes PDE to price European Contract\n",
    "* Use  different discretization scheme to achieve better results\n",
    "* Compare the solution to the Analytical Pricer\n",
    "* Price American Option with PDE method\n",
    "\n",
    "\n",
    "<b>Extension<b>\n",
    "* Calculate Greeks based on the different Schemes\n",
    "* Extend PDE pricing scheme to Forward<b>"
   ]
  },
  {
   "cell_type": "markdown",
   "id": "4b44fab1",
   "metadata": {
    "slideshow": {
     "slide_type": "slide"
    }
   },
   "source": [
    "# Steps to achieve our Objectives\n",
    "* Create Market Model\n",
    "* Create European Contract using market inputs (underlying, Call/Put, Long/Short, strike, expiry)\n",
    "* Create PDEParams using $dS, dt, S_{min_{multiplier}}, S_{max_{multiplier}} $ and method (implicit, explicit, CrankNicolson) as inputs\n",
    "* Create EuropeanPDEPricer using the contract, model and PDEParams\n",
    "* Calculate FV\n",
    "* Visualize the Call and Put prices in 2D"
   ]
  },
  {
   "cell_type": "code",
   "execution_count": 1,
   "id": "33ca1c35",
   "metadata": {
    "slideshow": {
     "slide_type": "skip"
    }
   },
   "outputs": [],
   "source": [
    "import matplotlib.pyplot as plt\n",
    "\n",
    "to_plot = [ {'data': [[0]*6, list(range(6))],\n",
    "             'color':'r',\n",
    "             'title':'Our interests'},\n",
    "           {'data': [list(range(6))+[5]*6+list(range(6)), [0]*6+list(range(6))+[5]*6],\n",
    "            'color' : 'g',\n",
    "            'title' : 'Boundary and initial conditions'\n",
    "           },] + [\n",
    "           {'data': [[i]*6, list(range(6))],\n",
    "            'color' : 'g',\n",
    "            'title' : f'Step {5-i}'\n",
    "           } for i in range(4,-1,-1)]\n",
    "           \n",
    "\n",
    "def my_illustration_plot(to_plot):\n",
    "    fig,ax = plt.subplots(1)\n",
    "    for x in to_plot:\n",
    "        plt.scatter(*x['data'], s=300, c=x['color'])\n",
    "        plt.title(x['title'])\n",
    "#         plt.axis('on')\n",
    "        plt.xlim(-1,6)\n",
    "    ax.set_xticks([])\n",
    "    ax.set_yticks([])\n",
    "    plt.xlabel(\"Time\")\n",
    "    plt.ylabel(\"Stock\")\n",
    "    plt.show()\n",
    "    "
   ]
  },
  {
   "cell_type": "code",
   "execution_count": 2,
   "id": "285dd78f",
   "metadata": {
    "slideshow": {
     "slide_type": "slide"
    }
   },
   "outputs": [
    {
     "data": {
      "image/png": "[encoded data removed]",
      "text/plain": [
       "<Figure size 432x288 with 1 Axes>"
      ]
     },
     "metadata": {},
     "output_type": "display_data"
    }
   ],
   "source": [
    "my_illustration_plot(to_plot[:6])"
   ]
  },
  {
   "cell_type": "markdown",
   "id": "35c5862f",
   "metadata": {
    "slideshow": {
     "slide_type": "slide"
    }
   },
   "source": [
    "## Call and Put Option Pricing for European Options via PDE\n",
    "\n",
    "Recall that the value $V$ of a Europoean option at time $t$, written on an underlying asset with price $S,$ satisfies the Black-Scholes equation\n",
    "  $$ \\frac{\\delta V}{\\delta t} + \\frac{1}{2}\\sigma^2 S^2\\frac{\\delta V^2}{\\delta S^2} + rS \\frac{\\delta V}{\\delta S} - rV =0,$$\n",
    " \n",
    "with suitable terminal and boundary conditions:\n",
    "$$V_C(S,T) = \\max \\{S-K,0 \\}$$\n",
    "$$V_P(S,T) = \\max \\{K-S,0 \\}.$$\n",
    "$$V_C(S_{\\min}, t) = 0, V_C(S_{\\max}, t) = S_{\\max}- Ke^{-r(T-t)}, $$\n",
    "$$V_P(S_{\\max}, t) = 0, V_P(S_{\\min}, t) = Ke^{-r(T-t)}-S_{\\min}. $$"
   ]
  },
  {
   "cell_type": "code",
   "execution_count": 5,
   "id": "d852295c",
   "metadata": {
    "slideshow": {
     "slide_type": "slide"
    }
   },
   "outputs": [],
   "source": [
    "# Add current folder and QuantCourseBP folder to syspath to import modules\n",
    "import sys\n",
    "from pathlib import Path\n",
    "import numpy as np\n",
    "import matplotlib.pyplot as plt\n",
    "\n",
    "current = Path(Path().resolve())\n",
    "sys.path.append(str(current))\n",
    "sys.path.append(str(current.parents[2]))\n",
    "\n",
    "from src.enums import *\n",
    "from src.utils import *\n",
    "from src.market_data import *\n",
    "from src.pricer import *\n",
    "# Make charts interactive\n",
    "%matplotlib notebook\n",
    "\n",
    "# Initialize market data\n",
    "MarketData.initialize()"
   ]
  },
  {
   "cell_type": "markdown",
   "id": "e6a55854-19de-44e6-8092-ab65c93ec9f8",
   "metadata": {
    "slideshow": {
     "slide_type": "skip"
    }
   },
   "source": [
    "# Utility function"
   ]
  },
  {
   "cell_type": "code",
   "execution_count": 6,
   "id": "7b445d7e-4060-42d3-9cc2-ee6150a296c4",
   "metadata": {
    "slideshow": {
     "slide_type": "skip"
    }
   },
   "outputs": [],
   "source": [
    "\"\"\"The pricing function of European call option\"\"\"\n",
    "def black_scholes_eur_call(spot, time_to_mat,sigma, strike, rate):\n",
    "    d1_vec = ( np.log( spot / strike ) + ( rate + 0.5 * sigma**2 ) * time_to_mat ) / ( sigma * time_to_mat**0.5 )\n",
    "    d2_vec = d1_vec - sigma * time_to_mat**0.5\n",
    "\n",
    "    N_d1_vec = norm.cdf(d1_vec)\n",
    "    N_d2_vec = norm.cdf(d2_vec)\n",
    "\n",
    "    return N_d1_vec * spot - strike * np.exp((-1.0)*rate*time_to_mat) * N_d2_vec"
   ]
  },
  {
   "cell_type": "markdown",
   "id": "3d79e478-f3ec-4413-962d-fe0c08759c2c",
   "metadata": {
    "slideshow": {
     "slide_type": "slide"
    }
   },
   "source": [
    "# Create Test Example Contracts"
   ]
  },
  {
   "cell_type": "code",
   "execution_count": 27,
   "id": "13a9b0e1",
   "metadata": {
    "slideshow": {
     "slide_type": "slide"
    }
   },
   "outputs": [],
   "source": [
    "und = Stock.TEST_COMPANY\n",
    "expiry = 2.0\n",
    "strike = 0.95 * MarketData.get_spot()[und]\n",
    "ls = LongShort.LONG"
   ]
  },
  {
   "cell_type": "code",
   "execution_count": 28,
   "id": "74021d63",
   "metadata": {
    "slideshow": {
     "slide_type": "slide"
    }
   },
   "outputs": [
    {
     "name": "stdout",
     "output_type": "stream",
     "text": [
      "FairValues:[23.60627624868423, 19.558965822125977, 9.565830962100371, 5.518520535542123]\n"
     ]
    }
   ],
   "source": [
    "derivative_type = [PutCallFwd.CALL, PutCallFwd.PUT]\n",
    "model_types = [BSVolModel(und), FlatVolModel(und)]\n",
    "\n",
    "contracts=[EuropeanContract(und, deriv_type, ls, strike, expiry) for deriv_type in derivative_type]\n",
    "analytic_pricer = [EuropeanAnalyticPricer(contract, model_type, Params()) for contract in contracts for model_type in model_types]\n",
    "analytical_fv= [pricer.calc_fair_value() for pricer in analytic_pricer]\n",
    "\n",
    "print(f\"FairValues:{analytical_fv}\")"
   ]
  },
  {
   "cell_type": "markdown",
   "id": "96c64362-2071-4ae9-9ecd-f77a48f3e02f",
   "metadata": {
    "slideshow": {
     "slide_type": "slide"
    }
   },
   "source": [
    "# Example with Explicit Method"
   ]
  },
  {
   "cell_type": "markdown",
   "id": "4c274202-f4c6-48f1-a462-5771f99bdb83",
   "metadata": {
    "slideshow": {
     "slide_type": "subslide"
    }
   },
   "source": [
    "* Create European Contract\n",
    "* Create Market Model\n",
    "* Create PDEParam\n",
    "* Create EuropeanPDEPricer\n",
    "* Calculate FV based on Explicit method\n",
    "* Visualize the Call or Put prices in 2D "
   ]
  },
  {
   "cell_type": "code",
   "execution_count": 29,
   "id": "a40b9098-5906-4395-8b46-b136f3f904cf",
   "metadata": {
    "slideshow": {
     "slide_type": "slide"
    }
   },
   "outputs": [],
   "source": [
    "params_exp = PDEParams(method = BSPDEMethod.EXPLICIT)\n",
    "\n",
    "pde_exp_pricer = [EuropeanPDEPricer(contract, model_type, params_exp) for contract in contracts for model_type in model_types]\n",
    "pde_exp_fv= [pricer.calc_fair_value() for pricer in pde_exp_pricer]\n",
    "\n",
    "# pde_exp_pricer = [GenericPDEPricer(contract, model_type, params_exp) for contract in contracts for model_type in model_types]\n",
    "# pde_exp_fv= [pricer.calc_fair_value() for pricer in pde_exp_pricer]\n"
   ]
  },
  {
   "cell_type": "code",
   "execution_count": 30,
   "id": "5e66d3a6-5dc5-4c9b-b298-d43053bdf139",
   "metadata": {
    "slideshow": {
     "slide_type": "slide"
    }
   },
   "outputs": [
    {
     "name": "stdout",
     "output_type": "stream",
     "text": [
      "PDE Explicit method FairValues:[23.604447307816308, 19.559315913934707, 9.563828924282564, 5.518692809208318]\n",
      "Analytical method FairValues:[23.60627624868423, 19.558965822125977, 9.565830962100371, 5.518520535542123]\n"
     ]
    }
   ],
   "source": [
    "print(f\"PDE Explicit method FairValues:{pde_exp_fv}\")\n",
    "print(f\"Analytical method FairValues:{analytical_fv}\")"
   ]
  },
  {
   "cell_type": "code",
   "execution_count": 31,
   "id": "5ef1030b-a7bf-4917-a34e-bd5d7c81e30d",
   "metadata": {
    "slideshow": {
     "slide_type": "slide"
    }
   },
   "outputs": [
    {
     "name": "stdout",
     "output_type": "stream",
     "text": [
      "Error between the Analytical and PDE Explicit method FairValues:['-0.0077%', '0.0018%', '-0.0209%', '0.0031%']\n"
     ]
    }
   ],
   "source": [
    "Errors = [f\"{(price1-price2)/price1 *100:.4f}%\" for price1, price2 in zip(pde_exp_fv, analytical_fv)]\n",
    "print(f\"Error between the Analytical and PDE Explicit method FairValues:{Errors}\")"
   ]
  },
  {
   "cell_type": "markdown",
   "id": "996821e2",
   "metadata": {
    "slideshow": {
     "slide_type": "slide"
    }
   },
   "source": [
    "# Attributes needed to create visualization"
   ]
  },
  {
   "cell_type": "code",
   "execution_count": 32,
   "id": "f2688711-d0e8-4cef-aab5-3de9a3d0ad10",
   "metadata": {
    "slideshow": {
     "slide_type": "slide"
    }
   },
   "outputs": [],
   "source": [
    "und_step = pde_exp_pricer[0].und_step\n",
    "time_step = pde_exp_pricer[0].time_step\n",
    "s_min= pde_exp_pricer[0].stock_min\n",
    "s_max=pde_exp_pricer[0].stock_max\n",
    "sigma = pde_exp_pricer[0].bsPDE.sigma\n",
    "spot = pde_exp_pricer[0].initial_spot\n",
    "rate = pde_exp_pricer[0].interest_rate\n",
    "num_of_und_steps = pde_exp_pricer[0].bsPDE.num_of_und_steps"
   ]
  },
  {
   "cell_type": "markdown",
   "id": "96f99358",
   "metadata": {
    "slideshow": {
     "slide_type": "slide"
    }
   },
   "source": [
    "# Plot the graph for the first contract for different S values"
   ]
  },
  {
   "cell_type": "code",
   "execution_count": 33,
   "id": "fe74b9ff-e3e2-4c10-807f-a41b6cb2ccbf",
   "metadata": {
    "slideshow": {
     "slide_type": "slide"
    }
   },
   "outputs": [
    {
     "data": {
      "image/png": "[encoded data removed]",
      "text/plain": [
       "<Figure size 432x288 with 1 Axes>"
      ]
     },
     "metadata": {
      "needs_background": "light"
     },
     "output_type": "display_data"
    }
   ],
   "source": [
    "import matplotlib.pyplot as plt\n",
    "sol_exp = pde_exp_pricer[0].grid[:,1]\n",
    "Spots = np.linspace(s_min + und_step, s_max, num_of_und_steps+1)\n",
    "\n",
    "%matplotlib inline\n",
    "plt.plot(Spots, sol_exp, \"x-\", label=\"Explicit\")\n",
    "plt.plot(Spots, black_scholes_eur_call(Spots, expiry, sigma, strike, rate), label=\"Analytical\")\n",
    "\n",
    "plt.xlim(0, s_max)\n",
    "plt.ylim(0,s_max)\n",
    "plt.legend()\n",
    "plt.show()"
   ]
  },
  {
   "cell_type": "markdown",
   "id": "d5d4de47",
   "metadata": {
    "slideshow": {
     "slide_type": "slide"
    }
   },
   "source": [
    "# Example with Non-Convergence with Explicit Params"
   ]
  },
  {
   "cell_type": "code",
   "execution_count": 34,
   "id": "cc2ab1b3",
   "metadata": {
    "slideshow": {
     "slide_type": "slide"
    }
   },
   "outputs": [
    {
     "name": "stderr",
     "output_type": "stream",
     "text": [
      "C:\\git\\BMECourse2024\\src\\numerical_method.py:177: RuntimeWarning: overflow encountered in double_scalars\n",
      "  self.grid[i, j] = alpha[i] * self.grid[i - 1, j + 1] + beta[i] * self.grid[i, j + 1] + gamma[i] \\\n",
      "C:\\git\\BMECourse2024\\src\\numerical_method.py:177: RuntimeWarning: invalid value encountered in double_scalars\n",
      "  self.grid[i, j] = alpha[i] * self.grid[i - 1, j + 1] + beta[i] * self.grid[i, j + 1] + gamma[i] \\\n"
     ]
    }
   ],
   "source": [
    "params_exp = PDEParams(und_step = 0.01, time_step=0.001, method = BSPDEMethod.EXPLICIT)\n",
    "\n",
    "pde_exp_pricer = EuropeanPDEPricer(contracts[0], model_types[0], params_exp) \n",
    "pde_exp_fv= pde_exp_pricer.calc_fair_value()\n"
   ]
  },
  {
   "cell_type": "code",
   "execution_count": 15,
   "id": "b4800ab9",
   "metadata": {
    "slideshow": {
     "slide_type": "slide"
    }
   },
   "outputs": [
    {
     "name": "stdout",
     "output_type": "stream",
     "text": [
      "PDE Explicit method FairValues:[23.604447307816308, 19.559315913934707, 9.563828924282564, 5.518692809208318]\n"
     ]
    }
   ],
   "source": [
    "print(f\"PDE Explicit method FairValues:{pde_exp_fv}\")"
   ]
  },
  {
   "cell_type": "markdown",
   "id": "97028202-7104-48eb-bd7a-3fdbb85875a6",
   "metadata": {
    "slideshow": {
     "slide_type": "slide"
    }
   },
   "source": [
    "# Example with Implicit Method\n",
    "\n",
    "* Create European Contract\n",
    "* Create Market Model\n",
    "* Create PDEParams\n",
    "* Create EuropeanPDEPricer\n",
    "* Calculate FV based on Implicit method\n",
    "* Visualize the Call or Put prices in 2D"
   ]
  },
  {
   "cell_type": "code",
   "execution_count": 16,
   "id": "ee94b02a-5e1a-496a-9ee9-5ed7cd02874b",
   "metadata": {
    "slideshow": {
     "slide_type": "slide"
    }
   },
   "outputs": [],
   "source": [
    "param_imp = PDEParams(method = BSPDEMethod.IMPLICIT)\n",
    "\n",
    "pde_imp_pricer = [EuropeanPDEPricer(contract, model_type, param_imp) for contract in contracts for model_type in model_types]\n",
    "pde_imp_fv= [pricer.calc_fair_value() for pricer in pde_imp_pricer]"
   ]
  },
  {
   "cell_type": "code",
   "execution_count": 17,
   "id": "411170b0-4540-4913-9aaf-489d06a9ae2a",
   "metadata": {
    "slideshow": {
     "slide_type": "slide"
    }
   },
   "outputs": [
    {
     "name": "stdout",
     "output_type": "stream",
     "text": [
      "PDE Implicit method FairValues:[23.601989135532044, 19.557755216197624, 9.562097627250461, 5.517605239203792]\n",
      "Analytical method FairValues:[23.60627624868423, 19.558965822125977, 9.565830962100371, 5.518520535542123]\n"
     ]
    }
   ],
   "source": [
    "print(f\"PDE Implicit method FairValues:{pde_imp_fv}\")\n",
    "print(f\"Analytical method FairValues:{analytical_fv}\")"
   ]
  },
  {
   "cell_type": "code",
   "execution_count": 18,
   "id": "7445c8fe-f965-4d4f-9dc3-bde6b0cae5f6",
   "metadata": {
    "slideshow": {
     "slide_type": "slide"
    }
   },
   "outputs": [
    {
     "name": "stdout",
     "output_type": "stream",
     "text": [
      "Error between the Analytical and PDE Explicit method FairValues:['-0.0182%', '-0.0062%', '-0.0390%', '-0.0166%']\n"
     ]
    }
   ],
   "source": [
    "Errors_imp = [f\"{(price1-price2)/price1 *100:.4f}%\" for price1, price2 in zip(pde_imp_fv,analytical_fv)]\n",
    "print(f\"Error between the Analytical and PDE Explicit method FairValues:{Errors_imp}\")"
   ]
  },
  {
   "cell_type": "markdown",
   "id": "4371224c-6bd1-4c40-8afb-c72f246bf75e",
   "metadata": {
    "slideshow": {
     "slide_type": "slide"
    }
   },
   "source": [
    "# Compare Implicit Method with Analytical Pricer"
   ]
  },
  {
   "cell_type": "code",
   "execution_count": 19,
   "id": "02775cbf-7849-4d9a-9909-6b5853b1ca80",
   "metadata": {
    "slideshow": {
     "slide_type": "slide"
    }
   },
   "outputs": [
    {
     "data": {
      "image/png": "[encoded data removed]",
      "text/plain": [
       "<Figure size 432x288 with 1 Axes>"
      ]
     },
     "metadata": {
      "needs_background": "light"
     },
     "output_type": "display_data"
    }
   ],
   "source": [
    "sol_imp = pde_imp_pricer[0].grid[:,1]\n",
    "\n",
    "\n",
    "plt.plot(Spots, sol_imp, \"x-\", label=\"Implicit\")\n",
    "plt.plot(Spots, black_scholes_eur_call(Spots, expiry, sigma, strike, rate), label=\"Analytical\")\n",
    "\n",
    "plt.xlim(0, s_max)\n",
    "plt.ylim(0,s_max)\n",
    "plt.legend()\n",
    "plt.show()"
   ]
  },
  {
   "cell_type": "markdown",
   "id": "ecbba509-0dd5-40df-828a-ab35f4d4ee56",
   "metadata": {
    "slideshow": {
     "slide_type": "slide"
    }
   },
   "source": [
    "# Example with Crank Nicolson Method\n",
    "\n",
    "* Create European Contract\n",
    "* Create Market Model\n",
    "* Create PDEParams\n",
    "* Create GenericPDEPricer\n",
    "* Calculate FV and Greeks based on Crank_Nicolson methods\n",
    "* Visualize the Call and Put prices in 2D and 3D"
   ]
  },
  {
   "cell_type": "code",
   "execution_count": 20,
   "id": "36cfbe69-b001-4168-927e-fdc534a790f9",
   "metadata": {
    "slideshow": {
     "slide_type": "slide"
    }
   },
   "outputs": [],
   "source": [
    "param_crn = PDEParams(method = BSPDEMethod.CRANK_NICOLSON)\n",
    "\n",
    "pde_crn_pricer = [EuropeanPDEPricer(contract, model_type, param_crn) for contract in contracts for model_type in model_types]\n",
    "pde_crn_fv= [pricer.calc_fair_value() for pricer in pde_crn_pricer]\n"
   ]
  },
  {
   "cell_type": "code",
   "execution_count": 21,
   "id": "4840e1b3-7e40-4023-87f0-960db42ee2d8",
   "metadata": {
    "slideshow": {
     "slide_type": "slide"
    }
   },
   "outputs": [
    {
     "name": "stdout",
     "output_type": "stream",
     "text": [
      "PDE Crank-Nicolson method FairValues:[23.60340863403569, 19.558594355475712, 9.562963346249866, 5.518149067657355]\n",
      "Analytical method FairValues:[23.60627624868423, 19.558965822125977, 9.565830962100371, 5.518520535542123]\n"
     ]
    }
   ],
   "source": [
    "print(f\"PDE Crank-Nicolson method FairValues:{pde_crn_fv}\")\n",
    "print(f\"Analytical method FairValues:{analytical_fv}\")"
   ]
  },
  {
   "cell_type": "code",
   "execution_count": 22,
   "id": "36a965f3-4a16-494c-b8b3-fa646f6d0adc",
   "metadata": {
    "slideshow": {
     "slide_type": "slide"
    }
   },
   "outputs": [
    {
     "name": "stdout",
     "output_type": "stream",
     "text": [
      "Error between the Analytical and PDE Crank Nicolson method FairValues:['-0.0121%', '-0.0019%', '-0.0300%', '-0.0067%']\n"
     ]
    }
   ],
   "source": [
    "Errors_crn = [f\"{(price1-price2)/price1 *100:.4f}%\" for price1, price2 in zip(pde_crn_fv,analytical_fv)]\n",
    "print(f\"Error between the Analytical and PDE Crank Nicolson method FairValues:{Errors_crn}\")"
   ]
  },
  {
   "cell_type": "code",
   "execution_count": 23,
   "id": "bbba7613-88cc-476c-92dc-97125ab9195e",
   "metadata": {
    "slideshow": {
     "slide_type": "slide"
    }
   },
   "outputs": [
    {
     "data": {
      "image/png": "[encoded data removed]",
      "text/plain": [
       "<Figure size 432x288 with 1 Axes>"
      ]
     },
     "metadata": {
      "needs_background": "light"
     },
     "output_type": "display_data"
    }
   ],
   "source": [
    "sol_imp = pde_crn_pricer[0].grid[:,1]\n",
    "\n",
    "plt.plot(Spots, sol_imp, \"x-\", label=\"Crank Nicolson\")\n",
    "plt.plot(Spots, black_scholes_eur_call(Spots, expiry, sigma, strike, rate), label=\"Analytical\")\n",
    "\n",
    "plt.xlim(0, s_max)\n",
    "plt.ylim(0,s_max)\n",
    "plt.legend()\n",
    "plt.show()"
   ]
  },
  {
   "cell_type": "markdown",
   "id": "4ccd21e7",
   "metadata": {
    "slideshow": {
     "slide_type": "slide"
    }
   },
   "source": [
    "# Pricing American Option with Black Scholes PDE"
   ]
  },
  {
   "cell_type": "markdown",
   "id": "26f89bf6",
   "metadata": {
    "slideshow": {
     "slide_type": "slide"
    }
   },
   "source": [
    "<b>Properties of American Option:<b>\n",
    "* The price of an American Option is atleast as much as the European Option with the same properties:\n",
    "  $V_t^{am} \\geq V_t^{eur}, \\ for \\, any\\, \\;  t \\in [0,T]$\n",
    "* An American option has at least the value of the payoff at any time $t.$\n",
    "* There are different numerical techniques to price an American Option: LongStaff-Schwarz, PDE, Tree methods \n",
    "* American Call contract will never be exercised early unless the stock has a dividend.\n",
    "* For a sufficient Low Price an American Put will be exercised"
   ]
  },
  {
   "cell_type": "markdown",
   "id": "b2397dd6",
   "metadata": {
    "slideshow": {
     "slide_type": "subslide"
    }
   },
   "source": [
    "<b>Consider the Porfolio:<b>\n",
    "* Consider an American put has a value lower than $(K-S)^+$\n",
    "Strategy:\n",
    "* Take Long positions in both the Asset and in the money Put Option\n",
    "* Exercise the Put option immediately and sell the stock at higher price K. \n",
    "* This creates an arbitrage opportunity until the Put price becomes at least the payoff.\n",
    "* Thus,\n",
    "$$V_{t,c}^{am} \\geq \\max(S_t - K,0), \\ for \\, any\\, \\;  t \\in [0,T]$$\n",
    "$$V_{t,p}^{am} \\geq \\max(K- S_t,0), \\ for \\, any\\, \\;  t \\in [0,T]$$"
   ]
  },
  {
   "cell_type": "code",
   "execution_count": 24,
   "id": "a8fe7a61",
   "metadata": {
    "slideshow": {
     "slide_type": "slide"
    }
   },
   "outputs": [],
   "source": [
    "params_exp = PDEParams(method = BSPDEMethod.EXPLICIT)\n",
    "contracts=[AmericanContract(und, deriv_type, ls, strike, expiry) for deriv_type in derivative_type]\n",
    "\n",
    "pde_exp_pricer = [AmericanPDEPricer(contract, model_type, params_exp) for contract in contracts for model_type in model_types]\n",
    "pde_exp_fv= [pricer.calc_fair_value() for pricer in pde_exp_pricer]"
   ]
  },
  {
   "cell_type": "code",
   "execution_count": 25,
   "id": "f418233c",
   "metadata": {},
   "outputs": [
    {
     "name": "stdout",
     "output_type": "stream",
     "text": [
      "PDE Explicit method FairValues:[23.604447307816308, 19.559315913934707, 10.451567329616111, 6.281464959775393]\n"
     ]
    }
   ],
   "source": [
    "print(f\"PDE Explicit method FairValues:{pde_exp_fv}\")"
   ]
  },
  {
   "cell_type": "markdown",
   "id": "5413989b-a40a-4edd-8ca2-129234a66757",
   "metadata": {
    "slideshow": {
     "slide_type": "slide"
    }
   },
   "source": [
    "# Conclusion\n",
    "\n",
    "* We have seen the implemention of European Call/Put options pricing via PDE methods\n",
    "* Which method is faster?\n",
    "\n",
    "<b> Project Ideas <b>\n",
    "\n",
    "* Implement Forward pricing on the Grid\n",
    "* Implement the Greeks using the bump and re-evaluation method"
   ]
  }
 ],
 "metadata": {
  "celltoolbar": "Slideshow",
  "kernelspec": {
   "display_name": "Python 3 (ipykernel)",
   "language": "python",
   "name": "python3"
  },
  "language_info": {
   "codemirror_mode": {
    "name": "ipython",
    "version": 3
   },
   "file_extension": ".py",
   "mimetype": "text/x-python",
   "name": "python",
   "nbconvert_exporter": "python",
   "pygments_lexer": "ipython3",
   "version": "3.12.0"
  }
 },
 "nbformat": 4,
 "nbformat_minor": 5
}
