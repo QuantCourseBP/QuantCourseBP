{
 "cells": [
  {
   "cell_type": "markdown",
   "id": "56acec2e",
   "metadata": {
    "slideshow": {
     "slide_type": "slide"
    }
   },
   "source": [
    "# Quant Course\n",
    "## Monte Carlo method, variance reduction"
   ]
  },
  {
   "cell_type": "markdown",
   "id": "7c6ed0c3",
   "metadata": {
    "slideshow": {
     "slide_type": "slide"
    }
   },
   "source": [
    "## Martingale Pricing\n",
    "    \n",
    "The price of a product with some payoff function $Payoff$ can be calculated as the expected value of the discounted payoff under risk neutral measure. We assume deterministic interest rate so the discount factor can be moved out from the expected value:\n",
    "\n",
    "$$ V(t) = e^{-r(T-t)}\\mathbb{E}[Payoff(S_T)|F_t] $$\n",
    "\n",
    "We will work in the Black-Scholes model where the underlying follows \n",
    "\n",
    "$$ dS_t = rS_tdt + \\sigma S_tdW_t $$\n"
   ]
  },
  {
   "cell_type": "markdown",
   "id": "f9df914e-9b97-4600-8ff6-e5cd14580dd2",
   "metadata": {
    "jp-MarkdownHeadingCollapsed": true,
    "slideshow": {
     "slide_type": "slide"
    }
   },
   "source": [
    "## Estimating the expected payoff\n",
    "\n",
    "Law of large numbers: Expected value can be estimated with the sample mean\n",
    "\n",
    "$$ m = E[X] \\approx \\frac{1}{N}\\sum_iX_i $$ \n",
    "\n",
    "\n",
    "\n",
    "$$ V(t) = e^{-r(T-t)}\\mathbb{E}[Payoff(S_T)] $$\n",
    "\n",
    "* Generate n independent samples from $S_T$\n",
    "* Evaluate the payoff function on the samples and take mean\n",
    "\n",
    "We implement payoff function for each contract so the second step is easy, the complication arise at the first step.\n",
    "\n",
    "In the general case we dont know the distribution of $S_T$, we only know it's inital value at some time $t$ and we have an assumption on it's dinamic (our market model). How to obtain samples from $S_T$?"
   ]
  },
  {
   "cell_type": "markdown",
   "id": "3833e983-3ade-476c-b4c5-f084b4a82d2a",
   "metadata": {
    "slideshow": {
     "slide_type": "slide"
    }
   },
   "source": [
    "## Euler–Maruyama method\n",
    "\n",
    "consider the following stochastic diff equation:\n",
    "\n",
    "$$ dS_t = \\mu(t, S_t) dt + \\sigma(t,S_t)dW_t $$\n",
    "\n",
    "One can approximate the solution numerically \n",
    "\n",
    "* partition the time interval of $[0,T]$ into $N$ subintervals: $\\Delta T = T/N$,   $ \\quad t_i = i*\\Delta T$\n",
    "* we know the stock price today $S_0$. We approximate the stock price at the next timepoint:\n",
    "$$ S_{t_{i+1}} = S_{t_i} + \\mu(t_i, S_{t_i}) \\Delta T + \\sigma(t_i,S_{t_i}) \\cdot (W_{t_{i+1}} - W_{t_i}) $$\n",
    "* $W_t$ is a brownian motion, it's increments are independent normals:\n",
    "$$ W_{t_{i+1}} - W_{t_i} \\sim \\mathcal{N}(0,t_{i+1}-t_i) $$\n",
    "$$ W_{t_{i+1}} - W_{t_i} = \\sqrt{\\Delta T}\\epsilon_i, \\quad \\epsilon_i\\sim \\mathcal{N}(0,1)$$"
   ]
  },
  {
   "cell_type": "markdown",
   "id": "5a7dd823",
   "metadata": {
    "slideshow": {
     "slide_type": "slide"
    }
   },
   "source": [
    "# Milstein method\n",
    "\n",
    "Milstein method improves the accuracy of the Euler method by adding a correction term. \n",
    "\n",
    "$$ \n",
    "S_{t_{i+1}} = \n",
    "S_{t_i} + \\underbrace{\\mu(t_i, S_{t_i}) \\Delta T + \\sigma(t_i,S_{t_i}) \\cdot (W_{t_{i+1}} - W_{t_i}) }_{\\text{Euler step}} \n",
    "+\\underbrace{\\frac{1}{2}(\\frac{\\partial}{\\partial S}\\sigma(t_i,S_{t_i})) \\sigma(t_i,S_{t_i}) ((W_{t_{i+1}} - W_{t_i})^2-\\Delta T)}_{\\text{correction}} $$\n",
    "\n",
    "It requires the derivative of the diffusion term. the correction term vanishes when $\\sigma(t,S_t)$ does not depend on the spot and Milstein method become identical to Euler.\n",
    "\n",
    "Euler: weak convergence order of 1, strong convergence order of 1/2\n",
    "\n",
    "Milstein: weak convergence order of 1, strong convergence order of 1\n",
    "\n"
   ]
  },
  {
   "cell_type": "markdown",
   "id": "7efb10f6-5376-4093-a7b1-e90682506d72",
   "metadata": {
    "slideshow": {
     "slide_type": "slide"
    }
   },
   "source": [
    "## Solution to the SDE in the BS model\n",
    "\n",
    "In BS model the risky asset follows GBM:\n",
    "\n",
    "$$ dS_t = rS_t dt + \\sigma S_tdW_t $$\n",
    "\n",
    "For this relatively simple SDE the exact solution is known:\n",
    "\n",
    "$$ S_t = S_0 e^{(r-\\frac{\\sigma^2}{2})t+\\sigma W_t} $$\n",
    "\n",
    "If we only need samples from $S_T$ we can simulate it directly, no need for partitioning the time interval and simulate the stock price for (from the contract's point of view) useless time points!"
   ]
  },
  {
   "cell_type": "markdown",
   "id": "995429fa-7646-4c66-ba25-e965f29b72af",
   "metadata": {
    "slideshow": {
     "slide_type": "slide"
    }
   },
   "source": [
    "## Random number generation\n",
    "\n",
    "We will use pseudo random numbers: The generated numbers will be statistically random, but if we fix a seed, always the same numbers will be generated\n",
    "\n",
    "How many random numbers will be needed?\n",
    "\n",
    "* For a single path, we will need as many $\\epsilon$ as the number of simulation tenors.\n",
    "\n",
    "* Therefor the total number of $\\epsilon$ needed is <b>NumberOfPaths * NumberOfSimulTenors<b>"
   ]
  },
  {
   "cell_type": "markdown",
   "id": "0706b74a-8f90-4713-8f3e-cc311ee49718",
   "metadata": {
    "slideshow": {
     "slide_type": "slide"
    }
   },
   "source": [
    "## Simulation tenors\n",
    "\n",
    "<img src=\"./img/timegrid.png\" style=\"margin-left:auto; margin-right:auto; width: 1500px;\" />"
   ]
  },
  {
   "cell_type": "markdown",
   "id": "409f2898-b346-4911-bc98-c51174a53b6d",
   "metadata": {
    "slideshow": {
     "slide_type": "slide"
    }
   },
   "source": [
    "<img src=\"./img/mc_code_structure.png\" style=\"margin-left:auto; margin-right:auto; width: 1500px;\" />"
   ]
  },
  {
   "cell_type": "markdown",
   "id": "ec54cf5f",
   "metadata": {
    "slideshow": {
     "slide_type": "slide"
    }
   },
   "source": [
    "## Monte Carlo Error\n",
    "\n",
    "In monte carlo we estimate the PV of the trade by an empirical mean\n",
    "\n",
    "$$ PV = \\frac{1}{N}\\sum_{i=1}^NX_i $$ \n",
    "\n",
    "PV itself is a random variable here with some variance, therefore there is some uncertanity in the PV.\n",
    "\n",
    "$$ VAR[PV] = VAR\\left[\\frac{1}{N}\\sum_{i=1}^NX_i\\right] = \\frac{1}{N^2}\\sum_{i=1}^NVAR[X_i] = \\frac{1}{N}VAR[X]$$\n",
    "\n",
    "The standard deviation of PV decreases with $\\sqrt{N}$, and we can approximate the 95% confidence interval around PV\n",
    "\n",
    "$$ \\sigma^{MC} = \\sqrt{VAR[PV]} = \\frac{\\sigma^X}{\\sqrt{N}} \\qquad CI = [PV-1.96*\\sigma^{MC},PV+1.96*\\sigma^{MC}]$$\n",
    "\n",
    "\n"
   ]
  },
  {
   "cell_type": "markdown",
   "id": "06f51cbe-281a-482c-8698-b220d8df8eb1",
   "metadata": {
    "slideshow": {
     "slide_type": "slide"
    }
   },
   "source": [
    "## Excercise:\n",
    "\n",
    "Implement the follwoing methods:\n",
    "- evolve_simulated_spot for exact method\n",
    "- simulate_spot_path\n",
    "\n",
    "Price a fwd/european option with analytic and MC method\n",
    "\n",
    "Change the number of simulation paths and see how MC noise changes"
   ]
  },
  {
   "cell_type": "code",
   "execution_count": 1,
   "id": "36839a26-9d29-404e-bea1-a74c3f1a08f4",
   "metadata": {
    "slideshow": {
     "slide_type": "skip"
    }
   },
   "outputs": [],
   "source": [
    "import os \n",
    "import sys\n",
    "\n",
    "sys.path.append(\"..\\..\\..\")\n",
    "\n",
    "from src.pricer import *\n",
    "MarketData.initialize()"
   ]
  },
  {
   "cell_type": "code",
   "execution_count": 4,
   "id": "51159858",
   "metadata": {},
   "outputs": [
    {
     "name": "stdout",
     "output_type": "stream",
     "text": [
      "<src.pricer.ForwardAnalyticPricer object at 0x0000024BE3E54150>\n"
     ]
    }
   ],
   "source": [
    "und = Stock.TEST_COMPANY\n",
    "ls = LongShort.LONG\n",
    "strike = 1.2\n",
    "expiry = 1\n",
    "strike_level = strike * MarketData.get_spot()[und]\n",
    "\n",
    "model = FlatVolModel(und)\n",
    "\n",
    "contract_fwd = ForwardContract(und, ls, strike_level, expiry)\n",
    "contract_opt = EuropeanContract(und, PutCallFwd.PUT, ls, strike_level, expiry)\n",
    "\n",
    "pricer_fwd_an = ForwardAnalyticPricer(contract_fwd, model, Params())\n",
    "pricer_opt_an = EuropeanAnalyticPricer(contract_opt, model, Params())\n",
    "\n"
   ]
  },
  {
   "cell_type": "code",
   "execution_count": 2,
   "id": "edc9d426-167c-4bfb-aeb2-663f0b4b8c14",
   "metadata": {
    "scrolled": true,
    "slideshow": {
     "slide_type": "skip"
    }
   },
   "outputs": [
    {
     "name": "stdout",
     "output_type": "stream",
     "text": [
      "FORWARD AN: -14.147530940085687\n",
      "FORWARD MC: (-13.60287113415415, (-14.184075580227448, -13.021666688080849))\n",
      "OPTION AN: 20.594305984211573\n",
      "OPTION MC: (20.253539136216038, (19.88194754958432, 20.625130722847754))\n",
      "OPTION MC Euler: (20.17854840821545, (19.80342131539317, 20.55367550103773))\n"
     ]
    }
   ],
   "source": [
    "# import xy\n",
    "\n",
    "und = Stock.TEST_COMPANY\n",
    "ls = LongShort.LONG\n",
    "strike = 1.2\n",
    "expiry = 1\n",
    "strike_level = strike * MarketData.get_spot()[und]\n",
    "\n",
    "model = FlatVolModel(und)\n",
    "\n",
    "contract_fwd = ForwardContract(und, ls, strike_level, expiry)\n",
    "contract_opt = EuropeanContract(und, PutCallFwd.PUT, ls, strike_level, expiry)\n",
    "\n",
    "pricer_fwd_an = ForwardAnalyticPricer(contract_fwd, model, Params())\n",
    "pricer_opt_an = EuropeanAnalyticPricer(contract_opt, model, Params())\n",
    "\n",
    "mc_params = MCParams(num_of_path=10000,\n",
    "                     tenor_frequency=0,\n",
    "                     antithetic=False,\n",
    "                     standardize=False,\n",
    "                     control_variate=False,\n",
    "                     seed=1,\n",
    "                     evolve_spot_method=MCNumMethod.EXACT)\n",
    "\n",
    "pricer_fwd_mc = GenericMCPricer(contract_fwd, model, mc_params)\n",
    "pricer_opt_mc = GenericMCPricer(contract_opt, model, mc_params)\n",
    "\n",
    "fv_fwd_an = pricer_fwd_an.calc_fair_value()\n",
    "fv_fwd_mc = pricer_fwd_mc.calc_fair_value_with_ci()\n",
    "\n",
    "fv_opt_an = pricer_opt_an.calc_fair_value()\n",
    "fv_opt_mc = pricer_opt_mc.calc_fair_value_with_ci()\n",
    "\n",
    "pricer_opt_mc.params.evolve_spot_method = MCNumMethod.EULER\n",
    "pricer_opt_mc.params.tenor_frequency = 4\n",
    "fv_opt_mc_e = pricer_opt_mc.calc_fair_value_with_ci()\n",
    "\n",
    "print(\"FORWARD AN: \" + str(fv_fwd_an))\n",
    "print(\"FORWARD MC: \" + str(fv_fwd_mc))\n",
    "print(\"OPTION AN: \" + str(fv_opt_an))\n",
    "print(\"OPTION MC: \" + str(fv_opt_mc))\n",
    "print(\"OPTION MC Euler: \" + str(fv_opt_mc_e))"
   ]
  },
  {
   "cell_type": "code",
   "execution_count": 3,
   "id": "3c93c249",
   "metadata": {
    "slideshow": {
     "slide_type": "skip"
    }
   },
   "outputs": [
    {
     "name": "stdout",
     "output_type": "stream",
     "text": [
      "(18.926448306659, (15.254771279627176, 22.598125333690824))\n",
      "(18.788700289346277, (17.109178463546453, 20.4682221151461))\n",
      "(19.361744758496375, (18.169716311663276, 20.553773205329477))\n",
      "(20.186520940121085, (19.652449353608805, 20.720592526633364))\n",
      "(20.17854840821545, (19.80342131539317, 20.55367550103773))\n",
      "(20.298908040225825, (20.129015474967176, 20.46880060548448))\n"
     ]
    }
   ],
   "source": [
    "paths = [100, 500, 1000, 5000, 10000, 50000]\n",
    "for p in paths:\n",
    "    pricer_opt_mc.params.num_of_paths = p\n",
    "    print(pricer_opt_mc.calc_fair_value_with_ci())"
   ]
  },
  {
   "cell_type": "markdown",
   "id": "5797579e",
   "metadata": {
    "slideshow": {
     "slide_type": "slide"
    }
   },
   "source": [
    "# Variance reduction methods\n",
    "\n",
    "* Standardizing the normal randoms\n",
    "\n",
    "* Antithetic random numbers \n",
    "    \n",
    "* Control Variate"
   ]
  },
  {
   "cell_type": "markdown",
   "id": "a3d35ba1",
   "metadata": {
    "slideshow": {
     "slide_type": "slide"
    }
   },
   "source": [
    "## Variance Reduction\n",
    "\n",
    "### Standardizing:\n",
    "\n",
    "We generate $n$ independent std normals\n",
    "\n",
    "$$\\epsilon = \\{\\epsilon_1, ..., \\epsilon_n\\} \\qquad \\epsilon_i \\sim \\mathcal{N}(0,1) \\, iid$$\n",
    "\n",
    "The sample itself wont have exactly 0 mean and 1 std dev, so we can adjust it with the sample's mean and std dev:\n",
    "\n",
    "$$\\epsilon^* = \\frac{\\epsilon - \\mu}{\\sigma}$$  \n",
    "\n",
    "### Antithetic randoms:\n",
    "\n",
    "Once epsilon is generated, flip all the random's sign and reuse them:\n",
    "\n",
    "$$ \\epsilon^* =  \\{\\epsilon_1, ..., \\epsilon_n, -\\epsilon_1, ..., -\\epsilon_n\\} $$\n"
   ]
  },
  {
   "cell_type": "markdown",
   "id": "84d6e1ca",
   "metadata": {
    "slideshow": {
     "slide_type": "slide"
    }
   },
   "source": [
    "## Variance Reduction, Control Variate\n",
    "\n",
    "The estimator given control variate Y and parameter b is\n",
    "$$ X^{CV} = X + b(Y - E[Y]) $$\n",
    "\n",
    "\n",
    "The new estimator is still unbiased:\n",
    "\n",
    "$$ E[X^{CV}] = E[X] + b(E[Y] - E[E[Y]]) = E[X] $$\n",
    "\n",
    "Let's see the variance of the new estimator:\n",
    "\n",
    "$$ Var[X^{CV}] = Var[X] + Var[b*(Y-E[Y])] + 2Cov[X,b(Y - E[Y] )] = Var[X] + b^2Var[Y] + 2bCov[X,Y] $$\n",
    "\n",
    "Once we decided what control variate Y we will use, we can choose b such that the modified estimator's variance is minimised:\n",
    "\n",
    "with $ b^*=-\\frac{Cov[X,Y]}{Var[Y]} $, the variance of the new estimator will decrease\n",
    "\n",
    "$$ Var[X^{CV}] = Var[X] - \\frac{(Cov[X,Y])^2}{Var[Y]} $$\n"
   ]
  },
  {
   "cell_type": "markdown",
   "id": "77a02ec0",
   "metadata": {
    "slideshow": {
     "slide_type": "slide"
    }
   },
   "source": [
    "## Variance Reduction, Control Variate\n",
    "\n",
    "$$ X^{CV} = X + b(Y - E[Y])\\qquad b^*=-\\frac{Cov[X,Y]}{Var[Y]} $$\n",
    "\n",
    "For example for options one can choose forwards as control variate:\n",
    "\n",
    "$$ X = (S_T - K)^+ $$\n",
    "$$ Y = S_T - K $$\n",
    "\n",
    "1, How to determine $b^*$?\n",
    "\n",
    "* We will simulate n realization of $S_T$\n",
    "* Evaluate the payoffs of $X$ and $Y$ on each $S^{(i)}_T$\n",
    "* Use these samples $[X^{(1)}, ...]$, $[Y^{(1)}, ...]$  to estimate $Cov[X,Y]$ and $Var[Y]$\n",
    "\n",
    "2, How to determine $E[Y]$?\n",
    "\n",
    "We can only use such contracts as control variates, which have analytic pricing formula. In that case, we can create an analytic pricer for the contract and invoke it's calc_fair_value method.\n"
   ]
  },
  {
   "cell_type": "markdown",
   "id": "6544cec4-b16a-4795-bbbd-2e07d298a2fc",
   "metadata": {
    "slideshow": {
     "slide_type": "slide"
    }
   },
   "source": [
    "## Excercise\n",
    "\n",
    "Implement the following methods in generic MC pricer:\n",
    "- calc_fair_value_with_ci\n",
    "\n",
    "\n",
    "- apply_control_var_adj\n",
    "\n",
    "Test the various noise reduction methods.\n",
    "\n",
    "How does control variate perform for OTM,ATM,ITM options? Why?\n"
   ]
  },
  {
   "cell_type": "code",
   "execution_count": 7,
   "id": "d74dfefb-62c2-4d47-9210-71467e86be7d",
   "metadata": {
    "slideshow": {
     "slide_type": "skip"
    }
   },
   "outputs": [
    {
     "name": "stdout",
     "output_type": "stream",
     "text": [
      "PV: 14.539067921948966     MonteCarlo StdDev: 0.16063236176369067\n",
      "PV: 14.340077547938764     MonteCarlo StdDev: 0.1604705803056927\n",
      "PV: 14.446322956162208     MonteCarlo StdDev: 0.16011957584389916\n",
      "PV: 14.271577856571472     MonteCarlo StdDev: 0.05995129436877271\n"
     ]
    }
   ],
   "source": [
    "und = Stock.TEST_COMPANY\n",
    "ls = LongShort.LONG\n",
    "strike = 1\n",
    "expiry = 1\n",
    "strike_level = strike * MarketData.get_spot()[und]\n",
    "contract_opt = EuropeanContract(und, PutCallFwd.CALL, ls, strike_level, expiry)\n",
    "\n",
    "model = FlatVolModel(und)\n",
    "\n",
    "numofpath = 20000\n",
    "\n",
    "mc_params_0 = MCParams(num_of_path=numofpath,\n",
    "                       tenor_frequency=0,\n",
    "                       antithetic=False,\n",
    "                       standardize=False,\n",
    "                       control_variate=False,\n",
    "                       seed=1,\n",
    "                       evolve_spot_method = MCNumMethod.EXACT)\n",
    "\n",
    "mc_params_1 = MCParams(num_of_path=numofpath,\n",
    "                       tenor_frequency=0,\n",
    "                       antithetic=True,\n",
    "                       standardize=False,\n",
    "                       control_variate=False,\n",
    "                       seed=1,\n",
    "                       evolve_spot_method = MCNumMethod.EXACT)\n",
    "\n",
    "mc_params_2 = MCParams(num_of_path=numofpath,\n",
    "                       tenor_frequency=0,\n",
    "                       antithetic=False,\n",
    "                       standardize=True,\n",
    "                       control_variate=False,\n",
    "                       seed=1,\n",
    "                       evolve_spot_method = MCNumMethod.EXACT)\n",
    "\n",
    "mc_params_3 = MCParams(num_of_path=numofpath,\n",
    "                       tenor_frequency=0,\n",
    "                       antithetic=False,\n",
    "                       standardize=False,\n",
    "                       control_variate=True,\n",
    "                       seed=1,\n",
    "                       evolve_spot_method = MCNumMethod.EXACT)\n",
    "\n",
    "for param in [mc_params_0, mc_params_1, mc_params_2, mc_params_3]:\n",
    "    pricer_opt_mc = GenericMCPricer(contract_opt, model, param)\n",
    "    price = pricer_opt_mc.calc_fair_value_with_ci()\n",
    "    pv = price[0]\n",
    "    stdDev = (price[1][1]-pv)/1.96\n",
    "    print(\"PV: \" + str(pv) + \"     MonteCarlo StdDev: \" + str(stdDev))"
   ]
  },
  {
   "cell_type": "markdown",
   "id": "04f1a124",
   "metadata": {
    "slideshow": {
     "slide_type": "slide"
    }
   },
   "source": [
    "### Excercise - Implementing Asian Option (Average Price Option):\n",
    "\n",
    "Consider a set of avereging time points: $t_1<t_2<...<t_N=T$.\n",
    "\n",
    "The payoff of an asian option at time $T$ is $max\\{\\frac{1}{N}\\sum_{i=1}^NS(t_i), K\\}$\n",
    "\n",
    "Implement the contract with uniformly distributed observation points. $\\{i * T/num\\_obs : i = 1,...,num\\_obs\\}$, where num_obs is the number of observations"
   ]
  },
  {
   "cell_type": "markdown",
   "id": "4ccf4376",
   "metadata": {
    "slideshow": {
     "slide_type": "slide"
    }
   },
   "source": [
    "## Assignments\n",
    "\n",
    "In both tasks:\n",
    "- extend the code in the repositories src folder for the implementation part a)\n",
    "- write the code in jupyter for part b)\n",
    "\n",
    "<b> 8/1 Implement and test Milstein scheme <b>\n",
    "\n",
    "a, Implement the Milstein method in the MCMethod class's evolve_simulated_spot method, test it by pricing an option with it and compare the PV with analytic (7p)\n",
    "\n",
    "b, Compare the strong convergence of Euler and Milstein methods as we reduce the size of timesteps. (8p)\n",
    "    \n",
    "   - The strong convergence error with timestep dt is measured as the expected pathwise abolute error at time T between the approximation and exact solution. \n",
    "   $ \\epsilon^{strong}(dt) = E[|S^{approx, dt}(T) - S^{exact}(T)|] $\n",
    "\n",
    "    \n",
    "<b>8/2 Improve delta calculation for FlatVol model <b>\n",
    "\n",
    "In BS model the spot at time t is $ S_t = S_0 e^{(r-\\frac{\\sigma^2}{2})t+\\sigma W_t} $. Knowing this, when we bump the spot we dont have to resimulate the spot, instead we can obtain it by scaling the inital simulation: $ S^{bumped}_t = S_0*(1+\\delta) e^{(r-\\frac{\\sigma^2}{2})t+\\sigma W_t} $.\n",
    "\n",
    "a, implement this delta calculation method for MonteCarlo pricer (10p)\n",
    "\n",
    "b, compare the value and the calculation time of the improved delta with the default bump and revaluation delta. (5p)\n"
   ]
  },
  {
   "cell_type": "code",
   "execution_count": null,
   "id": "1b73fb1c-ec7f-4d8c-93fe-5ca010f673c0",
   "metadata": {},
   "outputs": [],
   "source": []
  }
 ],
 "metadata": {
  "celltoolbar": "Slideshow",
  "kernelspec": {
   "display_name": "venv_quant_course_v39",
   "language": "python",
   "name": "venv_quant_course_v39"
  },
  "language_info": {
   "codemirror_mode": {
    "name": "ipython",
    "version": 3
   },
   "file_extension": ".py",
   "mimetype": "text/x-python",
   "name": "python",
   "nbconvert_exporter": "python",
   "pygments_lexer": "ipython3",
   "version": "3.12.0"
  }
 },
 "nbformat": 4,
 "nbformat_minor": 5
}
