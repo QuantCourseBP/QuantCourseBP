{
 "cells": [
  {
   "cell_type": "markdown",
   "id": "2e1dbb87",
   "metadata": {
    "slideshow": {
     "slide_type": "slide"
    }
   },
   "source": [
    "<h3><center>Introduction to building a quant pricing library</center></h3>\n",
    "<h1><center>Building Blocks of the Framework</center></h1>\n",
    "<h3><center>Gabor Friedmann</center></h3>\n",
    "<h4><center>12 March, 2025</center></h4>"
   ]
  },
  {
   "cell_type": "markdown",
   "id": "79c90e01-4dbb-40dc-96a8-10d055128ab3",
   "metadata": {
    "slideshow": {
     "slide_type": "slide"
    }
   },
   "source": [
    "## What did we learn last time?\n",
    "\n",
    "<b>Risk-free interest rate</b> ($r$): Annual return of a riskless investment, i.e. the minimum return an investor expects for any investment.\n",
    "\n",
    "<b>Spot contract</b>: An agreement between two parties (a buyer and a seller) to trade an asset \"*immediately*\".\n",
    "\n",
    "Fair value: $ S_t $\n",
    "\n",
    "The buyer of a contract takes a *Long* position, while the seller of a contract takes a *Short* position."
   ]
  },
  {
   "cell_type": "markdown",
   "id": "3073366e",
   "metadata": {
    "slideshow": {
     "slide_type": "slide"
    }
   },
   "source": [
    "<b>Forward contract</b>: An agreement between two parties (a buyer and a seller) to trade an underlying asset at a <u>certain price</u> ($K$: strike) on a <u>certain future date</u> ($T$: expiry). This is an <u>obligation</u> to both parties.\n",
    "\n",
    "Payoff at expiry (LF): $ \\;\\;\\; S_T-K $\n",
    "\n",
    "<img src=\"./img/payoff_forward.jpg\" style=\"margin-left:auto; margin-right:auto; width: 730px;\" />"
   ]
  },
  {
   "cell_type": "markdown",
   "id": "46d8c861",
   "metadata": {
    "slideshow": {
     "slide_type": "slide"
    }
   },
   "source": [
    "<b>(European) Call option contract</b>: The option buyer has the <u>right</u>, but not the obligation, to <u><b>buy</b></u> an underlying asset at a certain price ($K$: strike) on a certain future date ($T$: expiry). If option is exercised by buyer, the option seller must <u>sell</u> the underlying asset.\n",
    "\n",
    "Payoff at expiry (LC): $ \\;\\;\\; max\\lbrace S_T-K, 0\\rbrace $\n",
    "\n",
    "<img src=\"./img/payoff_call.jpg\" style=\"margin-left:auto; margin-right:auto; width: 730px;\" />"
   ]
  },
  {
   "cell_type": "markdown",
   "id": "80f9d1e6",
   "metadata": {
    "slideshow": {
     "slide_type": "slide"
    }
   },
   "source": [
    "<b>(European) Put option contract</b>: The option buyer has the <u>right</u>, but not the obligation, to <u><b>sell</b></u> an underlying asset at a certain price ($K$: strike) on a certain future date ($T$: expiry). If option is exercised by the option buyer, the option seller must <u>buy</u> the underlying asset.\n",
    "\n",
    "Payoff at expiry (LP): $ \\;\\;\\; max\\lbrace K-S_T, 0\\rbrace $\n",
    "\n",
    "<img src=\"./img/payoff_put.jpg\" style=\"margin-left:auto; margin-right:auto; width: 730px;\" />"
   ]
  },
  {
   "cell_type": "markdown",
   "id": "da6df6a1",
   "metadata": {
    "slideshow": {
     "slide_type": "slide"
    }
   },
   "source": [
    "## Pricing under Black-Scholes model assumptions\n",
    "Spot price: $ S_t $, strike price: $ K $, expiry: $ T $, volatility of underlying: $ \\sigma $, risk-free rate: $ r $\n",
    "\n",
    "<b>Forward (LF)</b>: $ \\;\\;\\; f_t = S_t - Ke^{-r(T-t)} $\n",
    "\n",
    "<b>Call option (LC)</b>: $ \\;\\;\\; c_t = S_tN(d_1) - Ke^{-r(T-t)}N(d_2) $\n",
    "\n",
    "<b>Put option (LP)</b>: $ \\;\\;\\; p_t = Ke^{-r(T-t)}N(-d_2) - S_tN(-d_1) $"
   ]
  },
  {
   "cell_type": "markdown",
   "id": "cdfc2390",
   "metadata": {
    "slideshow": {
     "slide_type": "slide"
    }
   },
   "source": [
    "where $N(\\cdot)$ is the standard normal CDF\n",
    "\n",
    "$ d_1 = \\dfrac{1}{\\sigma\\sqrt{T-t}}\\left[ln\\left(\\dfrac{S_t}{K}\\right)+\\left(r+\\dfrac{\\sigma^2}{2}\\right)(T-t)\\right] \\;\\;\\;\\;\\;\\;\\;\\;\\;\\; d_2 = d_1 - \\sigma\\sqrt{T-t} $\n",
    "\n",
    "<br>\n",
    "<b>Put-call parity</b>: $ LF=LC+SP $\n",
    "\n",
    "$ f_t=c_t-p_t $"
   ]
  },
  {
   "cell_type": "markdown",
   "id": "393e41d2",
   "metadata": {
    "slideshow": {
     "slide_type": "slide"
    }
   },
   "source": [
    "## Warm up exercise\n",
    "\n",
    "Let's price a real life European call option contract on a Google stock using Black-Scholes model.\n",
    "\n",
    "Data:\n",
    "\n",
    "* https://finance.yahoo.com/quote/GOOG/options?p=GOOG\n",
    "* https://www.marketwatch.com/investing/bond/tmubmusd01y"
   ]
  },
  {
   "cell_type": "markdown",
   "id": "88d4d69a",
   "metadata": {
    "slideshow": {
     "slide_type": "slide"
    }
   },
   "source": [
    "<img src=\"./img/pricing_example.jpg\" style=\"margin-left:auto; margin-right:auto\" />"
   ]
  },
  {
   "cell_type": "code",
   "execution_count": 1,
   "id": "18633654",
   "metadata": {
    "slideshow": {
     "slide_type": "skip"
    }
   },
   "outputs": [],
   "source": [
    "import numpy as np\n",
    "from scipy.stats import norm\n",
    "\n",
    "def black_scholes_european_call(S0: float, K: float, T: float, sigma: float, r: float):\n",
    "    d1 = ( np.log( S0 / K ) + ( r + 0.5 * sigma**2 ) * T ) / ( sigma * T**0.5 )\n",
    "    d2 = d1 - sigma * T**0.5\n",
    "    N_d1 = norm.cdf(d1)\n",
    "    N_d2 = norm.cdf(d2)\n",
    "    df = np.exp((-1.0)*r*T)\n",
    "    return S0 * N_d1 - K * df * N_d2"
   ]
  },
  {
   "cell_type": "code",
   "execution_count": 2,
   "id": "c0d96ca7",
   "metadata": {
    "slideshow": {
     "slide_type": "skip"
    }
   },
   "outputs": [
    {
     "name": "stdout",
     "output_type": "stream",
     "text": [
      "Historical volatility: 36.15%\n"
     ]
    }
   ],
   "source": [
    "import pandas as pd\n",
    "\n",
    "df = pd.read_csv('GOOG.csv', usecols=['Date', 'Close'], index_col='Date')\n",
    "df['CloseTM1'] = df['Close'].shift(1)\n",
    "df['LogReturn'] = np.log(df['Close'] / df['CloseTM1'])\n",
    "\n",
    "daily_log_return_std = np.std(df['LogReturn'], ddof=1)\n",
    "# Annualization: ~260 weekdays per year\n",
    "volatility = daily_log_return_std * np.sqrt(260)\n",
    "\n",
    "print(f'Historical volatility: {round(volatility*100, 2)}%')"
   ]
  },
  {
   "cell_type": "code",
   "execution_count": 5,
   "id": "8dfc226d",
   "metadata": {
    "slideshow": {
     "slide_type": "skip"
    }
   },
   "outputs": [
    {
     "name": "stdout",
     "output_type": "stream",
     "text": [
      "Premium: 25.0$\n"
     ]
    }
   ],
   "source": [
    "import datetime as dt\n",
    "\n",
    "today = dt.date(2023, 8, 14)\n",
    "\n",
    "spot = 129.43\n",
    "strike = 125\n",
    "expiry = (dt.date(2024,9,20) - today).days / 365\n",
    "vol = 0.3615\n",
    "rate = 0.05372\n",
    "\n",
    "premium = black_scholes_european_call(spot, strike, expiry, vol, rate)\n",
    "print(f'Premium: {round(premium, 2)}$')"
   ]
  },
  {
   "cell_type": "markdown",
   "id": "e1fa5db2",
   "metadata": {
    "slideshow": {
     "slide_type": "slide"
    }
   },
   "source": [
    "## How to build a pricing library?\n",
    "\n",
    "<b>Goal</b>: Implement a coherent code base that is able to calculate fair value and greeks of various contracts in a generic way.\n",
    "\n",
    "<b>Requirements</b>:\n",
    "* Separate market data from pricing code\n",
    "* Reusability: Avoid code duplication\n",
    "* Scalability: Should be fairly easy to onboard a new contract or a pricer\n",
    "* Encapsulation: Bundle related data and funcionalities into a structured unit"
   ]
  },
  {
   "cell_type": "markdown",
   "id": "a0682156",
   "metadata": {
    "slideshow": {
     "slide_type": "slide"
    }
   },
   "source": [
    "<img src=\"./img/building_blocks_empty.jpg\" style=\"margin-left:auto; margin-right:auto; width: 1000px;\" />"
   ]
  },
  {
   "cell_type": "markdown",
   "id": "4a29c1e0",
   "metadata": {
    "slideshow": {
     "slide_type": "slide"
    }
   },
   "source": [
    "<img src=\"./img/building_blocks_full.jpg\" style=\"margin-left:auto; margin-right:auto; width: 1000px;\" />"
   ]
  },
  {
   "cell_type": "markdown",
   "id": "5b947e14",
   "metadata": {
    "slideshow": {
     "slide_type": "slide"
    }
   },
   "source": [
    "<img src=\"./img/contracts.jpg\" style=\"margin-left:auto; margin-right:auto; width: 800px;\" />"
   ]
  },
  {
   "cell_type": "markdown",
   "id": "9e6681af",
   "metadata": {
    "slideshow": {
     "slide_type": "slide"
    }
   },
   "source": [
    "## Important concepts\n",
    "\n",
    "<b>Inheritance</b>: Deriving a class (Derived/Child/Sub) from another class (Base/Parent/Super) that share a set of properties and methods.\n",
    "\n",
    "<b>Abstract Base Class (ABC)</b>: Such a class is not concrete and cannot be instantiated. Instead, it forces derived classes to implement all abstract properties and methods.\n"
   ]
  },
  {
   "cell_type": "markdown",
   "id": "1072a1bb",
   "metadata": {
    "slideshow": {
     "slide_type": "slide"
    }
   },
   "source": [
    "<b>Let's build the library!</b>"
   ]
  },
  {
   "cell_type": "markdown",
   "id": "8a635616",
   "metadata": {
    "slideshow": {
     "slide_type": "skip"
    }
   },
   "source": [
    "# Tasks\n",
    "\n",
    "## MarketData - market_data.py\n",
    "\n",
    "* Define the necessary market data (spot, volatility, risk-free rate) in MarketData class.\n",
    "\n",
    "\n",
    "| Risk-free rate |\n",
    "| :-: |\n",
    "| 0.05 |\n",
    "\n",
    "\n",
    "| Underlying | Spot | Volatility |\n",
    "| :- | :-: | :-: |\n",
    "| Stock.BLUECHIP_BANK | 130.17 | 0.381 |\n",
    "| Stock.TIPTOP_SOLUTIONS | 177.32 | 0.320 |\n",
    "\n",
    "\n",
    "## Market Model - model.py\n",
    "\n",
    "* Define MarketModel class.\n",
    "* Define its __init__() method:\n",
    "    * Take an underlying Stock as input.\n",
    "    * Store the underlying and the corresponding market data (risk-free rate, spot, volatility).\n",
    "* Implement calc_df() method which takes a tenor and returns the corresponding discount factor.\n",
    "\n",
    "\n",
    "## Contract - contract.py\n",
    "\n",
    "* Implement payoff() methods in derived classes\n",
    "* Make it compulsory to implement these methods for future enhancements\n",
    "\n",
    "## Pricer - pricer.py\n",
    "\n",
    "* Implement calc_fair_value() method in EuropeanAnalyticPricer.\n",
    "\n",
    "\n",
    "## Test - test_pricer.py\n",
    "\n",
    "* Create put-call parity test for fair value and all greeks using various underlying, strike, expiry."
   ]
  },
  {
   "cell_type": "markdown",
   "id": "f48a5b50",
   "metadata": {
    "slideshow": {
     "slide_type": "slide"
    }
   },
   "source": [
    "# Assignments - Digital options\n",
    "\n",
    "Create a new folder under <b>QuantCourseBP\\homeworks</b> and copy over the content of this lecture's solution folder to start with.\n",
    "\n",
    "1. Get familiar with digital options and implement EuropeanDigitalContract and EuropeanDigitalAnalyticPricer (fair value and greeks) in the library. Implement unit test for fair value using pytest. **(12 points)**\n",
    "2. Get familiar with bull spread options and by utilizing EuropeanDigitalAnalyticPricer and EuropeanAnalyticPricer, create a figure to visualize that a digital call option can be thought of as a limit of bull spread call options. **(8 points)**"
   ]
  },
  {
   "cell_type": "code",
   "execution_count": 3,
   "id": "ab9f68be",
   "metadata": {
    "slideshow": {
     "slide_type": "skip"
    }
   },
   "outputs": [
    {
     "name": "stdout",
     "output_type": "stream",
     "text": [
      "QuantCourseBP 3e053b3be53332138d46be34038a16ddecad2ac6*\n"
     ]
    }
   ],
   "source": [
    "# Add current folder and QuantCourseBP folder to syspath to import modules\n",
    "import sys\n",
    "from pathlib import Path\n",
    "current = Path(Path().resolve())\n",
    "sys.path.append(str(current))\n",
    "sys.path.append(str(current.parents[2]))\n",
    "\n",
    "from enum import *\n",
    "from pricer import *"
   ]
  },
  {
   "cell_type": "code",
   "execution_count": 2,
   "id": "97a02060",
   "metadata": {},
   "outputs": [
    {
     "name": "stdout",
     "output_type": "stream",
     "text": [
      "Collecting GitPython\n",
      "  Obtaining dependency information for GitPython from https://files.pythonhosted.org/packages/1d/9a/4114a9057db2f1462d5c8f8390ab7383925fe1ac012eaa42402ad65c2963/GitPython-3.1.44-py3-none-any.whl.metadata\n",
      "  Downloading GitPython-3.1.44-py3-none-any.whl.metadata (13 kB)\n",
      "Collecting gitdb<5,>=4.0.1 (from GitPython)\n",
      "  Obtaining dependency information for gitdb<5,>=4.0.1 from https://files.pythonhosted.org/packages/a0/61/5c78b91c3143ed5c14207f463aecfc8f9dbb5092fb2869baf37c273b2705/gitdb-4.0.12-py3-none-any.whl.metadata\n",
      "  Downloading gitdb-4.0.12-py3-none-any.whl.metadata (1.2 kB)\n",
      "Collecting smmap<6,>=3.0.1 (from gitdb<5,>=4.0.1->GitPython)\n",
      "  Obtaining dependency information for smmap<6,>=3.0.1 from https://files.pythonhosted.org/packages/04/be/d09147ad1ec7934636ad912901c5fd7667e1c858e19d355237db0d0cd5e4/smmap-5.0.2-py3-none-any.whl.metadata\n",
      "  Downloading smmap-5.0.2-py3-none-any.whl.metadata (4.3 kB)\n",
      "Downloading GitPython-3.1.44-py3-none-any.whl (207 kB)\n",
      "   ---------------------------------------- 0.0/207.6 kB ? eta -:--:--\n",
      "   ---------------------------------------- 207.6/207.6 kB 6.4 MB/s eta 0:00:00\n",
      "Downloading gitdb-4.0.12-py3-none-any.whl (62 kB)\n",
      "   ---------------------------------------- 0.0/62.8 kB ? eta -:--:--\n",
      "   ---------------------------------------- 62.8/62.8 kB 3.5 MB/s eta 0:00:00\n",
      "Downloading smmap-5.0.2-py3-none-any.whl (24 kB)\n",
      "Installing collected packages: smmap, gitdb, GitPython\n",
      "Successfully installed GitPython-3.1.44 gitdb-4.0.12 smmap-5.0.2\n",
      "Note: you may need to restart the kernel to use updated packages.\n"
     ]
    }
   ],
   "source": [
    "pip install GitPython"
   ]
  },
  {
   "cell_type": "code",
   "execution_count": null,
   "id": "cd6ae954",
   "metadata": {
    "slideshow": {
     "slide_type": "skip"
    }
   },
   "outputs": [],
   "source": []
  },
  {
   "cell_type": "code",
   "execution_count": null,
   "id": "e88d6d82",
   "metadata": {
    "slideshow": {
     "slide_type": "skip"
    }
   },
   "outputs": [],
   "source": []
  },
  {
   "cell_type": "code",
   "execution_count": null,
   "id": "878f7fa2",
   "metadata": {
    "slideshow": {
     "slide_type": "skip"
    }
   },
   "outputs": [],
   "source": []
  },
  {
   "cell_type": "code",
   "execution_count": null,
   "id": "bfb21463",
   "metadata": {
    "slideshow": {
     "slide_type": "skip"
    }
   },
   "outputs": [],
   "source": []
  },
  {
   "cell_type": "code",
   "execution_count": null,
   "id": "77735fa9",
   "metadata": {
    "slideshow": {
     "slide_type": "skip"
    }
   },
   "outputs": [],
   "source": []
  },
  {
   "cell_type": "code",
   "execution_count": null,
   "id": "14d4c82b-1356-4446-9cfa-6dd5cac7fa21",
   "metadata": {
    "slideshow": {
     "slide_type": "skip"
    }
   },
   "outputs": [],
   "source": []
  },
  {
   "cell_type": "code",
   "execution_count": null,
   "id": "014e1546-43a2-41da-a245-ba25e84babbd",
   "metadata": {
    "slideshow": {
     "slide_type": "skip"
    }
   },
   "outputs": [],
   "source": []
  },
  {
   "cell_type": "code",
   "execution_count": null,
   "id": "80d0dd3b-9a4d-44d9-9dc0-fe1429cb8539",
   "metadata": {
    "slideshow": {
     "slide_type": "skip"
    }
   },
   "outputs": [],
   "source": []
  },
  {
   "cell_type": "code",
   "execution_count": null,
   "id": "eec6d273-4ce8-47e2-ba9c-4330f902b709",
   "metadata": {
    "slideshow": {
     "slide_type": "skip"
    }
   },
   "outputs": [],
   "source": []
  },
  {
   "cell_type": "code",
   "execution_count": null,
   "id": "02baaf5c-8d5c-4fc1-bc52-775304d146c1",
   "metadata": {
    "slideshow": {
     "slide_type": "skip"
    }
   },
   "outputs": [],
   "source": []
  }
 ],
 "metadata": {
  "celltoolbar": "Slideshow",
  "kernelspec": {
   "display_name": "Python 3 (ipykernel)",
   "language": "python",
   "name": "python3"
  },
  "language_info": {
   "codemirror_mode": {
    "name": "ipython",
    "version": 3
   },
   "file_extension": ".py",
   "mimetype": "text/x-python",
   "name": "python",
   "nbconvert_exporter": "python",
   "pygments_lexer": "ipython3",
   "version": "3.11.4"
  }
 },
 "nbformat": 4,
 "nbformat_minor": 5
}
