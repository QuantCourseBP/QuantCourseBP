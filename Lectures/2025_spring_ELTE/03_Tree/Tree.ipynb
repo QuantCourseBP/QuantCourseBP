{
 "cells": [
  {
   "cell_type": "markdown",
   "id": "440b29ea-bbf4-4ddb-af5f-13123f60c303",
   "metadata": {
    "slideshow": {
     "slide_type": "subslide"
    },
    "tags": []
   },
   "source": [
    "# Financial Processes: Lesson 1\n",
    "## Pricing European options in Binomial Tree Model"
   ]
  },
  {
   "cell_type": "markdown",
   "id": "1c72f3f0",
   "metadata": {
    "slideshow": {
     "slide_type": "slide"
    }
   },
   "source": [
    "# Agenda:\n",
    "\n",
    "* European options\n",
    "    * Market\n",
    "    * Call, Put\n",
    "* Tree method\n",
    "    * Concept\n",
    "    * Example\n",
    "* Formula for price and delta\n",
    "* Implementation\n",
    "* Coding"
   ]
  },
  {
   "cell_type": "markdown",
   "id": "aaf29b87",
   "metadata": {
    "slideshow": {
     "slide_type": "slide"
    }
   },
   "source": [
    "# European options"
   ]
  },
  {
   "cell_type": "markdown",
   "id": "15d31a80",
   "metadata": {
    "slideshow": {
     "slide_type": "slide"
    }
   },
   "source": [
    "## The market"
   ]
  },
  {
   "cell_type": "markdown",
   "id": "9f43623a",
   "metadata": {
    "slideshow": {
     "slide_type": "fragment"
    }
   },
   "source": [
    "Two assets:\n",
    "* Money market (risk free asset, bond): pays a fixed, deterministic interest"
   ]
  },
  {
   "cell_type": "markdown",
   "id": "86623b7d",
   "metadata": {
    "slideshow": {
     "slide_type": "fragment"
    }
   },
   "source": [
    "* Risky asset (stock): $S_t \\sim F_t$, i.e. its present value is known, future is unknown"
   ]
  },
  {
   "cell_type": "markdown",
   "id": "aade2b99",
   "metadata": {
    "slideshow": {
     "slide_type": "fragment"
    }
   },
   "source": [
    "* Short position is allowed"
   ]
  },
  {
   "cell_type": "markdown",
   "id": "d23212fd",
   "metadata": {
    "slideshow": {
     "slide_type": "fragment"
    }
   },
   "source": [
    "* No bid-ask spread"
   ]
  },
  {
   "cell_type": "markdown",
   "id": "f5bb2643",
   "metadata": {
    "slideshow": {
     "slide_type": "slide"
    }
   },
   "source": [
    "## European option"
   ]
  },
  {
   "cell_type": "markdown",
   "id": "0e7ebd7e",
   "metadata": {
    "slideshow": {
     "slide_type": "fragment"
    }
   },
   "source": [
    "Two parties:\n",
    "* Option holder (buyer)"
   ]
  },
  {
   "cell_type": "markdown",
   "id": "49d0c637",
   "metadata": {
    "slideshow": {
     "slide_type": "fragment"
    }
   },
   "source": [
    "* Option writer (seller)"
   ]
  },
  {
   "cell_type": "markdown",
   "id": "224ac9dd",
   "metadata": {
    "slideshow": {
     "slide_type": "fragment"
    }
   },
   "source": [
    "Parameters of the contract:\n",
    "* Maturity, $T$"
   ]
  },
  {
   "cell_type": "markdown",
   "id": "6c546190",
   "metadata": {
    "slideshow": {
     "slide_type": "fragment"
    }
   },
   "source": [
    "* Strike price, $K$"
   ]
  },
  {
   "cell_type": "markdown",
   "id": "7ab23152",
   "metadata": {
    "slideshow": {
     "slide_type": "fragment"
    }
   },
   "source": [
    "Def (European call/put option): The owner has the right, but not the obligation to buy/sell $1$ share of stock from/to the option writer at $T$ for $K$ (dollars)."
   ]
  },
  {
   "cell_type": "markdown",
   "id": "a2d53727",
   "metadata": {
    "slideshow": {
     "slide_type": "fragment"
    }
   },
   "source": [
    "Payoff of european call: $ \\;\\;\\; max\\lbrace S_T-K, 0\\rbrace $"
   ]
  },
  {
   "cell_type": "markdown",
   "id": "2f02769d",
   "metadata": {
    "slideshow": {
     "slide_type": "fragment"
    }
   },
   "source": [
    "Payoff of european put: $ \\;\\;\\; max\\lbrace K - S_T, 0\\rbrace $"
   ]
  },
  {
   "cell_type": "markdown",
   "id": "4024e26f",
   "metadata": {
    "slideshow": {
     "slide_type": "slide"
    }
   },
   "source": [
    "# The Tree method"
   ]
  },
  {
   "cell_type": "markdown",
   "id": "192e6e12",
   "metadata": {
    "slideshow": {
     "slide_type": "slide"
    }
   },
   "source": [
    "## Basic concept of binomial tree model\n",
    "* Discrete steps, price goes up or down randomly\n",
    "* Risk-free alternative is government bond\n",
    "\n",
    "$$ d < 1 + r < u $$\n",
    "\n",
    "<img src=\"./img/tree-notation.png\" style=\"margin-left:auto; margin-right:auto; margin-top: 50px; width: 1200px;\" />"
   ]
  },
  {
   "cell_type": "markdown",
   "id": "265c3101",
   "metadata": {
    "slideshow": {
     "slide_type": "slide"
    }
   },
   "source": [
    "More than one step is possible"
   ]
  },
  {
   "cell_type": "markdown",
   "id": "e8615f5a",
   "metadata": {
    "slideshow": {
     "slide_type": "fragment"
    }
   },
   "source": [
    "Spot tree: $S_{t,i}$ is the $i^{th}$ value of the time $t$ level of the spot simulation tree. $t = 0, \\dots, N,\\ i = 0, \\dots, t$.\n",
    "\n",
    "<img src=\"./img/2-step.png\" style=\"margin-left:auto; margin-right:auto; margin-top: 50px; width: 600px;\" />"
   ]
  },
  {
   "cell_type": "markdown",
   "id": "91ddbe69-be2a-4c80-b18f-484af5e2cf60",
   "metadata": {
    "slideshow": {
     "slide_type": "slide"
    }
   },
   "source": [
    "## Example: pricing European option with one-step tree\n",
    "\n",
    "<img src=\"./img/1-step-example.png\" style=\"margin-left:auto; margin-right:auto; margin-top: 150px; width: 1800px;\" />"
   ]
  },
  {
   "cell_type": "markdown",
   "id": "2fdac29e-f446-43c2-9e7d-d2bb52113b03",
   "metadata": {
    "slideshow": {
     "slide_type": "slide"
    }
   },
   "source": [
    "### Arbitrage free price of option\n",
    "\n",
    "$\\textbf{time step}$| $\\textbf{draw}$ | $\\textbf{bond} \\hspace{10px}$ | $\\textbf{stock}$ | $\\textbf{call option}$ |\n",
    "--------------:|----:|----:|----:|----:|\n",
    "$0$|$\\emptyset$|$-100$|$-20$|$V_0$\n",
    "$1$|$U$|$103$|$22$|$1$\n",
    "$1$|$D$|$103$|$18$|$0$"
   ]
  },
  {
   "cell_type": "markdown",
   "id": "bd5973f4",
   "metadata": {
    "slideshow": {
     "slide_type": "fragment"
    }
   },
   "source": [
    "Q: What is the basic idea?"
   ]
  },
  {
   "cell_type": "markdown",
   "id": "a266d7ed-03c3-4f56-8f0d-adc4c053b3e2",
   "metadata": {
    "slideshow": {
     "slide_type": "fragment"
    }
   },
   "source": [
    "Can we replicate the cashflows of the option using bonds and stock?"
   ]
  },
  {
   "cell_type": "markdown",
   "id": "93ad0ad6-cc8a-4e46-8ebd-75d46eafe9c5",
   "metadata": {
    "slideshow": {
     "slide_type": "fragment"
    }
   },
   "source": [
    "$ S_1(U)-S_1(D) = 4 (V_1(U) - V_1(D)) $"
   ]
  },
  {
   "cell_type": "markdown",
   "id": "68bea2bb-407c-461b-8ea3-7220e43af1cb",
   "metadata": {
    "slideshow": {
     "slide_type": "fragment"
    }
   },
   "source": [
    "We need to hold $ \\Delta_0 = 1/4 $ number of stocks to replicate (Delta-hedging rule)"
   ]
  },
  {
   "cell_type": "markdown",
   "id": "ba32c09f-fc90-45f3-883f-3c55c09cf44b",
   "metadata": {
    "slideshow": {
     "slide_type": "slide"
    }
   },
   "source": [
    "time step| draw | $\\text{bond} \\hspace{10px}$  |  $1/4$ stock  | $\\text{option} \\hspace{10px}$ |\n",
    "---:|---:|---:|---:|---:|\n",
    "$0$|$\\emptyset$|$\\approx 4.37$|$-5$|$V_0\\approx 0.63$\n",
    "$1$|$U$|$-4.5$|$5.5$|$1$\n",
    "$1$|$D$|$-4.5$|$4.5$|$0$"
   ]
  },
  {
   "cell_type": "markdown",
   "id": "c8eb7a5e",
   "metadata": {
    "slideshow": {
     "slide_type": "fragment"
    }
   },
   "source": [
    "Q: Where did we use $p$ and $q$?"
   ]
  },
  {
   "cell_type": "markdown",
   "id": "f46bff16",
   "metadata": {
    "slideshow": {
     "slide_type": "fragment"
    }
   },
   "source": [
    "Q: What if option had another price on the market?"
   ]
  },
  {
   "cell_type": "markdown",
   "id": "9e3af033",
   "metadata": {
    "slideshow": {
     "slide_type": "fragment"
    }
   },
   "source": [
    "Q: How would you generalize to multi-step?"
   ]
  },
  {
   "cell_type": "markdown",
   "id": "89ac70a1-edb8-414f-9888-4508d0c1e4c2",
   "metadata": {
    "slideshow": {
     "slide_type": "slide"
    }
   },
   "source": [
    "# Price formula"
   ]
  },
  {
   "cell_type": "markdown",
   "id": "a840854f-b2ac-4ef5-b144-6b233bf2d120",
   "metadata": {
    "slideshow": {
     "slide_type": "slide"
    }
   },
   "source": [
    "## One step"
   ]
  },
  {
   "cell_type": "markdown",
   "id": "67fd4886",
   "metadata": {
    "slideshow": {
     "slide_type": "fragment"
    }
   },
   "source": [
    "* Example table gives an equation system for $V_0$ and $\\Delta_0$: amount of stocks to hold for replication"
   ]
  },
  {
   "cell_type": "markdown",
   "id": "c3da288f-e1a7-4ccf-ad15-e0f10dda57f1",
   "metadata": {
    "slideshow": {
     "slide_type": "fragment"
    }
   },
   "source": [
    "$ V_0 = \\frac{1}{1+r}(\\tilde{p}\\ V_1(U) + \\tilde{q}\\ V_1(D)) $ and\n",
    "\n",
    "$ \\Delta_0 = \\frac{V_1(U) - V_1(D)}{S_1(U) - S_1(D)} $\n",
    "\n",
    "where\n",
    "\n",
    "$ \\tilde{p} =  \\frac{1+r-d}{u-d}$,  $ \\tilde{q} = 1 - \\tilde{p} $"
   ]
  },
  {
   "cell_type": "markdown",
   "id": "2def5fb1",
   "metadata": {
    "slideshow": {
     "slide_type": "fragment"
    }
   },
   "source": [
    "Q: Where do the formulas depend on the strike $K$?"
   ]
  },
  {
   "cell_type": "markdown",
   "id": "c0211e5d",
   "metadata": {
    "slideshow": {
     "slide_type": "fragment"
    }
   },
   "source": [
    "$\\{ \\tilde{p}, \\tilde{q}\\}$ is called the Risk-neutral measure"
   ]
  },
  {
   "cell_type": "markdown",
   "id": "2da6c1fb",
   "metadata": {
    "slideshow": {
     "slide_type": "fragment"
    }
   },
   "source": [
    "$ V_0 = \\frac{1}{1+r}\\tilde{E}(V_1) $\n",
    "\n",
    "Q: Why do we call it \"Risk-neutral measure\"?"
   ]
  },
  {
   "cell_type": "markdown",
   "id": "b9657652-aaac-4e38-8c8c-4d16c2148a75",
   "metadata": {
    "slideshow": {
     "slide_type": "slide"
    }
   },
   "source": [
    "## Multi-step\n",
    "\n",
    "  $ V_n = \\frac{1}{1+r}\\tilde{E}(V_{n+1} \\mid \\mathcal{F}_n) $\n",
    "  \n",
    "  $ \\Delta_n = \\frac{V_{n+1}(\\dots U) - V_{n+1}(\\dots D)}{S_{n+1}(\\dots U) - S_{n+1}(\\dots D)}$\n",
    "  \n",
    "  $\\text{ for } \\ n = N-1,\\dots,0$"
   ]
  },
  {
   "cell_type": "markdown",
   "id": "6ffc3be8",
   "metadata": {
    "slideshow": {
     "slide_type": "fragment"
    }
   },
   "source": [
    "Therefore:\n",
    "\n",
    "$ V_0 = \\frac{1}{(1+r)^N}\\tilde{E}(V_N) $"
   ]
  },
  {
   "cell_type": "markdown",
   "id": "7123e4d7-bc96-4e30-9f68-9ee004cdb03e",
   "metadata": {
    "slideshow": {
     "slide_type": "slide"
    }
   },
   "source": [
    "# Implementation"
   ]
  },
  {
   "cell_type": "markdown",
   "id": "373edffd-c93a-49f6-8552-9b94f30b3e84",
   "metadata": {
    "slideshow": {
     "slide_type": "slide"
    }
   },
   "source": [
    "Two trees:"
   ]
  },
  {
   "cell_type": "markdown",
   "id": "bbf61261",
   "metadata": {
    "slideshow": {
     "slide_type": "fragment"
    }
   },
   "source": [
    "* Spot tree: $S_{t,i}$ is the $i^{th}$ value of the time $t$ level of the spot simulation tree. $t = 0, \\dots, N,\\ i = 0, \\dots, t$.\n",
    "\n",
    "<img src=\"./img/2-step.png\" style=\"margin-left:auto; margin-right:auto; margin-top: 50px; width: 600px;\" />"
   ]
  },
  {
   "cell_type": "markdown",
   "id": "9c9dc2c7",
   "metadata": {
    "slideshow": {
     "slide_type": "slide"
    }
   },
   "source": [
    "## Evolution of spot tree: code snippet\n",
    "\n",
    "<img src=\"./img/spot_tree_code_spaghetti.jpg\" style=\"margin-left:auto; margin-right:auto; margin-top: 150px; width: 1800px;\" />"
   ]
  },
  {
   "cell_type": "markdown",
   "id": "1558a9da",
   "metadata": {
    "slideshow": {
     "slide_type": "slide"
    }
   },
   "source": [
    "Two trees:\n",
    "* Spot tree: $S_{t,i}$ is the $i^{th}$ value of the time $t$ level of the spot simulation tree. $t = 0, \\dots, N,\\ i = 0, \\dots, t$.\n",
    "* Price tree: same dimensions, $V_{t,i} = \\tilde{E}(V_N \\mid S_t = S_{t,i}) $"
   ]
  },
  {
   "cell_type": "markdown",
   "id": "043e69e6",
   "metadata": {
    "slideshow": {
     "slide_type": "fragment"
    }
   },
   "source": [
    "* Backward solution for price tree (based on multi-step formula)"
   ]
  },
  {
   "cell_type": "markdown",
   "id": "7a125800",
   "metadata": {
    "slideshow": {
     "slide_type": "fragment"
    }
   },
   "source": [
    "## Evolution of price tree: code snippets\n",
    "\n",
    "Leaves:\n",
    "<img src=\"./img/price_tree_leaves_European_spaghetti.jpg\" style=\"margin-left:auto; margin-right:1000px; margin-top: 10px; width: 1350px;\" />\n",
    "\n",
    "Backward steps:\n",
    "<img src=\"./img/price_tree_code_European_spaghetti.jpg\" style=\"margin-left:auto; margin-right:550px; margin-top: 10px; width: 1800px;\" />"
   ]
  },
  {
   "cell_type": "markdown",
   "id": "75c0305e",
   "metadata": {
    "slideshow": {
     "slide_type": "slide"
    }
   },
   "source": [
    "# Time to play a bit with the code..."
   ]
  },
  {
   "cell_type": "markdown",
   "id": "e552fd56-7929-4b9e-8a14-a8d49d2ffec0",
   "metadata": {
    "slideshow": {
     "slide_type": "slide"
    }
   },
   "source": [
    "# Summary and discussion"
   ]
  },
  {
   "cell_type": "markdown",
   "id": "b02e3e9f",
   "metadata": {
    "slideshow": {
     "slide_type": "fragment"
    }
   },
   "source": [
    "* Market, European Call/Put"
   ]
  },
  {
   "cell_type": "markdown",
   "id": "91ae5be0",
   "metadata": {
    "slideshow": {
     "slide_type": "fragment"
    }
   },
   "source": [
    "* Spot and Price tree"
   ]
  },
  {
   "cell_type": "markdown",
   "id": "f1a2f3fb",
   "metadata": {
    "slideshow": {
     "slide_type": "fragment"
    }
   },
   "source": [
    "* Replication, hedging"
   ]
  },
  {
   "cell_type": "markdown",
   "id": "9dbb7b8c-132f-4b95-85cf-b457c6937008",
   "metadata": {
    "slideshow": {
     "slide_type": "fragment"
    }
   },
   "source": [
    "* Formula for price and delta\n",
    "    * $ V_0 = \\tilde{E}(V_N) $, $ V_n = \\tilde{E}(V_N \\mid \\mathcal{F}_n) $\n",
    "    * To replicate we need to achieve:\n",
    "\n",
    "      $ \\Delta_n(S_{n+1}(\\dots U) - S_{n+1}(\\dots D)) = V_{n+1}(\\dots U) - V_{n+1}(\\dots D) $"
   ]
  },
  {
   "cell_type": "markdown",
   "id": "5212a97d",
   "metadata": {
    "slideshow": {
     "slide_type": "fragment"
    }
   },
   "source": [
    "* In jupyter nb we have seen:\n",
    "    * Delta is dynamic\n",
    "    * Balancing the tree\n",
    "    * Calibration"
   ]
  },
  {
   "cell_type": "markdown",
   "id": "0193f156",
   "metadata": {
    "slideshow": {
     "slide_type": "slide"
    }
   },
   "source": [
    "# Literature\n",
    "* Steven Shreve: Stochastic Calculus and Finance I."
   ]
  },
  {
   "cell_type": "markdown",
   "id": "df31fbc5",
   "metadata": {
    "slideshow": {
     "slide_type": "slide"
    }
   },
   "source": [
    "# Thanks\n",
    "\n",
    "<img src=\"./img/money_tree.jpg\" style=\"margin-left:auto; margin-right:auto; margin-top: 100px; width: 700px;\" />"
   ]
  }
 ],
 "metadata": {
  "celltoolbar": "Slideshow",
  "kernelspec": {
   "display_name": "Python 3 (ipykernel)",
   "language": "python",
   "name": "python3"
  },
  "language_info": {
   "codemirror_mode": {
    "name": "ipython",
    "version": 3
   },
   "file_extension": ".py",
   "mimetype": "text/x-python",
   "name": "python",
   "nbconvert_exporter": "python",
   "pygments_lexer": "ipython3",
   "version": "3.12.0"
  },
  "toc": {
   "base_numbering": 1,
   "nav_menu": {},
   "number_sections": true,
   "sideBar": true,
   "skip_h1_title": false,
   "title_cell": "Table of Contents",
   "title_sidebar": "Contents",
   "toc_cell": false,
   "toc_position": {},
   "toc_section_display": true,
   "toc_window_display": false
  }
 },
 "nbformat": 4,
 "nbformat_minor": 5
}
