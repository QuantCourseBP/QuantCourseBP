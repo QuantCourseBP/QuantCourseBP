{
 "cells": [
  {
   "cell_type": "markdown",
   "id": "03a0ef7c",
   "metadata": {
    "slideshow": {
     "slide_type": "slide"
    }
   },
   "source": [
    "<h3><center>Introduction to building a quant pricing library</center></h3>\n",
    "<h1><center>Volatility surface, numerical greeks</center></h1>\n",
    "<h3><center>Gabor Friedmann</center></h3>\n",
    "<h4><center>19 March, 2025</center></h4>"
   ]
  },
  {
   "cell_type": "markdown",
   "id": "60dff4ed",
   "metadata": {
    "slideshow": {
     "slide_type": "slide"
    }
   },
   "source": [
    "<b>Law of supply and demand:</b>\n",
    "* Market price of face masks during covid\n",
    "* Market price of options (quotes)"
   ]
  },
  {
   "cell_type": "markdown",
   "id": "b71cd14d",
   "metadata": {
    "slideshow": {
     "slide_type": "fragment"
    }
   },
   "source": [
    "<b>Goal of option pricing:</b>\n",
    "* Come up with a model that is able to re-price \"frequently\" traded products\n",
    "* Use the model to understand how to eliminate risks (hedging)\n",
    "* Use the model to price other, \"non-frequently\" traded products"
   ]
  },
  {
   "cell_type": "markdown",
   "id": "bfd309b6",
   "metadata": {
    "slideshow": {
     "slide_type": "slide"
    }
   },
   "source": [
    "# Moneyness\n",
    "\n",
    "Measures whether the option would make money if it were exercised immediately. We define moneyness as current spot price divided by strike price:\n",
    "$$ M = \\dfrac{S_t}{K} $$\n",
    "\n",
    "At $M = 1$, the option is called at-the-money (ATM). Otherwise, the option is called either in-the-money (ITM) or out-of-the-money (OTM)."
   ]
  },
  {
   "cell_type": "markdown",
   "id": "887989ed",
   "metadata": {
    "slideshow": {
     "slide_type": "slide"
    }
   },
   "source": [
    "<img src=\"./img/moneyness.jpg\" style=\"margin-left:auto; margin-right:auto; width: 1000px;\" />"
   ]
  },
  {
   "cell_type": "markdown",
   "id": "e8123df2",
   "metadata": {
    "slideshow": {
     "slide_type": "slide"
    }
   },
   "source": [
    "## What did we learn?\n",
    "\n",
    "Black-Scholes model assumptions:\n",
    "* Underlying asset price follows GBM:\n",
    "\n",
    "$$ dS_{t}=\\mu S_{t}\\,dt+\\sigma S_{t}\\,dW_{t} $$\n",
    "\n",
    "* Underlying asset price has <b>known and constant</b> volatility ($\\sigma$)\n",
    "* Returns of the underlying asset are normally distributed"
   ]
  },
  {
   "cell_type": "markdown",
   "id": "947105af",
   "metadata": {
    "slideshow": {
     "slide_type": "slide"
    }
   },
   "source": [
    "# Which volatility to pick?\n",
    "\n",
    "$$ c_0 = f_{BS}\\left(S_0, K, T, r, \\color{red}{\\sigma}\\right) $$"
   ]
  },
  {
   "cell_type": "markdown",
   "id": "29405484",
   "metadata": {
    "slideshow": {
     "slide_type": "fragment"
    }
   },
   "source": [
    "$$ \\color{red}{\\sigma} = f^{-1}_{BS}\\left(S_0, K, T, r, c_0\\right) $$\n",
    "\n",
    "<b>Implied volatility</b>: The volatility obtained from market quotes using Black-Scholes formula. It represents what the market is implying the volatility will be in the future based on option prices."
   ]
  },
  {
   "cell_type": "markdown",
   "id": "ca16582d",
   "metadata": {
    "slideshow": {
     "slide_type": "slide"
    }
   },
   "source": [
    "Based on BS assumptions, implied volatility should be constant for all options on a given underlying. Is that true?"
   ]
  },
  {
   "cell_type": "markdown",
   "id": "6dc6535a",
   "metadata": {
    "slideshow": {
     "slide_type": "fragment"
    }
   },
   "source": [
    "<img src=\"./img/implied_vol_smile.jpg\" style=\"margin-left:auto; margin-right:auto; width: 1500px;\" />"
   ]
  },
  {
   "cell_type": "markdown",
   "id": "d1eacb9e",
   "metadata": {
    "slideshow": {
     "slide_type": "slide"
    }
   },
   "source": [
    "<img src=\"./img/smile_skew.jpg\" style=\"margin-left:auto; margin-right:auto; width: 1500px;\" alt=\"Source: https://analystprep.com/study-notes/frm/part-2/market-risk-measurement-and-management/volatility-smiles/\" />"
   ]
  },
  {
   "cell_type": "markdown",
   "id": "f2d2d1cd",
   "metadata": {
    "slideshow": {
     "slide_type": "slide"
    }
   },
   "source": [
    "## Why?\n",
    "\n",
    "Highligting just one concept: Protective Put Option Strategy\n",
    "\n",
    "There is high demand for put options with low strike as they serve as a protection against huge losses.\n",
    "\n",
    "<img src=\"./img/protective_put.jpg\" style=\"margin-left:auto; margin-right:auto; width: 400px;\" />\n"
   ]
  },
  {
   "cell_type": "markdown",
   "id": "42353cd4",
   "metadata": {
    "slideshow": {
     "slide_type": "slide"
    }
   },
   "source": [
    "<img src=\"./img/implied_vol_termskew.jpg\" style=\"margin-left:auto; margin-right:auto; width: 1500px;\" />"
   ]
  },
  {
   "cell_type": "markdown",
   "id": "c9372f50",
   "metadata": {
    "slideshow": {
     "slide_type": "slide"
    }
   },
   "source": [
    "<b>Conclusion</b>: The volatility depends on strike and expiry: $ \\sigma = \\sigma(K,T) $\n",
    "\n",
    "Using market quotes, we can derive an <b>implied volatility grid</b>. Applying some interpolation technique between grid points we can build an <b>implied volatility surface</b>."
   ]
  },
  {
   "cell_type": "markdown",
   "id": "1b2fa190",
   "metadata": {
    "slideshow": {
     "slide_type": "fragment"
    }
   },
   "source": [
    "Let's look at some examples!\n",
    "\n",
    "BlueChip Bank, TipTop Solutions, Money Mall\n"
   ]
  },
  {
   "cell_type": "code",
   "execution_count": null,
   "id": "ac7c42e0",
   "metadata": {
    "slideshow": {
     "slide_type": "skip"
    }
   },
   "outputs": [],
   "source": [
    "# Add current folder and QuantCourseBP folder to syspath to import modules\n",
    "import sys\n",
    "from pathlib import Path\n",
    "current = Path(Path().resolve())\n",
    "sys.path.append(str(current))\n",
    "sys.path.append(str(current.parents[2]))\n",
    "\n",
    "from src.utils import *\n",
    "from src.market_data import *\n",
    "\n",
    "# Make charts interactive - remove this line if charts throws error\n",
    "%matplotlib notebook\n",
    "\n",
    "# Initialize market data\n",
    "MarketData.initialize()"
   ]
  },
  {
   "cell_type": "code",
   "execution_count": null,
   "id": "5ea81dfd",
   "metadata": {
    "slideshow": {
     "slide_type": "skip"
    }
   },
   "outputs": [],
   "source": [
    "underlying = Stock.BLUECHIP_BANK\n",
    "volgrid = MarketData.get_volgrid()[underlying]"
   ]
  },
  {
   "cell_type": "code",
   "execution_count": null,
   "id": "2b6e88cd",
   "metadata": {
    "slideshow": {
     "slide_type": "skip"
    }
   },
   "outputs": [],
   "source": [
    "flag = True\n",
    "plot_vol_slice(volgrid, expiry=0.02, linear_interpolation=flag) # 7D\n",
    "plot_vol_slice(volgrid, expiry=0.25, linear_interpolation=flag) # 3M\n",
    "plot_vol_slice(volgrid, expiry=2.00, linear_interpolation=flag) # 2Y"
   ]
  },
  {
   "cell_type": "code",
   "execution_count": null,
   "id": "a3a28eed",
   "metadata": {
    "slideshow": {
     "slide_type": "skip"
    }
   },
   "outputs": [],
   "source": [
    "plot_vol_surface(volgrid)"
   ]
  },
  {
   "cell_type": "markdown",
   "id": "2c903d10",
   "metadata": {
    "slideshow": {
     "slide_type": "slide"
    }
   },
   "source": [
    "## What changes?\n",
    "\n",
    "Underlying asset price diffusion:\n",
    "$$ \\; dS_{t}=\\mu S_{t}\\,dt+\\sigma S_{t}\\,dW_{t} $$\n",
    "\n",
    "\n",
    "$$ \\; dS_{t}=\\mu S_{t}\\,dt+\\color{red}{\\sigma(K,T)} S_{t}\\,dW_{t} $$\n",
    "\n",
    "We can determine $ \\sigma(K,T) $ based on the contract we want to price, then use that constant within the Black-Scholes framework. Let's call this extension of BS model as <b>flat volatility model</b>."
   ]
  },
  {
   "cell_type": "markdown",
   "id": "599c8734",
   "metadata": {
    "slideshow": {
     "slide_type": "slide"
    }
   },
   "source": [
    "Volatility market data is no longer a single number, but a tabular data (grid) for each underlying, hence we outsource them to csv files for maintainability.\n",
    "\n",
    "<br>\n",
    "<br>\n",
    "\n",
    "Let's do coding!"
   ]
  },
  {
   "cell_type": "markdown",
   "id": "b7261611",
   "metadata": {
    "slideshow": {
     "slide_type": "skip"
    }
   },
   "source": [
    "# Tasks\n",
    "\n",
    "## MarketData - market_data.py\n",
    "\n",
    "* Understand the new structure of MarketData class\n",
    "* Understand how VolGrid class works\n",
    "\n",
    "## MarketModel - model.py\n",
    "\n",
    "* Implement BSVol and FlatVol models in the pricing library\n",
    "\n",
    "## Jupyter notebook\n",
    "\n",
    "* Price a few contracts using both Black-Scholes and FlatVol models"
   ]
  },
  {
   "cell_type": "code",
   "execution_count": null,
   "id": "799b5243",
   "metadata": {
    "slideshow": {
     "slide_type": "skip"
    }
   },
   "outputs": [],
   "source": [
    "# Add current folder and QuantCourseBP folder to syspath to import modules\n",
    "import sys\n",
    "from pathlib import Path\n",
    "current = Path(Path().resolve())\n",
    "sys.path.append(str(current))\n",
    "sys.path.append(str(current.parents[2]))\n",
    "\n",
    "from src.market_data import *\n",
    "from pricer import *\n",
    "\n",
    "# Initialize market data\n",
    "MarketData.initialize()"
   ]
  },
  {
   "cell_type": "code",
   "execution_count": null,
   "id": "e97fda86",
   "metadata": {
    "slideshow": {
     "slide_type": "skip"
    }
   },
   "outputs": [],
   "source": [
    "und = Stock.BLUECHIP_BANK\n",
    "put_call = PutCallFwd.CALL\n",
    "ls = LongShort.LONG\n",
    "strk = 1.0 * MarketData.get_spot()[und]  # at-the-money strike i.e. strike = spot price\n",
    "exp = 0.5\n",
    "\n",
    "forward = ForwardContract(und, ls, strk, exp)\n",
    "option = EuropeanContract(und, put_call, ls, strk, exp)\n",
    "\n",
    "print(option)"
   ]
  },
  {
   "cell_type": "code",
   "execution_count": null,
   "id": "b914de96",
   "metadata": {
    "slideshow": {
     "slide_type": "skip"
    }
   },
   "outputs": [],
   "source": []
  },
  {
   "cell_type": "code",
   "execution_count": null,
   "id": "56f85980",
   "metadata": {
    "slideshow": {
     "slide_type": "skip"
    }
   },
   "outputs": [],
   "source": []
  },
  {
   "cell_type": "code",
   "execution_count": null,
   "id": "445d7256",
   "metadata": {
    "slideshow": {
     "slide_type": "skip"
    }
   },
   "outputs": [],
   "source": []
  },
  {
   "cell_type": "code",
   "execution_count": null,
   "id": "9e38129e",
   "metadata": {
    "slideshow": {
     "slide_type": "skip"
    }
   },
   "outputs": [],
   "source": []
  },
  {
   "cell_type": "markdown",
   "id": "a1b35219",
   "metadata": {
    "slideshow": {
     "slide_type": "slide"
    }
   },
   "source": [
    "# Greeks\n",
    "\n",
    "* Understanding the sensitivities of a porfolio is crutial to eliminate them (hedging)\n",
    "* So far we had analytical formulas to calculate greeks, usually this is not the case\n",
    "* In most cases we calculate greeks numerically using finite difference approximation (forward, backward, central)"
   ]
  },
  {
   "cell_type": "markdown",
   "id": "592066cb",
   "metadata": {
    "slideshow": {
     "slide_type": "slide"
    }
   },
   "source": [
    "## Finite difference approximation (central, absolute)\n",
    "$$ f'(x)\\approx\\dfrac{f(x+\\Delta)-f(x-\\Delta)}{2\\Delta} $$\n",
    "\n",
    "$$ f''(x)\\approx\\dfrac{f'(x+\\dfrac{\\Delta}{2})-f'(x-\\dfrac{\\Delta}{2})}{\\Delta}\\approx\\dfrac{f(x+\\Delta)-2f(x)+f(x-\\Delta)}{\\Delta^2} $$"
   ]
  },
  {
   "cell_type": "markdown",
   "id": "426f51eb",
   "metadata": {
    "slideshow": {
     "slide_type": "skip"
    }
   },
   "source": [
    "# Tasks\n",
    "\n",
    "## Pricer - pricer.py\n",
    "\n",
    "* Implement calc_delta() function using finite difference approximation.\n",
    "* Compare the results of analytic and numerical formulas for delta and gamma."
   ]
  },
  {
   "cell_type": "markdown",
   "id": "bde5713d",
   "metadata": {
    "slideshow": {
     "slide_type": "slide"
    }
   },
   "source": [
    "# Assignments - Numerical greeks\n",
    "\n",
    "1. Introduce two class variables in Pricer that store the finite difference method (forward, backward, central) to be used in numerical greek calculation, and whether the bump size is absolute or relative. Create two Enums to store the labels. Implement all combinations for delta and gamma calculation.<br>Compare greeks using the analytic and the finite difference approximation on a set of European options and visualize the numerical error. Compare absolute and relative bumping and suggest optimal bump sizes. **(15 points)**"
   ]
  }
 ],
 "metadata": {
  "celltoolbar": "Slideshow",
  "kernelspec": {
   "display_name": "Python 3 (ipykernel)",
   "language": "python",
   "name": "python3"
  },
  "language_info": {
   "codemirror_mode": {
    "name": "ipython",
    "version": 3
   },
   "file_extension": ".py",
   "mimetype": "text/x-python",
   "name": "python",
   "nbconvert_exporter": "python",
   "pygments_lexer": "ipython3",
   "version": "3.9.13"
  }
 },
 "nbformat": 4,
 "nbformat_minor": 5
}
