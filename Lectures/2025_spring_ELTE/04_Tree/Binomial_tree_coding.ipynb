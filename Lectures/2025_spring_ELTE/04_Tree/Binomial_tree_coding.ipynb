{
 "cells": [
  {
   "cell_type": "markdown",
   "id": "ff5afd7e",
   "metadata": {},
   "source": [
    "# European contract pricing with Tree"
   ]
  },
  {
   "cell_type": "code",
   "execution_count": null,
   "id": "b48f1a90",
   "metadata": {},
   "outputs": [],
   "source": [
    "import numpy as np\n",
    "from scipy.optimize import minimize\n",
    "from collections.abc import Callable"
   ]
  },
  {
   "cell_type": "markdown",
   "id": "4565b427",
   "metadata": {},
   "source": [
    "## Create European contract payoff"
   ]
  },
  {
   "cell_type": "code",
   "execution_count": null,
   "id": "17aad77d",
   "metadata": {},
   "outputs": [],
   "source": [
    "def european_call_payoff(S: float, K: float) -> float:\n",
    "    return max(S-K, 0.0)"
   ]
  },
  {
   "cell_type": "markdown",
   "id": "f478bd3e",
   "metadata": {},
   "source": [
    "## Create Spot Tree"
   ]
  },
  {
   "cell_type": "code",
   "execution_count": null,
   "id": "f901ad6b",
   "metadata": {},
   "outputs": [],
   "source": [
    "def create_spot_tree(spot: float, spot_mult_up: float, spot_mult_down: float, steps: int) -> list[list[float]]:\n",
    "    previous_level = [spot]\n",
    "    tree = [previous_level]\n",
    "    for _ in range(steps):\n",
    "        new_level = [s * spot_mult_down for s in previous_level]\n",
    "        new_level += [previous_level[-1] * spot_mult_up]\n",
    "        tree += [new_level]\n",
    "        previous_level = new_level\n",
    "    return tree"
   ]
  },
  {
   "cell_type": "code",
   "execution_count": null,
   "id": "be9e0bda",
   "metadata": {},
   "outputs": [],
   "source": [
    "spot = 1\n",
    "spot_mult_up = 1.2\n",
    "spot_mult_down = 0.8\n",
    "steps = 2\n",
    "spot_tree = create_spot_tree(spot, spot_mult_up, spot_mult_down, steps)\n",
    "spot_tree_readable = [['%.3f' % e for e in n] for n in spot_tree]\n",
    "spot_tree_readable"
   ]
  },
  {
   "cell_type": "markdown",
   "id": "607512e4",
   "metadata": {},
   "source": [
    "## Create Price Tree"
   ]
  },
  {
   "cell_type": "code",
   "execution_count": null,
   "id": "52ecfcbe",
   "metadata": {},
   "outputs": [],
   "source": [
    "def create_discounted_price_tree(spot_tree: list[list[float]], discount_factor: float, K: float, diag: int = 0) -> list[list[float]]:\n",
    "    spot = spot_tree[0][0]\n",
    "    spot_mult_up = spot_tree[1][-1]\n",
    "    spot_mult_down = spot_tree[1][0]\n",
    "    p_up = ((1 / discount_factor - spot_mult_down) /\n",
    "                   (spot_mult_up - spot_mult_down))\n",
    "    p_down = 1 - p_up\n",
    "    steps = len(spot_tree) - 1\n",
    "    continuation_value_tree = [[np.nan for _ in level] for level in spot_tree]\n",
    "    if diag > 0:\n",
    "        print(\"risk-neutral measure: \")\n",
    "        print(('%.3f' % p_up, '%.3f' % p_down))\n",
    "        # init delta tree\n",
    "        delta_tree = [[np.nan for _ in level] for level in spot_tree[:-1]] #delta makes no sense for leaves\n",
    "    # going backwards, payoff is known in leaves\n",
    "    for i in range(len(spot_tree[-1])):\n",
    "        spot = spot_tree[-1][i]\n",
    "        discounted_continuation_value = discount_factor**(steps) * european_call_payoff(spot, K)\n",
    "        continuation_value_tree[-1][i] = discounted_continuation_value\n",
    "    for step in range(steps - 1, -1, -1):\n",
    "        for i in range(len(spot_tree[step])):\n",
    "            continuation_value_tree[step][i] = p_up * continuation_value_tree[step + 1][i] + \\\n",
    "                                            p_down * continuation_value_tree[step + 1][i + 1]\n",
    "            if diag > 0:\n",
    "                delta_tree[step][i] = ((continuation_value_tree[step + 1][i] - continuation_value_tree[step + 1][i + 1]) \n",
    "                                       / (spot_tree[step + 1][i] - spot_tree[step + 1][i + 1]))\n",
    "    if diag > 0:\n",
    "        print(\"delta: \")\n",
    "        delta_tree_readable = [['%.3f' % e for e in n] for n in delta_tree]\n",
    "        print(delta_tree_readable)\n",
    "    return continuation_value_tree"
   ]
  },
  {
   "cell_type": "code",
   "execution_count": null,
   "id": "30b6b08f",
   "metadata": {},
   "outputs": [],
   "source": [
    "discount_factor = 0.95\n",
    "strike = 1\n",
    "diag = 1\n",
    "price_tree = create_discounted_price_tree(spot_tree, discount_factor, strike, diag)\n",
    "price_tree_readable = [['%.3f' % e for e in n] for n in price_tree]\n",
    "print(\"Price tree:\")\n",
    "price_tree_readable"
   ]
  },
  {
   "cell_type": "code",
   "execution_count": null,
   "id": "59dea471",
   "metadata": {},
   "outputs": [],
   "source": [
    "pv_up_up = 0.44*0.95*0.95\n",
    "print('%.3f' % pv_up_up)"
   ]
  },
  {
   "cell_type": "code",
   "execution_count": null,
   "id": "20084ba6",
   "metadata": {},
   "outputs": [],
   "source": [
    "mid_step = 0.3971 * 0.3684210526315791\n",
    "print('%.3f' % mid_step)"
   ]
  },
  {
   "cell_type": "markdown",
   "id": "626009f5",
   "metadata": {},
   "source": [
    "## Balanced Tree"
   ]
  },
  {
   "cell_type": "code",
   "execution_count": null,
   "id": "8c121d86",
   "metadata": {},
   "outputs": [],
   "source": [
    "def calcBalancedDownStep(spot_mult_up: float, discount_factor: float) -> (float, float):\n",
    "    return spot_mult_up - 2 * (spot_mult_up - 1 / discount_factor)"
   ]
  },
  {
   "cell_type": "code",
   "execution_count": null,
   "id": "520b2e34",
   "metadata": {},
   "outputs": [],
   "source": [
    "print(\"spot_mult_up: \" + str('%.3f' %spot_mult_up))\n",
    "spot_mult_down_balanced = calcBalancedDownStep(spot_mult_up, discount_factor)\n",
    "print(\"spot_mult_down: \" + str('%.3f' %spot_mult_down_balanced))\n",
    "spot_tree = create_spot_tree(spot, spot_mult_up, spot_mult_down_balanced, steps)\n",
    "spot_tree_readable = [['%.3f' % e for e in n] for n in spot_tree]\n",
    "print(\"spot_tree: \" + str(spot_tree_readable))\n",
    "price_tree = create_discounted_price_tree(spot_tree, discount_factor, strike, 1)\n",
    "price_tree_readable = [['%.3f' % e for e in n] for n in price_tree]\n",
    "print(\"price tree: \" + str(price_tree_readable))"
   ]
  },
  {
   "cell_type": "markdown",
   "id": "f584a74a",
   "metadata": {},
   "source": [
    "## Delta is close to 0.5 for At The Money Forward option"
   ]
  },
  {
   "cell_type": "code",
   "execution_count": null,
   "id": "0c3e877b",
   "metadata": {},
   "outputs": [],
   "source": [
    "strike_ATMF = 1/0.95**2\n",
    "price_tree = create_discounted_price_tree(spot_tree, discount_factor, strike_ATMF, 1)\n",
    "price_tree_readable = [['%.3f' % e for e in n] for n in price_tree]\n",
    "print(\"price tree:\")\n",
    "price_tree_readable"
   ]
  },
  {
   "cell_type": "markdown",
   "id": "87b376b5",
   "metadata": {},
   "source": [
    "## Barrier options"
   ]
  },
  {
   "cell_type": "code",
   "execution_count": null,
   "id": "48809b42",
   "metadata": {},
   "outputs": [],
   "source": [
    "def up_and_out(B: float) -> Callable[float, float]:\n",
    "    def knock_multiplier(s: float) -> float:\n",
    "        return 1.0 if (s < B) else 0.0\n",
    "    return knock_multiplier"
   ]
  },
  {
   "cell_type": "code",
   "execution_count": null,
   "id": "6ab56737",
   "metadata": {},
   "outputs": [],
   "source": [
    "def create_discounted_price_tree_ko(spot_tree: list[list[float]], discount_factor: float, K: float, ko_function: Callable[float, float], diag: int = 0) -> list[list[float]]:\n",
    "    spot = spot_tree[0][0]\n",
    "    spot_mult_up = spot_tree[1][-1]\n",
    "    spot_mult_down = spot_tree[1][0]\n",
    "    p_up = ((1 / discount_factor - spot_mult_down) /\n",
    "                   (spot_mult_up - spot_mult_down))\n",
    "    p_down = 1 - p_up\n",
    "    steps = len(spot_tree) - 1\n",
    "    continuation_value_tree = [[np.nan for _ in level] for level in spot_tree]\n",
    "    if diag > 0:\n",
    "        print(\"risk-neutral measure: \")\n",
    "        print((p_up, p_down))\n",
    "        # init delta tree\n",
    "        delta_tree = [[np.nan for _ in level] for level in spot_tree[:-1]] #delta makes no sense for leaves\n",
    "    # going backwards, payoff is known in leaves\n",
    "    for i in range(len(spot_tree[-1])):\n",
    "        spot = spot_tree[-1][i]\n",
    "        discounted_continuation_value = discount_factor**(steps) * european_call_payoff(spot, K) * ko_function(spot)\n",
    "        continuation_value_tree[-1][i] = discounted_continuation_value\n",
    "    for step in range(steps - 1, -1, -1):\n",
    "        for i in range(len(spot_tree[step])):\n",
    "            continuation_value_tree[step][i] = p_up * continuation_value_tree[step + 1][i] + \\\n",
    "                                            p_down * continuation_value_tree[step + 1][i + 1]\n",
    "            continuation_value_tree[step][i] *= ko_function(spot_tree[step][i])\n",
    "            if diag > 0:\n",
    "                delta_tree[step][i] = ((continuation_value_tree[step + 1][i] - continuation_value_tree[step + 1][i + 1]) \n",
    "                                       / (spot_tree[step + 1][i] - spot_tree[step + 1][i + 1]))\n",
    "                delta_tree[step][i] *= ko_function(spot_tree[step][i])\n",
    "    if diag > 0:\n",
    "        print(\"delta: \")\n",
    "        delta_tree_readable = [['%.3f' % e for e in n] for n in delta_tree]\n",
    "        print(delta_tree_readable)\n",
    "    return continuation_value_tree"
   ]
  },
  {
   "cell_type": "code",
   "execution_count": null,
   "id": "2b057f57",
   "metadata": {},
   "outputs": [],
   "source": [
    "# create spot tree\n",
    "spot = 1\n",
    "maturity = 1 # years\n",
    "steps_per_year = 7\n",
    "steps = steps_per_year * maturity\n",
    "discount_factor = 0.95 ** (1./steps_per_year) # discount factors have to be scaled to keep interest rate fixed\n",
    "spot_mult_up = np.exp((0.05 - 0.5 * 0.1 ** 2) / steps_per_year + 0.1 * np.sqrt(1./steps_per_year)) # step sizes are scaled as well\n",
    "spot_mult_down = calcBalancedDownStep(spot_mult_up, discount_factor)\n",
    "spot_tree = create_spot_tree(spot, spot_mult_up, spot_mult_down, steps)\n",
    "spot_tree_readable = [['%.3f' % e for e in n] for n in spot_tree]\n",
    "spot_tree_readable"
   ]
  },
  {
   "cell_type": "code",
   "execution_count": null,
   "id": "df870cac",
   "metadata": {},
   "outputs": [],
   "source": [
    "# create price tree\n",
    "strike = 1\n",
    "barrier = 1.2\n",
    "barrier_condition = up_and_out(barrier)\n",
    "diag = 1\n",
    "price_tree = create_discounted_price_tree_ko(spot_tree, discount_factor, strike, barrier_condition, diag)\n",
    "price_tree_readable = [['%.3f' % e for e in n] for n in price_tree]\n",
    "print(\"Price tree:\")\n",
    "price_tree_readable"
   ]
  },
  {
   "cell_type": "markdown",
   "id": "b90c6a2f",
   "metadata": {},
   "source": [
    "## Q: How would you model continuous barrier better?"
   ]
  },
  {
   "cell_type": "code",
   "execution_count": null,
   "id": "ad4042b8",
   "metadata": {},
   "outputs": [],
   "source": []
  }
 ],
 "metadata": {
  "kernelspec": {
   "display_name": "Python 3 (ipykernel)",
   "language": "python",
   "name": "python3"
  },
  "language_info": {
   "codemirror_mode": {
    "name": "ipython",
    "version": 3
   },
   "file_extension": ".py",
   "mimetype": "text/x-python",
   "name": "python",
   "nbconvert_exporter": "python",
   "pygments_lexer": "ipython3",
   "version": "3.9.13"
  }
 },
 "nbformat": 4,
 "nbformat_minor": 5
}
