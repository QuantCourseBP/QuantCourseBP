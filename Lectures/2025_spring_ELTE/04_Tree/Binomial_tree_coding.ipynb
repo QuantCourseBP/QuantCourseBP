{
 "cells": [
  {
   "cell_type": "markdown",
   "id": "ff5afd7e",
   "metadata": {},
   "source": [
    "# European contract pricing with Tree"
   ]
  },
  {
   "cell_type": "code",
   "execution_count": 22,
   "id": "b48f1a90",
   "metadata": {},
   "outputs": [],
   "source": [
    "import numpy as np\n",
    "from scipy.optimize import minimize\n",
    "from collections.abc import Callable"
   ]
  },
  {
   "cell_type": "markdown",
   "id": "4565b427",
   "metadata": {},
   "source": [
    "## Create European contract payoff"
   ]
  },
  {
   "cell_type": "code",
   "execution_count": 23,
   "id": "17aad77d",
   "metadata": {},
   "outputs": [],
   "source": [
    "def european_call_payoff(S: float, K: float) -> float:\n",
    "    return max(S-K, 0.0)"
   ]
  },
  {
   "cell_type": "markdown",
   "id": "f478bd3e",
   "metadata": {},
   "source": [
    "## Create Spot Tree"
   ]
  },
  {
   "cell_type": "code",
   "execution_count": 24,
   "id": "f901ad6b",
   "metadata": {},
   "outputs": [],
   "source": [
    "def create_spot_tree(spot: float, spot_mult_up: float, spot_mult_down: float, steps: int) -> list[list[float]]:\n",
    "    previous_level = [spot]\n",
    "    tree = [previous_level]\n",
    "    for _ in range(steps):\n",
    "        new_level = [s * spot_mult_down for s in previous_level]\n",
    "        new_level += [previous_level[-1] * spot_mult_up]\n",
    "        tree += [new_level]\n",
    "        previous_level = new_level\n",
    "    return tree"
   ]
  },
  {
   "cell_type": "code",
   "execution_count": 25,
   "id": "be9e0bda",
   "metadata": {},
   "outputs": [
    {
     "data": {
      "text/plain": [
       "[['1.000'],\n",
       " ['0.800', '1.200'],\n",
       " ['0.640', '0.960', '1.440'],\n",
       " ['0.512', '0.768', '1.152', '1.728']]"
      ]
     },
     "execution_count": 25,
     "metadata": {},
     "output_type": "execute_result"
    }
   ],
   "source": [
    "spot = 1\n",
    "spot_mult_up = 1.2\n",
    "spot_mult_down = 0.8\n",
    "steps = 3\n",
    "spot_tree = create_spot_tree(spot, spot_mult_up, spot_mult_down, steps)\n",
    "spot_tree_readable = [['%.3f' % e for e in n] for n in spot_tree]\n",
    "spot_tree_readable"
   ]
  },
  {
   "cell_type": "markdown",
   "id": "607512e4",
   "metadata": {},
   "source": [
    "## Create Price Tree"
   ]
  },
  {
   "cell_type": "code",
   "execution_count": 26,
   "id": "52ecfcbe",
   "metadata": {},
   "outputs": [],
   "source": [
    "def create_discounted_price_tree(spot_tree: list[list[float]], discount_factor: float, K: float, diag: int = 0) -> list[list[float]]:\n",
    "    \n",
    "    spot = spot_tree[0][0]\n",
    "    spot_mult_up = spot_tree[1][-1]\n",
    "    spot_mult_down = spot_tree[1][0]\n",
    "    p_up = ((1 / discount_factor - spot_mult_down) /\n",
    "                   (spot_mult_up - spot_mult_down))\n",
    "    p_down = 1 - p_up\n",
    "    steps = len(spot_tree) - 1\n",
    "    continuation_value_tree = [[np.nan for _ in level] for level in spot_tree]\n",
    "    if diag > 0:\n",
    "        print(\"risk-neutral measure: \")\n",
    "        print(('%.3f' % p_up, '%.3f' % p_down))\n",
    "        # init delta tree\n",
    "        delta_tree = [[np.nan for _ in level] for level in spot_tree[:-1]] #delta makes no sense for leaves\n",
    "    # going backwards, payoff is known in leaves\n",
    "    for i in range(len(spot_tree[-1])):\n",
    "        spot = spot_tree[-1][i]\n",
    "        discounted_continuation_value = discount_factor**(steps) * european_call_payoff(spot, K)\n",
    "        continuation_value_tree[-1][i] = discounted_continuation_value\n",
    "    for step in range(steps - 1, -1, -1):\n",
    "        for i in range(len(spot_tree[step])):\n",
    "            continuation_value_tree[step][i] = p_up * continuation_value_tree[step + 1][i] + \\\n",
    "                                            p_down * continuation_value_tree[step + 1][i + 1]\n",
    "            if diag > 0:\n",
    "                delta_tree[step][i] = ((continuation_value_tree[step + 1][i] - continuation_value_tree[step + 1][i + 1]) \n",
    "                                       / (spot_tree[step + 1][i] - spot_tree[step + 1][i + 1]))\n",
    "    if diag > 0:\n",
    "        print(\"delta: \")\n",
    "        delta_tree_readable = [['%.3f' % e for e in n] for n in delta_tree]\n",
    "        print(delta_tree_readable)\n",
    "    return continuation_value_tree"
   ]
  },
  {
   "cell_type": "code",
   "execution_count": 27,
   "id": "30b6b08f",
   "metadata": {},
   "outputs": [
    {
     "name": "stdout",
     "output_type": "stream",
     "text": [
      "risk-neutral measure: \n",
      "('0.632', '0.368')\n",
      "delta: \n",
      "[['0.319'], ['0.150', '0.551'], ['-0.000', '0.339', '0.857']]\n",
      "Price tree:\n"
     ]
    },
    {
     "data": {
      "text/plain": [
       "[['0.065'],\n",
       " ['0.018', '0.145'],\n",
       " ['0.000', '0.048', '0.312'],\n",
       " ['0.000', '0.000', '0.130', '0.624']]"
      ]
     },
     "execution_count": 27,
     "metadata": {},
     "output_type": "execute_result"
    }
   ],
   "source": [
    "discount_factor = 0.95\n",
    "strike = 1\n",
    "diag = 1\n",
    "price_tree = create_discounted_price_tree(spot_tree, discount_factor, strike, diag)\n",
    "price_tree_readable = [['%.3f' % e for e in n] for n in price_tree]\n",
    "print(\"Price tree:\")\n",
    "price_tree_readable"
   ]
  },
  {
   "cell_type": "code",
   "execution_count": 28,
   "id": "59dea471",
   "metadata": {},
   "outputs": [
    {
     "name": "stdout",
     "output_type": "stream",
     "text": [
      "0.397\n"
     ]
    }
   ],
   "source": [
    "pv_up_up = 0.44*0.95*0.95\n",
    "print('%.3f' % pv_up_up)"
   ]
  },
  {
   "cell_type": "code",
   "execution_count": 29,
   "id": "20084ba6",
   "metadata": {},
   "outputs": [
    {
     "name": "stdout",
     "output_type": "stream",
     "text": [
      "0.146\n"
     ]
    }
   ],
   "source": [
    "mid_step = 0.3971 * 0.3684210526315791\n",
    "print('%.3f' % mid_step)"
   ]
  },
  {
   "cell_type": "markdown",
   "id": "626009f5",
   "metadata": {},
   "source": [
    "## Balanced Tree"
   ]
  },
  {
   "cell_type": "code",
   "execution_count": 30,
   "id": "8c121d86",
   "metadata": {},
   "outputs": [],
   "source": [
    "def calcBalancedDownStep(spot_mult_up: float, discount_factor: float) -> (float, float):\n",
    "    return spot_mult_up - 2 * (spot_mult_up - 1 / discount_factor)"
   ]
  },
  {
   "cell_type": "code",
   "execution_count": 31,
   "id": "520b2e34",
   "metadata": {},
   "outputs": [
    {
     "name": "stdout",
     "output_type": "stream",
     "text": [
      "spot_mult_up: 1.200\n",
      "spot_mult_down: 0.905\n",
      "spot_tree: [['1.000'], ['0.905', '1.200'], ['0.820', '1.086', '1.440'], ['0.742', '0.983', '1.304', '1.728']]\n",
      "risk-neutral measure: \n",
      "('0.500', '0.500')\n",
      "delta: \n",
      "[['0.750'], ['0.488', '0.882'], ['-0.000', '0.813', '0.857']]\n",
      "price tree: [['0.176'], ['0.065', '0.286'], ['0.000', '0.130', '0.442'], ['0.000', '0.000', '0.260', '0.624']]\n"
     ]
    }
   ],
   "source": [
    "print(\"spot_mult_up: \" + str('%.3f' %spot_mult_up))\n",
    "spot_mult_down_balanced = calcBalancedDownStep(spot_mult_up, discount_factor)\n",
    "print(\"spot_mult_down: \" + str('%.3f' %spot_mult_down_balanced))\n",
    "spot_tree = create_spot_tree(spot, spot_mult_up, spot_mult_down_balanced, steps)\n",
    "spot_tree_readable = [['%.3f' % e for e in n] for n in spot_tree]\n",
    "print(\"spot_tree: \" + str(spot_tree_readable))\n",
    "price_tree = create_discounted_price_tree(spot_tree, discount_factor, strike, 1)\n",
    "price_tree_readable = [['%.3f' % e for e in n] for n in price_tree]\n",
    "print(\"price tree: \" + str(price_tree_readable))"
   ]
  },
  {
   "cell_type": "code",
   "execution_count": 32,
   "id": "30182f4c",
   "metadata": {},
   "outputs": [],
   "source": [
    "prices = []\n",
    "diag = 0\n",
    "mults = np.arange(1.01,2,0.01)\n",
    "for  mult in mults:\n",
    "    spot_mult_down_balanced = calcBalancedDownStep(spot_mult_up, discount_factor)\n",
    "    spot_tree = create_spot_tree(spot, spot_mult_up, spot_mult_down_balanced, steps)\n",
    "    price_tree = create_discounted_price_tree(spot_tree, discount_factor, strike, diag)\n",
    "    prices += [price_tree[0][0]] \n",
    "\n"
   ]
  },
  {
   "cell_type": "code",
   "execution_count": null,
   "id": "7d95eff8",
   "metadata": {},
   "outputs": [],
   "source": []
  },
  {
   "cell_type": "markdown",
   "id": "f584a74a",
   "metadata": {},
   "source": [
    "## Delta is close to 0.5 for At The Money Forward option"
   ]
  },
  {
   "cell_type": "code",
   "execution_count": 33,
   "id": "0c3e877b",
   "metadata": {},
   "outputs": [
    {
     "name": "stdout",
     "output_type": "stream",
     "text": [
      "risk-neutral measure: \n",
      "('0.500', '0.500')\n",
      "delta: \n",
      "[['0.593'], ['0.314', '0.751'], ['-0.000', '0.524', '0.857']]\n",
      "price tree:\n"
     ]
    },
    {
     "data": {
      "text/plain": [
       "[['0.129'],\n",
       " ['0.042', '0.217'],\n",
       " ['0.000', '0.084', '0.350'],\n",
       " ['0.000', '0.000', '0.168', '0.532']]"
      ]
     },
     "execution_count": 33,
     "metadata": {},
     "output_type": "execute_result"
    }
   ],
   "source": [
    "strike_ATMF = 1/0.95**2\n",
    "price_tree = create_discounted_price_tree(spot_tree, discount_factor, strike_ATMF, 1)\n",
    "price_tree_readable = [['%.3f' % e for e in n] for n in price_tree]\n",
    "print(\"price tree:\")\n",
    "price_tree_readable"
   ]
  },
  {
   "cell_type": "markdown",
   "id": "87b376b5",
   "metadata": {},
   "source": [
    "## Barrier options"
   ]
  },
  {
   "cell_type": "code",
   "execution_count": 34,
   "id": "48809b42",
   "metadata": {},
   "outputs": [],
   "source": [
    "def up_and_out(B: float) -> Callable[float, float]:\n",
    "    def knock_multiplier(s: float) -> float:\n",
    "        return 1.0 if (s < B) else 0.0\n",
    "    return knock_multiplier"
   ]
  },
  {
   "cell_type": "code",
   "execution_count": 35,
   "id": "6ab56737",
   "metadata": {},
   "outputs": [],
   "source": [
    "def create_discounted_price_tree_ko(spot_tree: list[list[float]], discount_factor: float, K: float, ko_function: Callable[float, float], diag: int = 0) -> list[list[float]]:\n",
    "    spot = spot_tree[0][0]\n",
    "    spot_mult_up = spot_tree[1][-1]\n",
    "    spot_mult_down = spot_tree[1][0]\n",
    "    p_up = ((1 / discount_factor - spot_mult_down) /\n",
    "                   (spot_mult_up - spot_mult_down))\n",
    "    p_down = 1 - p_up\n",
    "    steps = len(spot_tree) - 1\n",
    "    continuation_value_tree = [[np.nan for _ in level] for level in spot_tree]\n",
    "    if diag > 0:\n",
    "        print(\"risk-neutral measure: \")\n",
    "        print((p_up, p_down))\n",
    "        # init delta tree\n",
    "        delta_tree = [[np.nan for _ in level] for level in spot_tree[:-1]] #delta makes no sense for leaves\n",
    "    # going backwards, payoff is known in leaves\n",
    "    for i in range(len(spot_tree[-1])):\n",
    "        spot = spot_tree[-1][i]\n",
    "        discounted_continuation_value = discount_factor**(steps) * european_call_payoff(spot, K) * ko_function(spot)\n",
    "        continuation_value_tree[-1][i] = discounted_continuation_value\n",
    "    for step in range(steps - 1, -1, -1):\n",
    "        for i in range(len(spot_tree[step])):\n",
    "            continuation_value_tree[step][i] = p_up * continuation_value_tree[step + 1][i] + \\\n",
    "                                            p_down * continuation_value_tree[step + 1][i + 1]\n",
    "            continuation_value_tree[step][i] *= ko_function(spot_tree[step][i])\n",
    "            if diag > 0:\n",
    "                delta_tree[step][i] = ((continuation_value_tree[step + 1][i] - continuation_value_tree[step + 1][i + 1]) \n",
    "                                       / (spot_tree[step + 1][i] - spot_tree[step + 1][i + 1]))\n",
    "                delta_tree[step][i] *= ko_function(spot_tree[step][i])\n",
    "    if diag > 0:\n",
    "        print(\"delta: \")\n",
    "        delta_tree_readable = [['%.3f' % e for e in n] for n in delta_tree]\n",
    "        print(delta_tree_readable)\n",
    "    return continuation_value_tree"
   ]
  },
  {
   "cell_type": "code",
   "execution_count": 36,
   "id": "2b057f57",
   "metadata": {},
   "outputs": [
    {
     "data": {
      "text/plain": [
       "[['1.000'],\n",
       " ['0.969', '1.045'],\n",
       " ['0.940', '1.013', '1.092'],\n",
       " ['0.911', '0.982', '1.059', '1.142'],\n",
       " ['0.883', '0.952', '1.027', '1.107', '1.194'],\n",
       " ['0.856', '0.923', '0.996', '1.073', '1.157', '1.247'],\n",
       " ['0.830', '0.895', '0.965', '1.041', '1.122', '1.209', '1.304'],\n",
       " ['0.805', '0.868', '0.936', '1.009', '1.088', '1.173', '1.264', '1.363']]"
      ]
     },
     "execution_count": 36,
     "metadata": {},
     "output_type": "execute_result"
    }
   ],
   "source": [
    "# create spot tree\n",
    "spot = 1\n",
    "maturity = 1 # years\n",
    "steps_per_year = 7\n",
    "steps = steps_per_year * maturity\n",
    "discount_factor = 0.95 ** (1./steps_per_year) # discount factors have to be scaled to keep interest rate fixed\n",
    "spot_mult_up = np.exp((0.05 - 0.5 * 0.1 ** 2) / steps_per_year + 0.1 * np.sqrt(1./steps_per_year)) # step sizes are scaled as well\n",
    "spot_mult_down = calcBalancedDownStep(spot_mult_up, discount_factor)\n",
    "spot_tree = create_spot_tree(spot, spot_mult_up, spot_mult_down, steps)\n",
    "spot_tree_readable = [['%.3f' % e for e in n] for n in spot_tree]\n",
    "spot_tree_readable"
   ]
  },
  {
   "cell_type": "code",
   "execution_count": 37,
   "id": "df870cac",
   "metadata": {},
   "outputs": [
    {
     "name": "stdout",
     "output_type": "stream",
     "text": [
      "risk-neutral measure: \n",
      "(0.5, 0.5)\n",
      "delta: \n",
      "[['0.246'], ['0.386', '0.113'], ['0.378', '0.389', '-0.145'], ['0.181', '0.555', '0.229', '-0.490'], ['0.031', '0.317', '0.768', '-0.273', '-0.683'], ['-0.000', '0.060', '0.552', '0.957', '-1.410', '-0.000'], ['-0.000', '-0.000', '0.114', '0.950', '0.950', '-0.000', '-0.000']]\n",
      "Price tree:\n"
     ]
    },
    {
     "data": {
      "text/plain": [
       "[['0.044'],\n",
       " ['0.035', '0.054'],\n",
       " ['0.021', '0.049', '0.058'],\n",
       " ['0.007', '0.034', '0.064', '0.052'],\n",
       " ['0.001', '0.014', '0.055', '0.073', '0.031'],\n",
       " ['0.000', '0.002', '0.025', '0.085', '0.062', '0.000'],\n",
       " ['0.000', '0.000', '0.004', '0.046', '0.124', '0.000', '0.000'],\n",
       " ['0.000', '0.000', '0.000', '0.008', '0.083', '0.164', '0.000', '0.000']]"
      ]
     },
     "execution_count": 37,
     "metadata": {},
     "output_type": "execute_result"
    }
   ],
   "source": [
    "# create price tree\n",
    "strike = 1\n",
    "barrier = 1.2\n",
    "barrier_condition = up_and_out(barrier)\n",
    "diag = 1\n",
    "price_tree = create_discounted_price_tree_ko(spot_tree, discount_factor, strike, barrier_condition, diag)\n",
    "price_tree_readable = [['%.3f' % e for e in n] for n in price_tree]\n",
    "print(\"Price tree:\")\n",
    "price_tree_readable"
   ]
  },
  {
   "cell_type": "markdown",
   "id": "b90c6a2f",
   "metadata": {},
   "source": [
    "## Q: How would you model continuous barrier better?"
   ]
  },
  {
   "cell_type": "code",
   "execution_count": null,
   "id": "ad4042b8",
   "metadata": {},
   "outputs": [],
   "source": []
  }
 ],
 "metadata": {
  "kernelspec": {
   "display_name": "venv_quant_course_v39",
   "language": "python",
   "name": "python3"
  },
  "language_info": {
   "codemirror_mode": {
    "name": "ipython",
    "version": 3
   },
   "file_extension": ".py",
   "mimetype": "text/x-python",
   "name": "python",
   "nbconvert_exporter": "python",
   "pygments_lexer": "ipython3",
   "version": "3.9.13"
  }
 },
 "nbformat": 4,
 "nbformat_minor": 5
}
