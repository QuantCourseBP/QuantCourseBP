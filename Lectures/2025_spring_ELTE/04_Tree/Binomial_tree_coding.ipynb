{
 "cells": [
  {
   "cell_type": "markdown",
   "id": "ff5afd7e",
   "metadata": {},
   "source": [
    "# European contract pricing with Tree"
   ]
  },
  {
   "cell_type": "code",
   "execution_count": 17,
   "id": "b48f1a90",
   "metadata": {},
   "outputs": [],
   "source": [
    "import numpy as np\n",
    "from scipy.optimize import minimize\n",
    "from collections.abc import Callable"
   ]
  },
  {
   "cell_type": "markdown",
   "id": "4565b427",
   "metadata": {},
   "source": [
    "## Create European contract payoff"
   ]
  },
  {
   "cell_type": "code",
   "execution_count": 18,
   "id": "17aad77d",
   "metadata": {},
   "outputs": [],
   "source": [
    "def european_call_payoff(S: float, K: float) -> float:\n",
    "    return max(S-K, 0.0)"
   ]
  },
  {
   "cell_type": "markdown",
   "id": "f478bd3e",
   "metadata": {},
   "source": [
    "## Create Spot Tree"
   ]
  },
  {
   "cell_type": "code",
   "execution_count": 19,
   "id": "f901ad6b",
   "metadata": {},
   "outputs": [],
   "source": [
    "def create_spot_tree(spot: float, spot_mult_up: float, spot_mult_down: float, steps: int) -> list[list[float]]:\n",
    "    previous_level = [spot]\n",
    "    tree = [previous_level]\n",
    "    for _ in range(steps):\n",
    "        new_level = [s * spot_mult_down for s in previous_level]\n",
    "        new_level += [previous_level[-1] * spot_mult_up]\n",
    "        tree += [new_level]\n",
    "        previous_level = new_level\n",
    "    return tree"
   ]
  },
  {
   "cell_type": "code",
   "execution_count": 20,
   "id": "be9e0bda",
   "metadata": {},
   "outputs": [
    {
     "data": {
      "text/plain": [
       "[['1.000'], ['0.800', '1.200'], ['0.640', '0.960', '1.440']]"
      ]
     },
     "execution_count": 20,
     "metadata": {},
     "output_type": "execute_result"
    }
   ],
   "source": [
    "spot = 1\n",
    "spot_mult_up = 1.2\n",
    "spot_mult_down = 0.8\n",
    "steps = 2\n",
    "spot_tree = create_spot_tree(spot, spot_mult_up, spot_mult_down, steps)\n",
    "spot_tree_readable = [['%.3f' % e for e in n] for n in spot_tree]\n",
    "spot_tree_readable"
   ]
  },
  {
   "cell_type": "markdown",
   "id": "607512e4",
   "metadata": {},
   "source": [
    "## Create Price Tree"
   ]
  },
  {
   "cell_type": "code",
   "execution_count": 21,
   "id": "52ecfcbe",
   "metadata": {},
   "outputs": [],
   "source": [
    "def create_discounted_price_tree(spot_tree: list[list[float]], discount_factor: float, K: float, diag: int = 0) -> list[list[float]]:\n",
    "    spot = spot_tree[0][0]\n",
    "    spot_mult_up = spot_tree[1][-1]\n",
    "    spot_mult_down = spot_tree[1][0]\n",
    "    p_up = ((1 / discount_factor - spot_mult_down) /\n",
    "                   (spot_mult_up - spot_mult_down))\n",
    "    p_down = 1 - p_up\n",
    "    steps = len(spot_tree) - 1\n",
    "    continuation_value_tree = [[np.nan for _ in level] for level in spot_tree]\n",
    "    if diag > 0:\n",
    "        print(\"risk-neutral measure: \")\n",
    "        print(('%.3f' % p_up, '%.3f' % p_down))\n",
    "        # init delta tree\n",
    "        delta_tree = [[np.nan for _ in level] for level in spot_tree[:-1]] #delta makes no sense for leaves\n",
    "    # going backwards, payoff is known in leaves\n",
    "    for i in range(len(spot_tree[-1])):\n",
    "        spot = spot_tree[-1][i]\n",
    "        discounted_continuation_value = discount_factor**(steps) * european_call_payoff(spot, K)\n",
    "        continuation_value_tree[-1][i] = discounted_continuation_value\n",
    "    for step in range(steps - 1, -1, -1):\n",
    "        for i in range(len(spot_tree[step])):\n",
    "            continuation_value_tree[step][i] = p_up * continuation_value_tree[step + 1][i] + \\\n",
    "                                            p_down * continuation_value_tree[step + 1][i + 1]\n",
    "            if diag > 0:\n",
    "                delta_tree[step][i] = ((continuation_value_tree[step + 1][i] - continuation_value_tree[step + 1][i + 1]) \n",
    "                                       / (spot_tree[step + 1][i] - spot_tree[step + 1][i + 1]))\n",
    "    if diag > 0:\n",
    "        print(\"delta: \")\n",
    "        delta_tree_readable = [['%.3f' % e for e in n] for n in delta_tree]\n",
    "        print(delta_tree_readable)\n",
    "    return continuation_value_tree"
   ]
  },
  {
   "cell_type": "code",
   "execution_count": 22,
   "id": "30b6b08f",
   "metadata": {},
   "outputs": [
    {
     "name": "stdout",
     "output_type": "stream",
     "text": [
      "risk-neutral measure: \n",
      "('0.632', '0.368')\n",
      "delta: \n",
      "[['0.366'], ['-0.000', '0.827']]\n",
      "Price tree:\n"
     ]
    },
    {
     "data": {
      "text/plain": [
       "[['0.054'], ['0.000', '0.146'], ['0.000', '0.000', '0.397']]"
      ]
     },
     "execution_count": 22,
     "metadata": {},
     "output_type": "execute_result"
    }
   ],
   "source": [
    "discount_factor = 0.95\n",
    "strike = 1\n",
    "diag = 1\n",
    "price_tree = create_discounted_price_tree(spot_tree, discount_factor, strike, diag)\n",
    "price_tree_readable = [['%.3f' % e for e in n] for n in price_tree]\n",
    "print(\"Price tree:\")\n",
    "price_tree_readable"
   ]
  },
  {
   "cell_type": "code",
   "execution_count": 23,
   "id": "59dea471",
   "metadata": {},
   "outputs": [
    {
     "name": "stdout",
     "output_type": "stream",
     "text": [
      "0.397\n"
     ]
    }
   ],
   "source": [
    "pv_up_up = 0.44*0.95*0.95\n",
    "print('%.3f' % pv_up_up)"
   ]
  },
  {
   "cell_type": "code",
   "execution_count": 24,
   "id": "20084ba6",
   "metadata": {},
   "outputs": [
    {
     "name": "stdout",
     "output_type": "stream",
     "text": [
      "0.146\n"
     ]
    }
   ],
   "source": [
    "mid_step = 0.3971 * 0.3684210526315791\n",
    "print('%.3f' % mid_step)"
   ]
  },
  {
   "cell_type": "markdown",
   "id": "626009f5",
   "metadata": {},
   "source": [
    "## Balanced Tree"
   ]
  },
  {
   "cell_type": "code",
   "execution_count": 25,
   "id": "8c121d86",
   "metadata": {},
   "outputs": [],
   "source": [
    "def calcBalancedDownStep(spot_mult_up: float, discount_factor: float) -> (float, float):\n",
    "    return spot_mult_up - 2 * (spot_mult_up - 1 / discount_factor)"
   ]
  },
  {
   "cell_type": "code",
   "execution_count": 26,
   "id": "520b2e34",
   "metadata": {},
   "outputs": [
    {
     "name": "stdout",
     "output_type": "stream",
     "text": [
      "spot_mult_up: 1.200\n",
      "spot_mult_down: 0.905\n",
      "spot_tree: [['1.000'], ['0.905', '1.200'], ['0.820', '1.086', '1.440']]\n",
      "risk-neutral measure: \n",
      "('0.500', '0.500')\n",
      "delta: \n",
      "[['0.674'], ['0.292', '0.903']]\n",
      "price tree: [['0.138'], ['0.039', '0.237'], ['0.000', '0.078', '0.397']]\n"
     ]
    }
   ],
   "source": [
    "print(\"spot_mult_up: \" + str('%.3f' %spot_mult_up))\n",
    "spot_mult_down_balanced = calcBalancedDownStep(spot_mult_up, discount_factor)\n",
    "print(\"spot_mult_down: \" + str('%.3f' %spot_mult_down_balanced))\n",
    "spot_tree = create_spot_tree(spot, spot_mult_up, spot_mult_down_balanced, steps)\n",
    "spot_tree_readable = [['%.3f' % e for e in n] for n in spot_tree]\n",
    "print(\"spot_tree: \" + str(spot_tree_readable))\n",
    "price_tree = create_discounted_price_tree(spot_tree, discount_factor, strike, 1)\n",
    "price_tree_readable = [['%.3f' % e for e in n] for n in price_tree]\n",
    "print(\"price tree: \" + str(price_tree_readable))"
   ]
  },
  {
   "cell_type": "code",
   "execution_count": 14,
   "id": "2c425982",
   "metadata": {},
   "outputs": [],
   "source": [
    "prices = []\n",
    "diag = 0\n",
    "mults = np.arange(1.01,2.0,0.01)\n",
    "for spot_mult_up in mults:\n",
    "    spot_mult_down_balanced = calcBalancedDownStep(spot_mult_up, discount_factor)\n",
    "    spot_tree = create_spot_tree(spot, spot_mult_up, spot_mult_down, steps)\n",
    "    price_tree = create_discounted_price_tree(spot_tree, discount_factor, strike, diag)\n",
    "    prices += [price_tree[0][0]]\n",
    "    \n",
    "#magasabb step size --> magasabb árat ad"
   ]
  },
  {
   "cell_type": "code",
   "execution_count": 15,
   "id": "f974ed54",
   "metadata": {},
   "outputs": [
    {
     "data": {
      "text/plain": [
       "[0.0007475969387755084,\n",
       " 0.0008021570247933858,\n",
       " 0.0005321554820415828,\n",
       " 0.0002039999999999981,\n",
       " 1.02499999999992e-05,\n",
       " 8.959171597633386e-05,\n",
       " 0.0005411388888888974,\n",
       " 0.001434775510204097,\n",
       " 0.002818704221165302,\n",
       " 0.004725000000000033,\n",
       " 0.007173725546305977,\n",
       " 0.01017600000000005,\n",
       " 0.01373629958677693,\n",
       " 0.017854190311418775,\n",
       " 0.02252563775510213,\n",
       " 0.027744000000000112,\n",
       " 0.033500781775018404,\n",
       " 0.03978620775623282,\n",
       " 0.04658965828402382,\n",
       " 0.05390000000000019,\n",
       " 0.06170583596073788,\n",
       " 0.06999569387755124,\n",
       " 0.07875816671173633,\n",
       " 0.08798201652892589,\n",
       " 0.09765625000000043,\n",
       " 0.11134521928166392,\n",
       " 0.12549277965142644,\n",
       " 0.1400760000000005,\n",
       " 0.1550742649937531,\n",
       " 0.1704690000000005,\n",
       " 0.18624343339100408,\n",
       " 0.20238239053254498,\n",
       " 0.21887211472054177,\n",
       " 0.2357001111111118,\n",
       " 0.2528550103305793,\n",
       " 0.27032644897959257,\n",
       " 0.28810496468144126,\n",
       " 0.3061819036860888,\n",
       " 0.32454933934214386,\n",
       " 0.34320000000000095,\n",
       " 0.36212720511959245,\n",
       " 0.3813248085327791,\n",
       " 0.4007871479591845,\n",
       " 0.4205090000000009,\n",
       " 0.4404855399408294,\n",
       " 0.46071230578512495,\n",
       " 0.48118516601693123,\n",
       " 0.5019002906574405,\n",
       " 0.5228541252362959,\n",
       " 0.5440433673469398,\n",
       " 0.5654649454969264,\n",
       " 0.5871160000000012,\n",
       " 0.6089938656877475,\n",
       " 0.6310960562454357,\n",
       " 0.6534202500000013,\n",
       " 0.6759642770083114,\n",
       " 0.6987261073115211,\n",
       " 0.7217038402366877,\n",
       " 0.7448956946402834,\n",
       " 0.7683000000000016,\n",
       " 0.7919151882716062,\n",
       " 0.8157397864366465,\n",
       " 0.8397724096748457,\n",
       " 0.8640117551020422,\n",
       " 0.8884565960207629,\n",
       " 0.9131057766360213,\n",
       " 0.9379582071938185,\n",
       " 0.9630128595041341,\n",
       " 0.9882687628140404,\n",
       " 1.0137250000000015,\n",
       " 1.039380704051445,\n",
       " 1.0652350548204177,\n",
       " 1.0912872760145702,\n",
       " 1.1175366324128584,\n",
       " 1.1439824272853205,\n",
       " 1.170624000000002,\n",
       " 1.1974607238016812,\n",
       " 1.22449200374844,\n",
       " 1.2517172747933907,\n",
       " 1.2791360000000023,\n",
       " 1.306747668880504,\n",
       " 1.3345517958477529,\n",
       " 1.3625479187717997,\n",
       " 1.3907355976331384,\n",
       " 1.4191144132653086,\n",
       " 1.4476839661801375,\n",
       " 1.4764438754694758,\n",
       " 1.5053937777777802,\n",
       " 1.534533326340378,\n",
       " 1.5638621900826473,\n",
       " 1.5933800527757513,\n",
       " 1.6230866122449006,\n",
       " 1.6529815796264418,\n",
       " 1.683064678670363,\n",
       " 1.7133356450850692,\n",
       " 1.7437942259215249,\n",
       " 1.7744401789940856,\n",
       " 1.805273272335539,\n",
       " 1.8362932836840644]"
      ]
     },
     "execution_count": 15,
     "metadata": {},
     "output_type": "execute_result"
    }
   ],
   "source": [
    "prices"
   ]
  },
  {
   "cell_type": "markdown",
   "id": "f584a74a",
   "metadata": {},
   "source": [
    "## Delta is close to 0.5 for At The Money Forward option"
   ]
  },
  {
   "cell_type": "code",
   "execution_count": 27,
   "id": "0c3e877b",
   "metadata": {},
   "outputs": [
    {
     "name": "stdout",
     "output_type": "stream",
     "text": [
      "risk-neutral measure: \n",
      "('0.500', '0.500')\n",
      "delta: \n",
      "[['0.508'], ['-0.000', '0.847']]\n",
      "price tree:\n"
     ]
    },
    {
     "data": {
      "text/plain": [
       "[['0.075'], ['0.000', '0.150'], ['0.000', '0.000', '0.300']]"
      ]
     },
     "execution_count": 27,
     "metadata": {},
     "output_type": "execute_result"
    }
   ],
   "source": [
    "strike_ATMF = 1/0.95**2\n",
    "price_tree = create_discounted_price_tree(spot_tree, discount_factor, strike_ATMF, 1)\n",
    "price_tree_readable = [['%.3f' % e for e in n] for n in price_tree]\n",
    "print(\"price tree:\")\n",
    "price_tree_readable"
   ]
  },
  {
   "cell_type": "markdown",
   "id": "87b376b5",
   "metadata": {},
   "source": [
    "## Barrier options"
   ]
  },
  {
   "cell_type": "code",
   "execution_count": 28,
   "id": "48809b42",
   "metadata": {},
   "outputs": [],
   "source": [
    "def up_and_out(B: float) -> Callable[float, float]:\n",
    "    def knock_multiplier(s: float) -> float:\n",
    "        return 1.0 if (s < B) else 0.0\n",
    "    return knock_multiplier"
   ]
  },
  {
   "cell_type": "code",
   "execution_count": 29,
   "id": "6ab56737",
   "metadata": {},
   "outputs": [],
   "source": [
    "def create_discounted_price_tree_ko(spot_tree: list[list[float]], discount_factor: float, K: float, ko_function: Callable[float, float], diag: int = 0) -> list[list[float]]:\n",
    "    spot = spot_tree[0][0]\n",
    "    spot_mult_up = spot_tree[1][-1]\n",
    "    spot_mult_down = spot_tree[1][0]\n",
    "    p_up = ((1 / discount_factor - spot_mult_down) /\n",
    "                   (spot_mult_up - spot_mult_down))\n",
    "    p_down = 1 - p_up\n",
    "    steps = len(spot_tree) - 1\n",
    "    continuation_value_tree = [[np.nan for _ in level] for level in spot_tree]\n",
    "    if diag > 0:\n",
    "        print(\"risk-neutral measure: \")\n",
    "        print((p_up, p_down))\n",
    "        # init delta tree\n",
    "        delta_tree = [[np.nan for _ in level] for level in spot_tree[:-1]] #delta makes no sense for leaves\n",
    "    # going backwards, payoff is known in leaves\n",
    "    for i in range(len(spot_tree[-1])):\n",
    "        spot = spot_tree[-1][i]\n",
    "        discounted_continuation_value = discount_factor**(steps) * european_call_payoff(spot, K) * ko_function(spot)\n",
    "        continuation_value_tree[-1][i] = discounted_continuation_value\n",
    "    for step in range(steps - 1, -1, -1):\n",
    "        for i in range(len(spot_tree[step])):\n",
    "            continuation_value_tree[step][i] = p_up * continuation_value_tree[step + 1][i] + \\\n",
    "                                            p_down * continuation_value_tree[step + 1][i + 1]\n",
    "            continuation_value_tree[step][i] *= ko_function(spot_tree[step][i])\n",
    "            if diag > 0:\n",
    "                delta_tree[step][i] = ((continuation_value_tree[step + 1][i] - continuation_value_tree[step + 1][i + 1]) \n",
    "                                       / (spot_tree[step + 1][i] - spot_tree[step + 1][i + 1]))\n",
    "                delta_tree[step][i] *= ko_function(spot_tree[step][i])\n",
    "    if diag > 0:\n",
    "        print(\"delta: \")\n",
    "        delta_tree_readable = [['%.3f' % e for e in n] for n in delta_tree]\n",
    "        print(delta_tree_readable)\n",
    "    return continuation_value_tree"
   ]
  },
  {
   "cell_type": "code",
   "execution_count": 30,
   "id": "2b057f57",
   "metadata": {},
   "outputs": [
    {
     "data": {
      "text/plain": [
       "[['1.000'],\n",
       " ['0.969', '1.045'],\n",
       " ['0.940', '1.013', '1.092'],\n",
       " ['0.911', '0.982', '1.059', '1.142'],\n",
       " ['0.883', '0.952', '1.027', '1.107', '1.194'],\n",
       " ['0.856', '0.923', '0.996', '1.073', '1.157', '1.247'],\n",
       " ['0.830', '0.895', '0.965', '1.041', '1.122', '1.209', '1.304'],\n",
       " ['0.805', '0.868', '0.936', '1.009', '1.088', '1.173', '1.264', '1.363']]"
      ]
     },
     "execution_count": 30,
     "metadata": {},
     "output_type": "execute_result"
    }
   ],
   "source": [
    "# create spot tree\n",
    "spot = 1\n",
    "maturity = 1 # years\n",
    "steps_per_year = 7\n",
    "steps = steps_per_year * maturity\n",
    "discount_factor = 0.95 ** (1./steps_per_year) # discount factors have to be scaled to keep interest rate fixed\n",
    "spot_mult_up = np.exp((0.05 - 0.5 * 0.1 ** 2) / steps_per_year + 0.1 * np.sqrt(1./steps_per_year)) # step sizes are scaled as well\n",
    "spot_mult_down = calcBalancedDownStep(spot_mult_up, discount_factor)\n",
    "spot_tree = create_spot_tree(spot, spot_mult_up, spot_mult_down, steps)\n",
    "spot_tree_readable = [['%.3f' % e for e in n] for n in spot_tree]\n",
    "spot_tree_readable"
   ]
  },
  {
   "cell_type": "code",
   "execution_count": 31,
   "id": "df870cac",
   "metadata": {},
   "outputs": [
    {
     "name": "stdout",
     "output_type": "stream",
     "text": [
      "risk-neutral measure: \n",
      "(0.5, 0.5)\n",
      "delta: \n",
      "[['0.246'], ['0.386', '0.113'], ['0.378', '0.389', '-0.145'], ['0.181', '0.555', '0.229', '-0.490'], ['0.031', '0.317', '0.768', '-0.273', '-0.683'], ['-0.000', '0.060', '0.552', '0.957', '-1.410', '-0.000'], ['-0.000', '-0.000', '0.114', '0.950', '0.950', '-0.000', '-0.000']]\n",
      "Price tree:\n"
     ]
    },
    {
     "data": {
      "text/plain": [
       "[['0.044'],\n",
       " ['0.035', '0.054'],\n",
       " ['0.021', '0.049', '0.058'],\n",
       " ['0.007', '0.034', '0.064', '0.052'],\n",
       " ['0.001', '0.014', '0.055', '0.073', '0.031'],\n",
       " ['0.000', '0.002', '0.025', '0.085', '0.062', '0.000'],\n",
       " ['0.000', '0.000', '0.004', '0.046', '0.124', '0.000', '0.000'],\n",
       " ['0.000', '0.000', '0.000', '0.008', '0.083', '0.164', '0.000', '0.000']]"
      ]
     },
     "execution_count": 31,
     "metadata": {},
     "output_type": "execute_result"
    }
   ],
   "source": [
    "# create price tree\n",
    "strike = 1\n",
    "barrier = 1.2\n",
    "barrier_condition = up_and_out(barrier)\n",
    "diag = 1\n",
    "price_tree = create_discounted_price_tree_ko(spot_tree, discount_factor, strike, barrier_condition, diag)\n",
    "price_tree_readable = [['%.3f' % e for e in n] for n in price_tree]\n",
    "print(\"Price tree:\")\n",
    "price_tree_readable"
   ]
  },
  {
   "cell_type": "markdown",
   "id": "b90c6a2f",
   "metadata": {},
   "source": [
    "## Q: How would you model continuous barrier better?"
   ]
  },
  {
   "cell_type": "code",
   "execution_count": null,
   "id": "ad4042b8",
   "metadata": {},
   "outputs": [],
   "source": []
  }
 ],
 "metadata": {
  "kernelspec": {
   "display_name": "Python 3 (ipykernel)",
   "language": "python",
   "name": "python3"
  },
  "language_info": {
   "codemirror_mode": {
    "name": "ipython",
    "version": 3
   },
   "file_extension": ".py",
   "mimetype": "text/x-python",
   "name": "python",
   "nbconvert_exporter": "python",
   "pygments_lexer": "ipython3",
   "version": "3.9.13"
  }
 },
 "nbformat": 4,
 "nbformat_minor": 5
}
