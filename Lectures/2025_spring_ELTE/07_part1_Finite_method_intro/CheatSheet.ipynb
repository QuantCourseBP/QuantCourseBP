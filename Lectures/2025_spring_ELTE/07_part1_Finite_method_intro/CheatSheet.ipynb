{
 "cells": [
  {
   "cell_type": "markdown",
   "id": "24d55d78",
   "metadata": {},
   "source": [
    "# Numpy arrays"
   ]
  },
  {
   "cell_type": "code",
   "execution_count": 1,
   "id": "1f91e440",
   "metadata": {},
   "outputs": [],
   "source": [
    "import numpy as np"
   ]
  },
  {
   "cell_type": "markdown",
   "id": "221fe155",
   "metadata": {},
   "source": [
    "## Create"
   ]
  },
  {
   "cell_type": "code",
   "execution_count": 7,
   "id": "58bb9f0d",
   "metadata": {},
   "outputs": [
    {
     "data": {
      "text/plain": [
       "array([[0., 0.],\n",
       "       [0., 0.],\n",
       "       [0., 0.],\n",
       "       [0., 0.]])"
      ]
     },
     "execution_count": 7,
     "metadata": {},
     "output_type": "execute_result"
    }
   ],
   "source": [
    "n_rows = 4\n",
    "n_cols = 2\n",
    "my_array = np.zeros((n_rows, n_cols))\n",
    "my_array"
   ]
  },
  {
   "cell_type": "code",
   "execution_count": 8,
   "id": "d69f3127",
   "metadata": {},
   "outputs": [
    {
     "data": {
      "text/plain": [
       "array([1., 1.])"
      ]
     },
     "execution_count": 8,
     "metadata": {},
     "output_type": "execute_result"
    }
   ],
   "source": [
    "my_vector = np.ones(n_cols)\n",
    "my_vector"
   ]
  },
  {
   "cell_type": "code",
   "execution_count": 9,
   "id": "3e348dc5",
   "metadata": {},
   "outputs": [
    {
     "data": {
      "text/plain": [
       "array([[1, 0, 0],\n",
       "       [0, 2, 0],\n",
       "       [0, 0, 3]])"
      ]
     },
     "execution_count": 9,
     "metadata": {},
     "output_type": "execute_result"
    }
   ],
   "source": [
    "diagonal_matrix = np.diag([1,2,3])\n",
    "diagonal_matrix"
   ]
  },
  {
   "cell_type": "code",
   "execution_count": 10,
   "id": "3f6bf89e",
   "metadata": {},
   "outputs": [
    {
     "data": {
      "text/plain": [
       "array([[0, 1, 0, 0],\n",
       "       [0, 0, 2, 0],\n",
       "       [0, 0, 0, 3],\n",
       "       [0, 0, 0, 0]])"
      ]
     },
     "execution_count": 10,
     "metadata": {},
     "output_type": "execute_result"
    }
   ],
   "source": [
    "shifted_diag = np.diag([1,2,3],1)\n",
    "shifted_diag"
   ]
  },
  {
   "cell_type": "markdown",
   "id": "635c3b51",
   "metadata": {},
   "source": [
    "## Indexing"
   ]
  },
  {
   "cell_type": "code",
   "execution_count": 11,
   "id": "c7eb12d3",
   "metadata": {},
   "outputs": [
    {
     "data": {
      "text/plain": [
       "array([[  0.,   1.],\n",
       "       [100., 101.],\n",
       "       [200., 201.],\n",
       "       [300., 301.]])"
      ]
     },
     "execution_count": 11,
     "metadata": {},
     "output_type": "execute_result"
    }
   ],
   "source": [
    "for row in range(n_rows):\n",
    "    for col in range(n_cols):\n",
    "        my_array[row, col] = 100*row+col\n",
    "my_array"
   ]
  },
  {
   "cell_type": "markdown",
   "id": "0518d8e6",
   "metadata": {},
   "source": [
    "## Operations"
   ]
  },
  {
   "cell_type": "code",
   "execution_count": 12,
   "id": "aeff6ff6",
   "metadata": {},
   "outputs": [
    {
     "data": {
      "text/plain": [
       "array([[ 42.,  43.],\n",
       "       [142., 143.],\n",
       "       [242., 243.],\n",
       "       [342., 343.]])"
      ]
     },
     "execution_count": 12,
     "metadata": {},
     "output_type": "execute_result"
    }
   ],
   "source": [
    "my_array+42.0"
   ]
  },
  {
   "cell_type": "code",
   "execution_count": 13,
   "id": "d82de04a",
   "metadata": {},
   "outputs": [
    {
     "data": {
      "text/plain": [
       "array([[    0.,    42.],\n",
       "       [ 4200.,  4242.],\n",
       "       [ 8400.,  8442.],\n",
       "       [12600., 12642.]])"
      ]
     },
     "execution_count": 13,
     "metadata": {},
     "output_type": "execute_result"
    }
   ],
   "source": [
    "my_array*42"
   ]
  },
  {
   "cell_type": "code",
   "execution_count": 14,
   "id": "69799dce",
   "metadata": {},
   "outputs": [
    {
     "data": {
      "text/plain": [
       "array([  1., 201., 401., 601.])"
      ]
     },
     "execution_count": 14,
     "metadata": {},
     "output_type": "execute_result"
    }
   ],
   "source": [
    "np.dot(my_array, my_vector)"
   ]
  },
  {
   "cell_type": "markdown",
   "id": "7f9866c8",
   "metadata": {},
   "source": [
    "# Solve:\n",
    "$$\\underline{\\underline{M}}\\cdot\\underline{x}=\\underline{v}$$"
   ]
  },
  {
   "cell_type": "code",
   "execution_count": 19,
   "id": "f3a0c238",
   "metadata": {},
   "outputs": [
    {
     "name": "stdout",
     "output_type": "stream",
     "text": [
      "M=[[ 1  1]\n",
      " [ 1 -1]]\n",
      " v=[179  95]\n"
     ]
    }
   ],
   "source": [
    "M = np.array([[1,1], [1, -1]])\n",
    "v = np.array([179, 95])\n",
    "print(f\"M={M}\\n v={v}\")"
   ]
  },
  {
   "cell_type": "code",
   "execution_count": 21,
   "id": "8a6f50a6",
   "metadata": {},
   "outputs": [
    {
     "name": "stdout",
     "output_type": "stream",
     "text": [
      "Solution: x=[137.  42.]\n"
     ]
    }
   ],
   "source": [
    "from scipy import linalg\n",
    "x = linalg.solve(M, v)\n",
    "print(f\"Solution: x={x}\")"
   ]
  }
 ],
 "metadata": {
  "kernelspec": {
   "display_name": "Python 3 (ipykernel)",
   "language": "python",
   "name": "python3"
  },
  "language_info": {
   "codemirror_mode": {
    "name": "ipython",
    "version": 3
   },
   "file_extension": ".py",
   "mimetype": "text/x-python",
   "name": "python",
   "nbconvert_exporter": "python",
   "pygments_lexer": "ipython3",
   "version": "3.9.13"
  }
 },
 "nbformat": 4,
 "nbformat_minor": 5
}
