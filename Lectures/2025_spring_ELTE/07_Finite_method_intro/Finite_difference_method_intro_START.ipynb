{
 "cells": [
  {
   "cell_type": "markdown",
   "id": "5fab52d8",
   "metadata": {
    "slideshow": {
     "slide_type": "slide"
    }
   },
   "source": [
    "\n",
    "\n",
    "<h3><center>Introduction to building a quant pricing library</center></h3>\n",
    "<h1><center>Finite-Difference Methods for Diffusion Equations</center></h1>\n",
    "<h3><center>Abdulwahab, Animoku</center></h3>\n",
    "<h4><center>26 March, 2025</center></h4>"
   ]
  },
  {
   "cell_type": "markdown",
   "id": "4c7c6a2a",
   "metadata": {
    "slideshow": {
     "slide_type": "slide"
    }
   },
   "source": [
    "# Outline:\n",
    "\n",
    "\n",
    "<b>Introduction</b>\n",
    "* Classification of PDEs\n",
    "* Finite Differences\n",
    "\n",
    "<b>Finite Difference Methods for Parabolic PDEs</b>\n",
    "    \n",
    "* An Explicit Method\n",
    "* An Implicit Method\n",
    "* Crank-Nicolson Method\n",
    "\n"
   ]
  },
  {
   "cell_type": "markdown",
   "id": "da2d90bc",
   "metadata": {
    "slideshow": {
     "slide_type": "slide"
    }
   },
   "source": [
    "# Classification of PDEs\n",
    "It was found that the value $V = V (S, t)$ for European options must satisfy the\n",
    "equation \n",
    "  $$ \\frac{\\partial V}{\\partial t} + \\frac{1}{2}\\sigma^2 S^2\\frac{\\partial V^2}{\\partial S^2} + rS \\frac{\\partial V}{\\partial S} - rV =0, \\quad (1)$$ \n",
    "The Black-Scholes PDE in (1) has various mathematical classifications: it is\n",
    "second-order, linear, and parabolic"
   ]
  },
  {
   "cell_type": "markdown",
   "id": "b1909350",
   "metadata": {
    "slideshow": {
     "slide_type": "slide"
    }
   },
   "source": [
    "It is customary to classify a linear (or a quasilinear) second-order PDE of the form\n",
    "$$a \\frac{\\partial^2 u}{\\partial x^2} + b \\frac{\\partial^2 u}{\\partial x \\partial y} + \n",
    "  \\frac{\\partial^2 u}{\\partial y^2} + d \\frac{\\partial u}{\\partial x}  + e \\frac{\\partial u}{\\partial y} + fu + g = 0.  \\quad (2)$$\n",
    "  \n",
    "* if $b^2 − 4ac > 0,$ then the equation (2) is called hyperbolic,\n",
    "* if $b^2 − 4ac = 0,$ then the equation (2) is called parabolic,\n",
    "* if $b^2 − 4ac < 0,$ then the equation (2) is called elliptic.  "
   ]
  },
  {
   "cell_type": "markdown",
   "id": "15417b79",
   "metadata": {
    "slideshow": {
     "slide_type": "slide"
    }
   },
   "source": [
    "# Canonical Forms\n",
    "\n",
    "A typical example for an <b>elliptic PDE</b> is the <b>Laplace equation</b>,\n",
    "$$ \\frac{\\partial u^2}{\\partial x^2} +\\frac{\\partial u^2}{\\partial y^2} = 0.$$\n",
    "\n",
    "Here, $a = c = 1$ and $b = 0,$ so that $b^2 − 4ac = −4 < 0.$ \n",
    "\n",
    "The <b>wave equation</b>,\n",
    "$$\\frac{\\partial u^2}{\\partial t^2} − \\rho^2 \\frac{\\partial u^2}{\\partial x^2} = 0,$$\n",
    "where $t$ represents time, and $\\rho$ is a specific constant, is a typical example of a\n",
    "<b>hyperbolic equation</b>, since the discriminant is $4 \\rho^2 > 0.$ \n"
   ]
  },
  {
   "cell_type": "markdown",
   "id": "590d5121",
   "metadata": {
    "slideshow": {
     "slide_type": "slide"
    }
   },
   "source": [
    "Finally, the <b>heat equation</b>, or the diffusion equation,\n",
    "$$\\frac{\\partial u}{\\partial t} = k \\frac{\\partial u^2}{\\partial x^2},$$\n",
    "is an example of a <b>parabolic equation</b>, where $t$ is the time and $k$ is a specific\n",
    "constant."
   ]
  },
  {
   "cell_type": "markdown",
   "id": "90a6e1c2",
   "metadata": {
    "slideshow": {
     "slide_type": "slide"
    }
   },
   "source": [
    "### Well- Posed Problems\n",
    "Roughly speaking, a PDE must be accompanied with either an initial condition or boundary conditions, or both in order to have a solution in some certain class of functions. For instance,\n",
    "$$\\frac{\\partial u}{\\partial t}  =\\frac{\\partial u^2}{\\partial x^2}, 0 < x < 1, t > 0, $$\n",
    "$$u(x, 0) = f(x), 0 \\leq x \\leq 1,$$\n",
    "$$u(0, t) = a, u(1, t) = b, t \\geq 0,$$\n",
    "which is called an <b>initial boundary value problem</b>.\n",
    "\n"
   ]
  },
  {
   "cell_type": "markdown",
   "id": "204f21a3",
   "metadata": {
    "slideshow": {
     "slide_type": "slide"
    }
   },
   "source": [
    "## Definition (Well-Posedness):\n",
    " A problem is called well-posed if\n",
    "* there is a solution,\n",
    "* the solution is unique,\n",
    "* the solution depends continuously on the initial data."
   ]
  },
  {
   "cell_type": "code",
   "execution_count": null,
   "id": "b2c2af27",
   "metadata": {
    "ExecuteTime": {
     "end_time": "2023-10-10T15:25:48.056231Z",
     "start_time": "2023-10-10T15:25:48.041229Z"
    },
    "slideshow": {
     "slide_type": "skip"
    }
   },
   "outputs": [],
   "source": [
    "import matplotlib.pyplot as plt\n",
    "\n",
    "to_plot = [ {'data': [[0]*6, list(range(6))],\n",
    "             'color':'r',\n",
    "             'title':'Our interests'},\n",
    "           {'data': [list(range(6))+[5]*6+list(range(6)), [0]*6+list(range(6))+[5]*6],\n",
    "            'color' : 'g',\n",
    "            'title' : 'Boundary and initial conditions'\n",
    "           },] + [\n",
    "           {'data': [[i]*6, list(range(6))],\n",
    "            'color' : 'g',\n",
    "            'title' : f'Step {5-i}'\n",
    "           } for i in range(4,-1,-1)]\n",
    "           \n",
    "\n",
    "def my_illustration_plot(to_plot):\n",
    "    fig,ax = plt.subplots(1)\n",
    "    for x in to_plot:\n",
    "        plt.scatter(*x['data'], s=300, c=x['color'])\n",
    "        plt.title(x['title'])\n",
    "#         plt.axis('on')\n",
    "        plt.xlim(-1,6)\n",
    "    ax.set_xticks([])\n",
    "    ax.set_yticks([])\n",
    "    plt.xlabel(\"Time\")\n",
    "    plt.ylabel(\"Stock\")\n",
    "    plt.show()\n",
    "    \n",
    "\n"
   ]
  },
  {
   "cell_type": "markdown",
   "id": "1a2296cf",
   "metadata": {
    "slideshow": {
     "slide_type": "slide"
    }
   },
   "source": [
    "## Overview"
   ]
  },
  {
   "cell_type": "code",
   "execution_count": null,
   "id": "d97807fd",
   "metadata": {
    "ExecuteTime": {
     "end_time": "2023-10-10T15:25:48.469595Z",
     "start_time": "2023-10-10T15:25:48.382571Z"
    },
    "slideshow": {
     "slide_type": "slide"
    }
   },
   "outputs": [],
   "source": [
    "my_illustration_plot(to_plot[:1])"
   ]
  },
  {
   "cell_type": "code",
   "execution_count": null,
   "id": "0ef801b4",
   "metadata": {
    "ExecuteTime": {
     "end_time": "2023-10-10T15:25:53.521952Z",
     "start_time": "2023-10-10T15:25:53.413887Z"
    },
    "slideshow": {
     "slide_type": "slide"
    }
   },
   "outputs": [],
   "source": [
    "my_illustration_plot(to_plot[:2])"
   ]
  },
  {
   "cell_type": "code",
   "execution_count": null,
   "id": "d94f61f2",
   "metadata": {
    "ExecuteTime": {
     "end_time": "2023-10-10T15:25:53.963087Z",
     "start_time": "2023-10-10T15:25:53.850063Z"
    },
    "slideshow": {
     "slide_type": "slide"
    }
   },
   "outputs": [],
   "source": [
    "my_illustration_plot(to_plot[:3])"
   ]
  },
  {
   "cell_type": "code",
   "execution_count": null,
   "id": "450d8f0a",
   "metadata": {
    "ExecuteTime": {
     "end_time": "2023-10-10T15:25:54.376219Z",
     "start_time": "2023-10-10T15:25:54.249192Z"
    },
    "slideshow": {
     "slide_type": "slide"
    }
   },
   "outputs": [],
   "source": [
    "my_illustration_plot(to_plot[:4])"
   ]
  },
  {
   "cell_type": "code",
   "execution_count": null,
   "id": "e7bc0b92",
   "metadata": {
    "ExecuteTime": {
     "end_time": "2023-10-10T15:25:54.759393Z",
     "start_time": "2023-10-10T15:25:54.621373Z"
    },
    "slideshow": {
     "slide_type": "slide"
    }
   },
   "outputs": [],
   "source": [
    "my_illustration_plot(to_plot[:5])"
   ]
  },
  {
   "cell_type": "code",
   "execution_count": null,
   "id": "78b72de7",
   "metadata": {
    "ExecuteTime": {
     "end_time": "2023-10-10T15:25:55.189531Z",
     "start_time": "2023-10-10T15:25:55.045502Z"
    },
    "slideshow": {
     "slide_type": "slide"
    }
   },
   "outputs": [],
   "source": [
    "my_illustration_plot(to_plot[:6])"
   ]
  },
  {
   "cell_type": "code",
   "execution_count": null,
   "id": "b9f8375c",
   "metadata": {
    "ExecuteTime": {
     "end_time": "2023-10-10T15:25:55.662992Z",
     "start_time": "2023-10-10T15:25:55.508949Z"
    },
    "slideshow": {
     "slide_type": "slide"
    }
   },
   "outputs": [],
   "source": [
    "my_illustration_plot(to_plot[:7])"
   ]
  },
  {
   "cell_type": "markdown",
   "id": "a6ef7591",
   "metadata": {
    "slideshow": {
     "slide_type": "slide"
    }
   },
   "source": [
    "# Finite differences Formulae:\n",
    "\n",
    "Under suitable continuity and differentiability hypotheses, Taylor’s theorem states\n",
    "that a function f(x) may be expressed as\n",
    "$$f(x ∓ h) = f(x) ∓ hf′(x) + \\frac{1}{2}h^2 f′′(x) ∓ \\frac{1}{6} h^3 f′′′(x) + O(h^4) $$\n",
    "If the terms of order $h^2$ and higher are neglected, then the series gives:\n",
    "\n",
    "$$f'(x) = \\dfrac{f(x+h)-f(x)}{h} + O(h) \\approx \\dfrac{f(x+h)-f(x)}{h}  \\quad (forward)$$\n",
    "\n",
    "$$f'(x) = \\dfrac{f(x)-f(x-h)}{h} + O(h) \\approx  \\dfrac{f(x)-f(x-h)}{h}  \\quad (backward)$$\n",
    "\n"
   ]
  },
  {
   "cell_type": "markdown",
   "id": "be2e18a0",
   "metadata": {
    "slideshow": {
     "slide_type": "slide"
    }
   },
   "source": [
    "On the other hand, subtracting the Taylor series for $f(x + h)$ and $f(x − h)$,\n",
    "we obtain another finite difference formula,\n",
    "\n",
    "$$f'(x) = \\dfrac{f(x+h)-f(x-h)}{2h}+ O(h^2)\\approx  \\dfrac{f(x+h)-f(x-h)}{2h} \\quad (central)$$"
   ]
  },
  {
   "cell_type": "code",
   "execution_count": null,
   "id": "77b2efc8",
   "metadata": {
    "ExecuteTime": {
     "end_time": "2023-10-10T15:25:59.283307Z",
     "start_time": "2023-10-10T15:25:59.265286Z"
    },
    "slideshow": {
     "slide_type": "slide"
    }
   },
   "outputs": [],
   "source": [
    "from typing import Callable\n",
    "def first_order_finite_diff(diff_type: str, x: float, h: float, my_func: Callable):\n",
    "    \"\"\"\n",
    "    diff_type: str      ['forward', 'central', 'backward']\n",
    "    x: float            Where the finite difference is calculated\n",
    "    h: float            Step size of the finite difference\n",
    "    my_func: Callable   Takes 1 float, returns 1 float\n",
    "    \"\"\"\n",
    "    # TODO: Implement your finite differential function\n",
    "    \n",
    "    return\n",
    "    \n",
    "first_order_finite_diff(\"forward\", 0, 1, lambda x: x*x+5)"
   ]
  },
  {
   "cell_type": "code",
   "execution_count": null,
   "id": "996f3bbb",
   "metadata": {
    "ExecuteTime": {
     "end_time": "2023-10-10T15:25:59.726392Z",
     "start_time": "2023-10-10T15:25:59.714387Z"
    },
    "slideshow": {
     "slide_type": "slide"
    }
   },
   "outputs": [],
   "source": [
    "import matplotlib.pyplot as plt\n",
    "import numpy as np\n",
    "\n",
    "# Illustrate the finite differences on any function\n",
    "my_func = lambda x : np.square(x)+5\n",
    "x0 = 1.0\n",
    "h = 1.0\n",
    "\n",
    "x = np.linspace(x0-1.2*h, x0+1.2*h, num=50)\n",
    "f = my_func(x)\n",
    "\n",
    "types = {\"forward\": (0., 1.), \"central\": (-1., 1.), \"backward\": (-1., 0.)}\n",
    "slopes = {key:first_order_finite_diff(key, x0, h, my_func) for key in types.keys()}\n",
    "\n",
    "data = [(\"f(x)\", x, f),]\n",
    "for name, shifts in types.items():\n",
    "    x_values = np.array([x0+shifts[0]*h, x0+shifts[1]*h])\n",
    "    y_values = my_func(x0)+slopes[name]*(x_values-x0)\n",
    "    data.append((name, x_values, y_values))"
   ]
  },
  {
   "cell_type": "code",
   "execution_count": null,
   "id": "03021a38",
   "metadata": {
    "ExecuteTime": {
     "end_time": "2023-10-10T15:26:00.332641Z",
     "start_time": "2023-10-10T15:26:00.066556Z"
    },
    "slideshow": {
     "slide_type": "slide"
    }
   },
   "outputs": [],
   "source": [
    "fig, ax = plt.subplots()\n",
    "for label, x, y in data:\n",
    "    ax.plot(x, y, label=label)\n",
    "    \n",
    "ax.legend()\n",
    "ax.plot"
   ]
  },
  {
   "cell_type": "markdown",
   "id": "d0b12792",
   "metadata": {
    "slideshow": {
     "slide_type": "slide"
    }
   },
   "source": [
    "# Extention to second order differences:\n",
    "* Forward: $f''(x) \\approx \\dfrac{\\dfrac{f(x+2h)-f(x+h)}{h}-\\cfrac{f(x+h)-f(x)}{h}}{h} = \\cfrac{f(x+2h)-2f(x+h)+f(x)}{h^2}$\n",
    "* Central: $f''(x) \\approx \\dfrac{\\dfrac{f(x+h)-f(x)}{h}-\\cfrac{f(x)-f(x-h)}{h}}{h} = \\cfrac{f(x+h)-2f(x)+f(x-h)}{h^2}$\n",
    "* Backward: $f''(x) \\approx \\dfrac{\\dfrac{f(x)-f(x-h)}{h}-\\cfrac{f(x-h)-f(x-2h)}{h}}{h} = \\cfrac{f(x)-2f(x-h)+f(x-2h)}{h^2}$"
   ]
  },
  {
   "cell_type": "markdown",
   "id": "31b59424",
   "metadata": {
    "slideshow": {
     "slide_type": "slide"
    }
   },
   "source": [
    "## Example: The heat equation:\n",
    "* Consider the PDE.: $\\dfrac{\\partial U}{\\partial t} = \\dfrac{\\partial ^2 U }{\\partial x^2}$ or: $U_t=U_{xx}$,  $\\quad 0<x<1, t>0$\n",
    "* Boundary condition: $U(0,t) = U(1,t)=0, \\quad t \\geq 0 $ \n",
    "* Initial condition: $U(x,0) = U_0(x) \\quad for \\quad  0 \\leq x \\leq 1$"
   ]
  },
  {
   "cell_type": "code",
   "execution_count": null,
   "id": "355185f4",
   "metadata": {
    "ExecuteTime": {
     "end_time": "2023-10-10T15:26:01.505753Z",
     "start_time": "2023-10-10T15:26:01.490755Z"
    },
    "slideshow": {
     "slide_type": "fragment"
    }
   },
   "outputs": [],
   "source": [
    "import numpy as np\n",
    "\n",
    "def heat_simple_solution(x, t):\n",
    "    return 10.*np.exp(-1.0*np.pi**2.*t)*np.sin(np.pi * x)"
   ]
  },
  {
   "cell_type": "code",
   "execution_count": null,
   "id": "4a88e88a",
   "metadata": {
    "ExecuteTime": {
     "end_time": "2023-10-10T15:26:01.840045Z",
     "start_time": "2023-10-10T15:26:01.816035Z"
    },
    "slideshow": {
     "slide_type": "skip"
    }
   },
   "outputs": [],
   "source": [
    "import numpy as np\n",
    "from matplotlib import cm\n",
    "import matplotlib.pyplot as plt\n",
    "\n",
    "def plot_2d(x_min_max_Nstep, y_min_max_Nstep, analytic_func=None, grid_values=None,\n",
    "            labels={'x':'x', 'y':'t', 'z':'Value'}, z_lim=None):\n",
    "    assert (analytic_func is not None or grid_values is not None), \"Analytical function or grid_values needed as imput\"\n",
    "    for needed_label in ['x', 'y', 'z']:\n",
    "        assert needed_label in labels, f\"The {needed_label} is missing from {labels}\"\n",
    "    if grid_values is not None:\n",
    "        exp_grid_shape = (y_min_max_Nstep[2], x_min_max_Nstep[2], )\n",
    "        assert grid_values.shape == exp_grid_shape,\\\n",
    "                f\"Incorrect Grid shape: expected: {exp_grid_shape}, actual: {grid_values.shape}\"\n",
    "    \n",
    "    xs = np.linspace(*x_min_max_Nstep)\n",
    "    ys = np.linspace(*y_min_max_Nstep)\n",
    "    grid_x, grid_y = np.meshgrid(xs, ys)\n",
    "    fig, ax = plt.subplots(subplot_kw={'projection': '3d'})\n",
    "    if analytic_func is not None:\n",
    "        values = analytic_func(grid_x, grid_y)\n",
    "        ax.plot_surface(grid_x, grid_y, values, cmap=cm.coolwarm, linewidth=0, antialiased=False, alpha=0.8)\n",
    "    if grid_values is not None:\n",
    "        ax.plot_surface(grid_x, grid_y, grid_values, cmap=cm.coolwarm, linewidth=0, antialiased=False, alpha=0.8)\n",
    "    ax.set_xlabel(labels['x'], fontweight='bold')\n",
    "    ax.set_ylabel(labels['y'], fontweight='bold')\n",
    "    ax.set_zlabel(labels['z'], fontweight='bold')\n",
    "    if z_lim is not None:\n",
    "        ax.set_zlim(*z_lim)\n",
    "    plt.show()\n",
    "    if analytic_func is not None and grid_values is not None:\n",
    "        diff = grid_values-values\n",
    "        fig, ax = plt.subplots(subplot_kw={'projection': '3d'})\n",
    "        ax.plot_surface(grid_x, grid_y, diff, cmap=cm.coolwarm, linewidth=0, antialiased=False, alpha=0.8)\n",
    "        ax.set_xlabel(labels['x'], fontweight='bold')\n",
    "        ax.set_ylabel(labels['y'], fontweight='bold')\n",
    "        ax.set_zlabel(labels['z'], fontweight='bold')\n",
    "        ax.title.set_text(\"Diff\")\n",
    "        plt.show()"
   ]
  },
  {
   "cell_type": "code",
   "execution_count": null,
   "id": "86172ac5",
   "metadata": {
    "ExecuteTime": {
     "end_time": "2023-10-10T15:26:02.264196Z",
     "start_time": "2023-10-10T15:26:02.041150Z"
    },
    "slideshow": {
     "slide_type": "slide"
    }
   },
   "outputs": [],
   "source": [
    "plot_2d((0., 1., 100), (0., 1., 5), heat_simple_solution, labels={'x':'x', 'y':'t', 'z':'Values'})"
   ]
  },
  {
   "cell_type": "markdown",
   "id": "db7f1051",
   "metadata": {
    "slideshow": {
     "slide_type": "fragment"
    }
   },
   "source": [
    "# TODO:\n",
    "* Given: Initial condition $U(x, 0)$ \n",
    "* TODO: Find method for $U(x, t) \\rightarrow U(x, t+\\Delta t)$"
   ]
  },
  {
   "cell_type": "markdown",
   "id": "721bf52b",
   "metadata": {
    "slideshow": {
     "slide_type": "slide"
    }
   },
   "source": [
    "## Create a grid as follows:\n",
    "* Grid points: $u(x_j, t_n)$ or $u_{j,n}$ in short\n",
    "* Grid partiion:\n",
    "  * space: $x_0$=0, $x_1$, ... $x_J=1$, and $\\Delta x := x_{i+1}-x_i = 1/J$\n",
    "  * time: $t_0$=0, $t_1$, ... $t_N=T$, and $\\Delta t := t_{i+1}-t_i = T/N$"
   ]
  },
  {
   "cell_type": "markdown",
   "id": "55feb6f9",
   "metadata": {},
   "source": [
    "# Add stencil picture"
   ]
  },
  {
   "cell_type": "code",
   "execution_count": null,
   "id": "203e2b3d",
   "metadata": {
    "ExecuteTime": {
     "end_time": "2023-10-10T15:26:02.821540Z",
     "start_time": "2023-10-10T15:26:02.801537Z"
    },
    "scrolled": true,
    "slideshow": {
     "slide_type": "slide"
    }
   },
   "outputs": [],
   "source": [
    "def get_my_heat_grid(J=20, N=20, T_max=1., initial_cond = lambda x: heat_simple_solution(x, 0)):\n",
    "    \"\"\"\n",
    "    Returns a heat grid, space step size and time step size\n",
    "    The grid is almost empty, only boundary and initial condition is initialized.\n",
    "    J: int number of spacial steps\n",
    "    N: int number of time steps\n",
    "    initial_con: Callable float->float Returns the t=0 state\n",
    "    \"\"\"\n",
    "    dx = 1./(J-1)\n",
    "    dt = T_max/(N-1)\n",
    "    \n",
    "    grid = np.zeros(shape=(J, N), dtype=float)\n",
    "    grid[:,0] = heat_simple_solution(np.linspace(0.,1.,J), 0)\n",
    "    \n",
    "    return {\"grid\": grid, \"dx\": dx, \"dt\": dt}"
   ]
  },
  {
   "cell_type": "code",
   "execution_count": null,
   "id": "67a76d68",
   "metadata": {
    "ExecuteTime": {
     "end_time": "2023-10-10T15:26:03.250788Z",
     "start_time": "2023-10-10T15:26:03.084741Z"
    },
    "scrolled": true,
    "slideshow": {
     "slide_type": "slide"
    }
   },
   "outputs": [],
   "source": [
    "x_step = 5\n",
    "t_step = 4\n",
    "my_grid = get_my_heat_grid(x_step,t_step)[\"grid\"]\n",
    "# print(my_grid)\n",
    "\n",
    "plot_2d((0, 1, x_step), (0, 1, t_step), grid_values=my_grid.T)"
   ]
  },
  {
   "cell_type": "markdown",
   "id": "76bbf13e",
   "metadata": {
    "slideshow": {
     "slide_type": "slide"
    }
   },
   "source": [
    "# Explicit method:\n",
    "* **Forward** time difference\n",
    "* Central space difference\n",
    "\n",
    "$$U_t = U_{xx}$$\n",
    "numerical diffs at $u(x_j, t_n)$:\n",
    "$$\\dfrac{u_{j, n+1}-u_{j, n}}{\\Delta t} = \\dfrac{u_{j+1, n}-2u_{j,n}+u_{j-1,n}}{\\Delta x^2}$$\n",
    "\n",
    "$$u_{j, n+1} = \\left(1-2r\\right) u_{j,n} + r(u_{j+1, n}+u_{j-1, n})$$\n",
    "\n",
    "Where: $r = \\Delta t/\\Delta x^2$"
   ]
  },
  {
   "cell_type": "markdown",
   "id": "74667d38",
   "metadata": {
    "slideshow": {
     "slide_type": "slide"
    }
   },
   "source": [
    "$$ \\underline{U}_{n+1} = \\underline{\\underline{M}}\\cdot \\underline{U}_n$$\n",
    "Where:\n",
    "* $M[j,j]=1-2r$,\n",
    "* $M[j,j-1]=M[j, j+1]=r$\n",
    "\n",
    "When $M$ is written out:\n",
    "$$\\left[\n",
    "\\begin{array}{cccccc}\n",
    "1-2r & r & 0 & 0 & \\ldots & 0\\\\\n",
    "r & 1-2r & r & 0 & \\ldots & 0\\\\\n",
    "0 & r & 1-2r & r & \\ldots & 0\\\\\n",
    "\\vdots & \\vdots & \\vdots & \\vdots & \\ddots & \\vdots \\\\\n",
    "0 & 0 & 0 & 0 & \\ldots & 1-2r\\\\\n",
    "\\end{array}\n",
    "\\right]\\cdot \\underline{U}_n = \\underline{U}_{n+1}$$"
   ]
  },
  {
   "cell_type": "code",
   "execution_count": null,
   "id": "73079556",
   "metadata": {
    "ExecuteTime": {
     "end_time": "2023-10-10T15:26:10.581962Z",
     "start_time": "2023-10-10T15:26:03.595408Z"
    },
    "slideshow": {
     "slide_type": "slide"
    }
   },
   "outputs": [],
   "source": [
    "x_step = 100\n",
    "t_step = 2*x_step**2\n",
    "\n",
    "explicit = get_my_heat_grid(x_step, t_step)\n",
    "explicit_grid = explicit[\"grid\"]\n",
    "explicit_dt = explicit[\"dt\"]\n",
    "explicit_dx = explicit[\"dx\"]\n",
    "\n",
    "#TODO: Implement your method\n",
    "explicit_r = explicit_dt/explicit_dx**2.0\n",
    "\n",
    "\n",
    "plot_2d((0, 1, x_step), (0, 1, t_step), grid_values=explicit_grid.T, z_lim=(0,10.))"
   ]
  },
  {
   "cell_type": "markdown",
   "id": "3af7d84f",
   "metadata": {
    "slideshow": {
     "slide_type": "slide"
    }
   },
   "source": [
    "# Implicit method:\n",
    "* **Backward** time difference\n",
    "* Central space difference\n",
    "\n",
    "$$U_t = U_{xx}$$\n",
    "numerical diffs at $u(x_j, t_n)$:\n",
    "$$\\dfrac{u_{j, n}-u_{j, n-1}}{\\Delta t} = \\dfrac{u_{j+1, n}-2u_{j,n}+u_{j-1,n}}{\\Delta x^2}$$\n",
    "\n",
    "$$\\left(1+2r\\right) u_{j,n} - r(u_{j+1, n}+u_{j-1, n}) = u_{j, n-1} $$"
   ]
  },
  {
   "cell_type": "markdown",
   "id": "cc3a4c4b",
   "metadata": {
    "slideshow": {
     "slide_type": "slide"
    }
   },
   "source": [
    "$$\\underline{\\underline{M}}\\cdot \\underline{U}_n = \\underline {U}_{n-1}$$\n",
    "Where:\n",
    "* $M[j,j]=1+2r$,\n",
    "* $M[j,j-1]=M[j, j+1]=-r$\n",
    "\n",
    "when $M$ is written out:\n",
    "$$\\left[\n",
    "\\begin{array}{cccccc}\n",
    "1+2r & -r & 0 & 0 & \\ldots & 0\\\\\n",
    "-r & 1+2r & -r & 0 & \\ldots & 0\\\\\n",
    "0 & -r & 1+2r & -r & \\ldots & 0\\\\\n",
    "\\vdots & \\vdots & \\vdots & \\vdots & \\ddots & \\vdots \\\\\n",
    "0 & 0 & 0 & 0 & \\ldots & 1+2r\\\\\n",
    "\\end{array}\n",
    "\\right]\\cdot \\underline{U}_n = \\underline{U}_{n-1}$$"
   ]
  },
  {
   "cell_type": "markdown",
   "id": "ab0572ce",
   "metadata": {
    "ExecuteTime": {
     "end_time": "2023-08-19T12:26:33.604088Z",
     "start_time": "2023-08-19T12:26:33.597091Z"
    },
    "slideshow": {
     "slide_type": "fragment"
    }
   },
   "source": [
    "$$\\underline{U}_n =\\underline{\\underline{M}}^{-1}\\cdot \\underline {U}_{n-1}$$\n",
    "\n",
    "[np.linalg.solve()](https://docs.scipy.org/doc/scipy/reference/generated/scipy.linalg.solve.html)"
   ]
  },
  {
   "cell_type": "code",
   "execution_count": null,
   "id": "a9754b18",
   "metadata": {
    "ExecuteTime": {
     "end_time": "2023-10-10T15:42:04.420107Z",
     "start_time": "2023-10-10T15:41:58.121680Z"
    },
    "slideshow": {
     "slide_type": "slide"
    }
   },
   "outputs": [],
   "source": [
    "from scipy import linalg\n",
    "\n",
    "x_step = 100\n",
    "t_step = 2*x_step**2\n",
    "\n",
    "implicit = get_my_heat_grid(x_step, t_step)\n",
    "implicit_grid = implicit[\"grid\"]\n",
    "implicit_dx = implicit[\"dx\"]\n",
    "implicit_dt = implicit[\"dt\"]\n",
    "implicit_r = implicit_dt/implicit_dx**2.\n",
    "\n",
    "#TODO: Implement your method\n",
    "\n",
    "\n",
    "for n in range(1, t_step):\n",
    "    implicit_grid[1:-1,n] = linalg.solve(implicit_M, implicit_grid[1:-1,n-1], assume_a='sym')"
   ]
  },
  {
   "cell_type": "code",
   "execution_count": null,
   "id": "d5473cd3",
   "metadata": {
    "ExecuteTime": {
     "end_time": "2023-10-10T15:42:08.415063Z",
     "start_time": "2023-10-10T15:42:04.425092Z"
    },
    "slideshow": {
     "slide_type": "slide"
    }
   },
   "outputs": [],
   "source": [
    "plot_2d((0, 1, x_step), (0, 1, t_step), grid_values=implicit_grid.T, z_lim=(0,10.))"
   ]
  },
  {
   "cell_type": "markdown",
   "id": "ded8a00e",
   "metadata": {
    "slideshow": {
     "slide_type": "slide"
    }
   },
   "source": [
    "## The boundary-condition:\n",
    "$$\\underline{\\underline{M}}\\cdot \\underline{U}_n = \\underline {U}_{n-1}$$\n",
    "As a system of equations:\n",
    "$$M[0,0]*U_n[0]+M[0,1]*U_n[1]+\\ldots+M[0,J]*U_n[J] = U_{n-1}[0]$$\n",
    "$$\\vdots$$\n",
    "$$M[J,0]*U_n[0]+M[J,1]*U_n[1]+\\ldots+M[J,J]*U_n[J] = U_{n-1}[J]$$"
   ]
  },
  {
   "cell_type": "markdown",
   "id": "8c59e70d",
   "metadata": {
    "slideshow": {
     "slide_type": "fragment"
    }
   },
   "source": [
    "But $U_n[0]$ and $U_n[J]$ are given by the boundary condition. We have to solve the equation system only for $U_n[i]$ for $i\\in\\{1, \\ldots ,J-1\\}$"
   ]
  },
  {
   "cell_type": "markdown",
   "id": "5ce83590",
   "metadata": {
    "slideshow": {
     "slide_type": "slide"
    }
   },
   "source": [
    "Central space derivate is not calcable for $j=0$ and $j=N$. E.g. the first and the last equation is not true. Easier to see, when $M$ is written out:\n",
    "$$\\left[\n",
    "\\begin{array}{cccccc}\n",
    "1+2r & -r & 0 & 0 & \\ldots & 0\\\\\n",
    "-r & 1+2r & -r & 0 & \\ldots & 0\\\\\n",
    "0 & -r & 1+2r & -r & \\ldots & 0\\\\\n",
    "\\vdots & \\vdots & \\vdots & \\vdots & \\ddots & \\vdots \\\\\n",
    "0 & 0 & 0 & 0 & \\ldots & 1+2r\\\\\n",
    "\\end{array}\n",
    "\\right]\\cdot \\underline{U}_n = \\underline{U}_{n-1}$$"
   ]
  },
  {
   "cell_type": "markdown",
   "id": "497e27c0",
   "metadata": {
    "slideshow": {
     "slide_type": "fragment"
    }
   },
   "source": [
    "Due to the boundary conditions $U_n[0]=U_n[J]=U_{n-1}[0]=U_{n-1}[J]=0$ one can also omit the first and last column of $M$."
   ]
  },
  {
   "cell_type": "markdown",
   "id": "9e546328",
   "metadata": {
    "slideshow": {
     "slide_type": "fragment"
    }
   },
   "source": [
    "Therefore the equations to solve is:\n",
    "$$\\sum_{j\\in\\{1,\\ldots,J-1\\}}M[i,j]U_n[j]=U_{n-1}[i]$$\n",
    "for $i \\in\\{1,\\ldots,J-1\\}$"
   ]
  },
  {
   "cell_type": "markdown",
   "id": "c573e042",
   "metadata": {
    "slideshow": {
     "slide_type": "slide"
    }
   },
   "source": [
    "# Crank-Nicolson method:\n",
    "* Combine explicit and implicit method:\n",
    "1. Take  explicit at $u(x_j, t_n)$:\n",
    "$$\\frac{u_{j, n+1}-u_{j, n}}{\\Delta t} = \\frac{u_{j+1, n}-2u_{j,n}+u_{j-1,n}}{\\Delta x^2}$$\n",
    "1. Take implicit at $u(x_j, t_{n+1})$:\n",
    "$$\\frac{u_{j, n+1}-u_{j, n}}{\\Delta t} = \\frac{u_{j+1, n+1}-2u_{j,n+1}+u_{j-1,n+1}}{\\Delta x^2}$$\n",
    "1. Average them:\n",
    "$$\\frac{u_{j, n+1}-u_{j, n}}{\\Delta t} = \\frac{1}{2}\\left(\\frac{u_{j+1, n}-2u_{j,n}+u_{j-1,n}}{\\Delta x^2}+ \\frac{u_{j+1, n+1}-2u_{j,n+1}+u_{j-1,n+1}}{\\Delta x^2}\\right)$$\n",
    "\n",
    "$$\\left(2+2r\\right) u_{j,n+1} - r(u_{j+1, n+1}+u_{j-1, n+1}) = (2-2r)u_{j,n}+r(u_{j-1, n}+u_{j+1, n}) $$\n",
    "\n",
    "$$\\underline{\\underline{M}}\\underline{U}_{n+1}=\\underline{\\underline{A}}\\underline{U}_{n}$$"
   ]
  },
  {
   "cell_type": "markdown",
   "id": "4032caeb",
   "metadata": {
    "slideshow": {
     "slide_type": "slide"
    }
   },
   "source": [
    "$$\\left(2+2r\\right) u_{j,n+1} - r(u_{j+1, n+1}+u_{j-1, n+1}) = (2-2r)u_{j,n}+r(u_{j-1, n}+u_{j+1, n}) $$\n",
    "\n",
    "$$\\underline{\\underline{M}}\\underline{U}_{n+1}=\\underline{\\underline{A}}\\underline{U}_{n}$$"
   ]
  },
  {
   "cell_type": "code",
   "execution_count": null,
   "id": "e3ac31de",
   "metadata": {
    "ExecuteTime": {
     "end_time": "2023-10-10T15:26:17.540714Z",
     "start_time": "2023-10-10T15:26:17.471705Z"
    },
    "slideshow": {
     "slide_type": "slide"
    }
   },
   "outputs": [],
   "source": [
    "x_step = 100\n",
    "t_step = 100\n",
    "\n",
    "cn = get_my_heat_grid(x_step, t_step)\n",
    "cn_grid = cn[\"grid\"]\n",
    "cn_dx = cn[\"dx\"]\n",
    "cn_dt = cn[\"dt\"]\n",
    "cn_r = cn_dt/cn_dx**2.\n",
    "\n",
    "#TODO: Implement Crank-Nicolson method\n",
    "\n",
    "for n in range(1, t_step):\n",
    "    au = np.dot(cn_A, cn_grid[:,n-1])\n",
    "    cn_grid[1:-1,n] = linalg.solve(cn_M, au[1:-1], assume_a='sym')"
   ]
  },
  {
   "cell_type": "code",
   "execution_count": null,
   "id": "4db01f2e",
   "metadata": {
    "ExecuteTime": {
     "end_time": "2023-10-10T15:26:18.512784Z",
     "start_time": "2023-10-10T15:26:17.544713Z"
    },
    "slideshow": {
     "slide_type": "slide"
    }
   },
   "outputs": [],
   "source": [
    "plot_2d((0, 1, x_step), (0, 1, t_step), grid_values=cn_grid.T, z_lim=(0,10.))"
   ]
  },
  {
   "cell_type": "markdown",
   "id": "d909046f",
   "metadata": {
    "slideshow": {
     "slide_type": "slide"
    }
   },
   "source": [
    "# Convergence Criteria\n",
    "\n",
    "<center>\n",
    "    \n",
    "|                    | Explicit        | Implicit               | Crank-Nicolson        |\n",
    "|:-------------------|:---------------:|:----------------------:|:---------------------:|\n",
    "| Stable             | r $\\leq$ 1/2    | always                 | always                |\n",
    "| Numerically        | Simple          | Intensive ($M^{-1}$)   | Intensive ($M^{-1}$)  |\n",
    "| Error ($\\Delta u$) | O(k)+O(h$^2$)   | O(k)+O(h$^2$)          | O(k$^2$)+O(h$^2$)     | \n",
    "    \n",
    "</center>"
   ]
  },
  {
   "cell_type": "markdown",
   "id": "46b2f98a",
   "metadata": {
    "slideshow": {
     "slide_type": "slide"
    }
   },
   "source": [
    "# Pricing"
   ]
  },
  {
   "cell_type": "markdown",
   "id": "2c5886d9",
   "metadata": {
    "slideshow": {
     "slide_type": "slide"
    }
   },
   "source": [
    "# Black-Scholes equation:\n",
    "$$\\frac{\\partial V}{\\partial t}+\\frac 1 2 \\sigma^2 S^2 \\frac{\\partial ^2 V}{\\partial S^2} + rS\\frac{\\partial V}{\\partial S}-rV = 0$$"
   ]
  },
  {
   "cell_type": "markdown",
   "id": "bf86da93",
   "metadata": {
    "slideshow": {
     "slide_type": "fragment"
    }
   },
   "source": [
    "<h2 align=\"center\"> Look harder </h1>"
   ]
  },
  {
   "cell_type": "markdown",
   "id": "fbb7c984",
   "metadata": {
    "slideshow": {
     "slide_type": "slide"
    }
   },
   "source": [
    "$x=\\log(S/S_0)$\n",
    "$$-\\frac{\\partial V(x,t)}{\\partial t} = \\left[-r + (r-\\frac{\\sigma^2}{2})\\frac{\\partial}{\\partial x} + \\frac{\\sigma^2}{2}\\frac{\\partial ^2}{\\partial x^2}\\right]V(x,t)$$\n"
   ]
  },
  {
   "cell_type": "markdown",
   "id": "c4493eb3",
   "metadata": {
    "slideshow": {
     "slide_type": "fragment"
    }
   },
   "source": [
    "$x=\\log(S/S_0)$\n",
    "$$-\\frac{\\partial V(x,t)}{\\partial t} = \\left[-r + (r-\\frac{\\sigma^2}{2})\\frac{\\partial}{\\partial x} + \\frac{\\sigma^2}{2}\\frac{\\partial ^2}{\\partial x^2}\\right]V(x,t)$$\n"
   ]
  },
  {
   "cell_type": "markdown",
   "id": "3939c598",
   "metadata": {
    "slideshow": {
     "slide_type": "slide"
    }
   },
   "source": [
    "$$-\\frac{\\partial V_j(t)}{\\partial t} = \\left[-r + (r-\\frac{\\sigma^2}{2})\\frac{1}{\\Delta x}\\underline{\\underline{D1}} + \\frac{\\sigma^2}{2}\\frac{1}{\\Delta x^2}\\underline{\\underline{D2}}\\right]V_j(t)$$\n",
    "Where:\n",
    "* $D1_{j, j+1}=-D1_{j, j-1}=0.5$ (given $D1$ is central difference)\n",
    "* $D2_{j, j-1}=D2_{j, j+1}=1$ and $D2_{j,j}=-2$"
   ]
  },
  {
   "cell_type": "markdown",
   "id": "417e0473",
   "metadata": {
    "slideshow": {
     "slide_type": "slide"
    }
   },
   "source": [
    "$$-\\frac{\\partial V_j(t)}{\\partial t} = \\left[-r + (r-\\frac{\\sigma^2}{2})\\frac{1}{\\Delta x}\\underline{\\underline{D1}} + \\frac{\\sigma^2}{2}\\frac{1}{\\Delta x^2}\\underline{\\underline{D2}}\\right]V_j(t)$$"
   ]
  },
  {
   "cell_type": "markdown",
   "id": "a24af9f4",
   "metadata": {
    "slideshow": {
     "slide_type": "fragment"
    }
   },
   "source": [
    "$$-\\frac{\\partial V_j(t)}{\\partial t} = \\underline{\\underline{A_{BS}}}\\cdot V_j(t)$$\n",
    "Where:\n",
    "* $A_{BS}=-r\\mathbb{1} + \\left(r-\\frac{\\sigma ^2}{2}\\right)\\frac{1}{\\Delta x}\\mathbb{D1} + \\frac{\\sigma^2}{2}\\frac{1}{\\Delta x^2}\\mathbb{D2}$"
   ]
  },
  {
   "cell_type": "code",
   "execution_count": null,
   "id": "f3b36249",
   "metadata": {
    "ExecuteTime": {
     "end_time": "2023-10-10T15:26:18.528791Z",
     "start_time": "2023-10-10T15:26:18.514785Z"
    },
    "slideshow": {
     "slide_type": "subslide"
    }
   },
   "outputs": [],
   "source": [
    "#np.diag: https://numpy.org/doc/stable/reference/generated/numpy.diag.html\n",
    "\n",
    "def get_d1(n):\n",
    "    #First and last rows are incorrect, but they are given by boundary condition\n",
    "    return 0.5*(np.diag(np.ones(n-1), 1)-np.diag(np.ones(n-1), -1))\n",
    "\n",
    "def get_d2(n):\n",
    "    #First and last rows are incorrect, but they are given by boundary condition\n",
    "    return np.diag(np.ones(n-1), 1)+np.diag(-2.*np.ones(n))+np.diag(np.ones(n-1), -1)\n",
    "\n",
    "def get_a(n, dx, r, sig):\n",
    "    d = -1.*r*np.diag(np.ones(n))\n",
    "    d1 = (r-0.5*sig**2.)/dx * get_d1(n)\n",
    "    d2 = 0.5*sig**2./dx**2. * get_d2(n)\n",
    "    return d+d1+d2\n",
    "\n",
    "get_d1(4),\"\", get_d2(4), \"\", get_a(4, 0.8, 0.05, 0.0)"
   ]
  },
  {
   "cell_type": "markdown",
   "id": "4e7893e4",
   "metadata": {
    "slideshow": {
     "slide_type": "slide"
    }
   },
   "source": [
    "## Call option boundary conditions:\n",
    "* $V(S, T) = max(S-K, 0)$\n",
    "* $V(0, t) = 0$ (Never exercised.)\n",
    "* $V(S_{max}, t) = S_{max}-K\\exp(-r(T-t))$ (Always exercised -> It's a forward)"
   ]
  },
  {
   "cell_type": "markdown",
   "id": "6818de78",
   "metadata": {
    "slideshow": {
     "slide_type": "fragment"
    }
   },
   "source": [
    "#### With $x=\\log(S/K)$:\n",
    "* $V(x, T) = K\\max((e^x-1, 0))$\n",
    "* $V(x_{min}, t) = 0$ (Never exercised.)\n",
    "* $V(x_{max}, t) = K(\\exp(x_{max})-\\exp(-r(T-t)))$ (Always exercised -> It's a forward)"
   ]
  },
  {
   "cell_type": "code",
   "execution_count": null,
   "id": "015f43de",
   "metadata": {
    "ExecuteTime": {
     "end_time": "2023-10-10T15:26:18.544794Z",
     "start_time": "2023-10-10T15:26:18.531788Z"
    },
    "slideshow": {
     "slide_type": "subslide"
    }
   },
   "outputs": [],
   "source": [
    "#Practical infinity\n",
    "np.exp(4)"
   ]
  },
  {
   "cell_type": "code",
   "execution_count": null,
   "id": "9028f405",
   "metadata": {
    "ExecuteTime": {
     "end_time": "2023-10-10T15:26:20.552279Z",
     "start_time": "2023-10-10T15:26:18.547792Z"
    },
    "slideshow": {
     "slide_type": "slide"
    }
   },
   "outputs": [],
   "source": [
    "from scipy.stats import norm\n",
    "\n",
    "# Contract data\n",
    "K =100\n",
    "T = 2.\n",
    "\n",
    "# Market data\n",
    "R = 0.05\n",
    "SIGMA = 0.12\n",
    "\n",
    "\"\"\"The pricing function of European call option\"\"\"\n",
    "def black_scholes_eur_call(S0, time_to_mat):\n",
    "    d1_vec = ( np.log( S0 / K ) + ( R + 0.5 * SIGMA**2 ) * time_to_mat ) / ( SIGMA * time_to_mat**0.5 )\n",
    "    d2_vec = d1_vec - SIGMA * time_to_mat**0.5\n",
    "\n",
    "    N_d1_vec = norm.cdf(d1_vec)\n",
    "    N_d2_vec = norm.cdf(d2_vec)\n",
    "\n",
    "    return N_d1_vec * S0 - K * np.exp((-1.0)*R*time_to_mat) * N_d2_vec"
   ]
  },
  {
   "cell_type": "code",
   "execution_count": null,
   "id": "670874f2",
   "metadata": {
    "ExecuteTime": {
     "end_time": "2023-10-10T15:26:20.568277Z",
     "start_time": "2023-10-10T15:26:20.555273Z"
    },
    "scrolled": true,
    "slideshow": {
     "slide_type": "slide"
    }
   },
   "outputs": [],
   "source": [
    "def call_boundary(grid: np.ndarray, dx: float, dt: float):\n",
    "    \"\"\"\n",
    "    Assume grid is lin. spaced and grid[:,-1] is t=T.\n",
    "    \"\"\"\n",
    "    nx, nt = grid.shape\n",
    "    grid[0, :]  = 0.\n",
    "    grid[-1, :] = K*(np.exp(x_max) - np.exp(-R*(T-np.linspace(0.,T, nt))) )\n",
    "    grid[:,-1] = np.exp(np.maximum(np.array([0]*nx), np.linspace(x_min, x_max, nx)))*K-K\n",
    "    \n",
    "    return grid\n",
    "\n",
    "# Model parameters\n",
    "n_x = 6\n",
    "n_t = 4\n",
    "x_min, x_max = -4, 4\n",
    "\n",
    "dx = (x_max-x_min)/(n_x-1)\n",
    "dt = T/(n_t-1)\n",
    "\n",
    "my_grid = np.zeros((n_x, n_t))\n",
    "my_grid = call_boundary(my_grid, dx, dt)\n",
    "my_grid"
   ]
  },
  {
   "cell_type": "markdown",
   "id": "877f8cf9",
   "metadata": {
    "slideshow": {
     "slide_type": "slide"
    }
   },
   "source": [
    "# Explicit:\n",
    "* Backward time, central x differential:\n",
    "$$-\\frac{V_j(t)-V_j(t-\\Delta t)}{\\Delta t} =-\\frac{\\partial V_j(t)}{\\partial t} = \\mathbb{A}\\cdot V_j(t)$$\n",
    "$$V_{j}(t_{n-1})=\\left[\\Delta t \\mathbb{A} +\\mathbb{1}\\right]V_{j}(t_n)$$\n",
    "\n",
    "$\\sigma \\sqrt{\\Delta t}\\leq \\Delta x$"
   ]
  },
  {
   "cell_type": "code",
   "execution_count": null,
   "id": "565aa6af",
   "metadata": {
    "ExecuteTime": {
     "end_time": "2023-10-10T15:26:20.584280Z",
     "start_time": "2023-10-10T15:26:20.572278Z"
    },
    "scrolled": false,
    "slideshow": {
     "slide_type": "slide"
    }
   },
   "outputs": [],
   "source": [
    "def create_and_run_explicit_BS(n_x, n_t):\n",
    "    dx = (x_max-x_min)/(n_x-1)\n",
    "    dt = T/(n_t-1)\n",
    "    # print(dt*SIGMA**2./dx**2.)\n",
    "    \n",
    "    explicit_grid = np.zeros((n_x, n_t))\n",
    "    explicit_grid = call_boundary(explicit_grid, dx, dt)\n",
    "\n",
    "    matrix = dt*get_a(n_x, dx, R, SIGMA) + np.diag(np.ones(n_x))\n",
    "    \n",
    "    for n in range(1, n_t)[::-1]:\n",
    "        #Drop first and last rows\n",
    "        \n",
    "        \n",
    "    return explicit_grid"
   ]
  },
  {
   "cell_type": "code",
   "execution_count": null,
   "id": "09650423",
   "metadata": {
    "ExecuteTime": {
     "end_time": "2023-10-10T15:26:20.775323Z",
     "start_time": "2023-10-10T15:26:20.589281Z"
    },
    "slideshow": {
     "slide_type": "slide"
    }
   },
   "outputs": [],
   "source": [
    "n_x, n_t = 111, 111\n",
    "def create_run_plot(func):\n",
    "    numeric_solution = func(n_x,n_t)\n",
    "    Spots = np.exp(np.linspace(x_min, x_max, n_x))*K\n",
    "    \n",
    "    numeric_t0 = numeric_solution[:,0]\n",
    "    analytic = black_scholes_eur_call(Spots, T)\n",
    "    plt.plot(Spots, numeric_t0, \"o-\", label=func.__name__)\n",
    "    plt.plot(Spots, analytic, label=\"Analytical\")\n",
    "    up_lim=5*K\n",
    "    plt.xlim(0, up_lim)\n",
    "    plt.ylim(0,up_lim-K)\n",
    "    plt.legend()\n",
    "    plt.show()\n",
    "create_run_plot(create_and_run_explicit_BS)"
   ]
  },
  {
   "cell_type": "markdown",
   "id": "27d2ca6f",
   "metadata": {
    "slideshow": {
     "slide_type": "slide"
    }
   },
   "source": [
    "# Implicit:\n",
    "* Forward time, central x differential:\n",
    "$$-\\frac{V_j(t+\\Delta t)-V_j(t)}{\\Delta t} =-\\frac{\\partial V_j(t)}{\\partial t} = \\mathbb{A}\\cdot V_j(t)$$\n",
    "$$V_{j}(t_{n+1})=\\left[\\Delta t \\mathbb{A} -\\mathbb{1}\\right]V_{j}(t_{n})$$\n",
    "$$V_{j}(t_{n})=\\left[\\Delta t \\mathbb{A} -\\mathbb{1}\\right]^{-1}V_{j}(t_{n+1})$$"
   ]
  },
  {
   "cell_type": "code",
   "execution_count": null,
   "id": "62c71611",
   "metadata": {
    "ExecuteTime": {
     "end_time": "2023-10-10T15:26:20.791340Z",
     "start_time": "2023-10-10T15:26:20.780327Z"
    },
    "slideshow": {
     "slide_type": "slide"
    }
   },
   "outputs": [],
   "source": [
    "def create_and_run_implicit_BS(n_x, n_t):\n",
    "    dx = (x_max-x_min)/(n_x-1)\n",
    "    dt = T/(n_t-1)\n",
    "    \n",
    "    implicit_grid = np.zeros((n_x, n_t))\n",
    "    implicit_grid = call_boundary(implicit_grid, dx, dt)\n",
    "\n",
    "    matrix = dt*get_a(n_x, dx, R, SIGMA)-np.diag(np.ones(n_x))\n",
    "    \n",
    "    for n in range(1, n_t)[::-1]:\n",
    "        boundary = np.dot(matrix, implicit_grid[:,n-1])\n",
    "#         print(boundary)\n",
    "#         boundary = np.zeros(n_S)\n",
    "        implicit_grid[1:-1,n-1] = linalg.solve(matrix[1:-1,1:-1], implicit_grid[1:-1,n]-boundary[1:-1])\n",
    "        \n",
    "    return implicit_grid"
   ]
  },
  {
   "cell_type": "code",
   "execution_count": null,
   "id": "7c07158f",
   "metadata": {
    "ExecuteTime": {
     "end_time": "2023-10-10T15:26:21.417467Z",
     "start_time": "2023-10-10T15:26:20.793326Z"
    },
    "slideshow": {
     "slide_type": "slide"
    }
   },
   "outputs": [],
   "source": [
    "# n_x, n_t = 111, 111\n",
    "create_run_plot(create_and_run_implicit_BS)"
   ]
  },
  {
   "cell_type": "markdown",
   "id": "4b39e28a",
   "metadata": {
    "slideshow": {
     "slide_type": "slide"
    }
   },
   "source": [
    "# General:\n",
    "* Forward time, central x differential:\n",
    "$$-\\frac{V_j(t+\\Delta t)-V_j(t)}{\\Delta t} =\\theta \\mathbb{A} V_j(t+\\Delta t) + (1-\\theta)\\mathbb{A}V_j(t)$$\n",
    "\n",
    "$$V_{j}(t_{n})=\\left(\\mathbb{1}-(1-\\theta)\\Delta t\\mathbb{A}\\right)^{-1}\\left(\\mathbb{1} + \\theta\\Delta t\\mathbb{A}\\right)V_{j}(t_{n+1})$$\n",
    "\n",
    "* $\\theta=0$: Implicit\n",
    "* $\\theta=0.5$: Crank-Nicolson\n",
    "* $\\theta=1$: Explicit"
   ]
  },
  {
   "cell_type": "code",
   "execution_count": null,
   "id": "84d7be4f",
   "metadata": {
    "ExecuteTime": {
     "end_time": "2023-10-10T15:26:21.446476Z",
     "start_time": "2023-10-10T15:26:21.423469Z"
    },
    "slideshow": {
     "slide_type": "slide"
    }
   },
   "outputs": [],
   "source": [
    "def create_and_run_CN_BS(n_x, n_t):\n",
    "    theta=0.5\n",
    "    print(f\"theta={theta}\")\n",
    "    dx = (x_max-x_min)/(n_x-1)\n",
    "    dt = T/(n_t-1)\n",
    "    \n",
    "    cn_grid = np.zeros((n_x, n_t))\n",
    "    cn_grid = call_boundary(cn_grid, dx, dt)\n",
    "\n",
    "    matrix1 = (1.-theta)*dt*get_a(n_x, dx, R, SIGMA)-np.diag(np.ones(n_x))\n",
    "    matrix2 = np.diag(np.ones(n_x)) + theta*dt*get_a(n_x, dx, R, SIGMA)\n",
    "    \n",
    "    for n in range(1, n_t)[::-1]:\n",
    "        boundary = np.dot(matrix1, cn_grid[:,n-1])\n",
    "        cn_grid[1:-1,n-1] = linalg.solve(matrix1[1:-1,1:-1], np.dot(matrix2, cn_grid)[1:-1,n]-boundary[1:-1])\n",
    "        \n",
    "    return cn_grid"
   ]
  },
  {
   "cell_type": "code",
   "execution_count": null,
   "id": "3c9ad781",
   "metadata": {
    "ExecuteTime": {
     "end_time": "2023-10-10T15:26:22.356682Z",
     "start_time": "2023-10-10T15:26:21.448474Z"
    },
    "slideshow": {
     "slide_type": "slide"
    }
   },
   "outputs": [],
   "source": [
    "n_x, n_t = 111, 111\n",
    "create_run_plot(create_and_run_CN_BS)"
   ]
  },
  {
   "cell_type": "markdown",
   "id": "24bec219",
   "metadata": {
    "slideshow": {
     "slide_type": "slide"
    }
   },
   "source": [
    "# Summary\n",
    "### Pros\n",
    "* The PDE solution only used:\n",
    "  * Model parameters $(n_x, n_t)$\n",
    "  * Market parameters (R, SIGMA)\n",
    "  * No Contract information -> Payoff independent method\n",
    "  \n",
    " * Contract info was only used in boundary and terminal conditions0 "
   ]
  },
  {
   "cell_type": "markdown",
   "id": "7e6215c1",
   "metadata": {
    "ExecuteTime": {
     "end_time": "2023-08-21T22:37:23.994901Z",
     "start_time": "2023-08-21T22:37:23.975884Z"
    },
    "slideshow": {
     "slide_type": "subslide"
    }
   },
   "source": [
    "# Summary\n",
    " ### Cons\n",
    " * Explicit sometimes not convergent\n",
    " * Implicit and CN numerically expensive\n",
    " * Addig further stock process is expensive"
   ]
  },
  {
   "cell_type": "markdown",
   "id": "f87584c3",
   "metadata": {
    "slideshow": {
     "slide_type": "slide"
    }
   },
   "source": [
    "# Projects (30 pts):\n",
    "\n",
    "Suppose $S_1(t)$ and $S_2(t)$ are independent stock processes with equal volatility. $S_1(0)=S_2(0)=100.$\n",
    "The contract at maturity pays the value of the most expensive stock: $V(T)=\\max_i\\{S_1(T),S_2(T)\\}.$\n",
    "* What is the formula for the fair value of the contract, $V(0)$?         \n",
    "* Derive the partial differential equation for this contract              \n",
    "* Solve the resultant PDE using Finite Difference Method                   \n",
    "* Compare the results obtained through solving the PDE with Monte Carlo Method  "
   ]
  },
  {
   "cell_type": "markdown",
   "id": "ecabf8ca",
   "metadata": {
    "slideshow": {
     "slide_type": "slide"
    }
   },
   "source": [
    "# References:\n",
    "[J. M. Schumacher: Introduction to Financial Derivatives, Open Press TiU](https://pure.uvt.nl/ws/files/51558907/INTRODUCTION_TO_FINANCIAL_DERIVATIVES.pdf)"
   ]
  }
 ],
 "metadata": {
  "celltoolbar": "Slideshow",
  "kernelspec": {
   "display_name": "Python 3 (ipykernel)",
   "language": "python",
   "name": "python3"
  },
  "language_info": {
   "codemirror_mode": {
    "name": "ipython",
    "version": 3
   },
   "file_extension": ".py",
   "mimetype": "text/x-python",
   "name": "python",
   "nbconvert_exporter": "python",
   "pygments_lexer": "ipython3",
   "version": "3.9.7"
  }
 },
 "nbformat": 4,
 "nbformat_minor": 5
}
